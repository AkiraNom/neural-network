{
 "cells": [
  {
   "cell_type": "markdown",
   "id": "882cdd74-7f63-406a-a863-1bce957dd90b",
   "metadata": {},
   "source": [
    "# Tensor"
   ]
  },
  {
   "cell_type": "code",
   "execution_count": 18,
   "id": "15189e07-df6a-4c2e-b0de-649e8a37439c",
   "metadata": {},
   "outputs": [
    {
     "data": {
      "text/plain": [
       "<torch._C.Generator at 0x7f3dc499b2f0>"
      ]
     },
     "execution_count": 18,
     "metadata": {},
     "output_type": "execute_result"
    }
   ],
   "source": [
    "import torch\n",
    "import numpy as np\n",
    "torch.manual_seed(42)"
   ]
  },
  {
   "cell_type": "code",
   "execution_count": 27,
   "id": "8d3d9102-abd3-4f9a-8b50-9f7dd0845fb2",
   "metadata": {},
   "outputs": [
    {
     "name": "stdout",
     "output_type": "stream",
     "text": [
      "tensor([[0.9516, 0.0753, 0.8860],\n",
      "        [0.5832, 0.3376, 0.8090],\n",
      "        [0.5779, 0.9040, 0.5547]])\n",
      "tensor([[5.9516, 5.0753, 5.8860],\n",
      "        [5.5832, 5.3376, 5.8090],\n",
      "        [5.5779, 5.9040, 5.5547]])\n"
     ]
    }
   ],
   "source": [
    "# broadcasting\n",
    "a  = torch.rand(3,3)\n",
    "scaler = 5\n",
    "print(a)\n",
    "print(a+scaler)"
   ]
  },
  {
   "cell_type": "code",
   "execution_count": 29,
   "id": "744db63d-1a04-4240-970b-8dc3dfb28f74",
   "metadata": {},
   "outputs": [
    {
     "name": "stdout",
     "output_type": "stream",
     "text": [
      "tensor([[0.9516, 0.0753, 0.8860],\n",
      "        [0.5832, 0.3376, 0.8090],\n",
      "        [0.5779, 0.9040, 0.5547]]) tensor([[0.7104, 0.9464, 0.7890]])\n",
      "tensor([[1.6620, 1.0217, 1.6750],\n",
      "        [1.2936, 1.2841, 1.5980],\n",
      "        [1.2884, 1.8504, 1.3437]])\n"
     ]
    }
   ],
   "source": [
    "# (3,3) + (1,3)\n",
    "b = torch.rand(1,3)\n",
    "print(a, b)\n",
    "print(a+b)"
   ]
  },
  {
   "cell_type": "code",
   "execution_count": 30,
   "id": "9c625c37-03f3-47e5-bffb-c8703090e624",
   "metadata": {},
   "outputs": [
    {
     "name": "stdout",
     "output_type": "stream",
     "text": [
      "tensor([[4.5000, 4.5000],\n",
      "        [4.5000, 4.5000]])\n"
     ]
    }
   ],
   "source": [
    "x=torch.ones(2,2, requires_grad=True)\n",
    "y = x+2\n",
    "z = y * y *3\n",
    "out = z.mean()\n",
    "out.backward()\n",
    "print(x.grad)"
   ]
  },
  {
   "cell_type": "code",
   "execution_count": 49,
   "id": "e1d813c0-8160-4434-85ac-0cd97dc77d64",
   "metadata": {},
   "outputs": [
    {
     "name": "stdout",
     "output_type": "stream",
     "text": [
      "tensor(1.5000) tensor(-0.2968)\n"
     ]
    }
   ],
   "source": [
    "x = torch.tensor(2., requires_grad=True)\n",
    "y = torch.tensor(3., requires_grad=True)\n",
    "z = y * torch.log(x)  + torch.sin(y)\n",
    "z.backward()\n",
    "print(x.grad, y.grad)"
   ]
  },
  {
   "cell_type": "code",
   "execution_count": 44,
   "id": "4470bb1a-9761-47bd-9338-f0c5583989b4",
   "metadata": {},
   "outputs": [
    {
     "data": {
      "text/plain": [
       "array([2.], dtype=float32)"
      ]
     },
     "execution_count": 44,
     "metadata": {},
     "output_type": "execute_result"
    }
   ],
   "source": [
    "x = torch.tensor([2.], requires_grad=True)\n",
    "x.detach().numpy()"
   ]
  },
  {
   "cell_type": "code",
   "execution_count": 59,
   "id": "5417e99b-0c3d-49be-af23-8e65ce539050",
   "metadata": {},
   "outputs": [
    {
     "name": "stdout",
     "output_type": "stream",
     "text": [
      "tensor(10.) tensor(10.)\n",
      "tensor(10.)\n"
     ]
    }
   ],
   "source": [
    "x = torch.tensor(2., requires_grad=True)\n",
    "y = torch.tensor(3., requires_grad=True)\n",
    "c = x + y\n",
    "c.retain_grad()\n",
    "z = c ** 2\n",
    "z.backward()\n",
    "print(x.grad, y.grad)\n",
    "print(c.grad)"
   ]
  },
  {
   "cell_type": "code",
   "execution_count": null,
   "id": "7f2fca03-9d5c-4d64-8a57-b0eed86b484e",
   "metadata": {},
   "outputs": [],
   "source": []
  }
 ],
 "metadata": {
  "kernelspec": {
   "display_name": "Python 3 (ipykernel)",
   "language": "python",
   "name": "python3"
  },
  "language_info": {
   "codemirror_mode": {
    "name": "ipython",
    "version": 3
   },
   "file_extension": ".py",
   "mimetype": "text/x-python",
   "name": "python",
   "nbconvert_exporter": "python",
   "pygments_lexer": "ipython3",
   "version": "3.8.20"
  }
 },
 "nbformat": 4,
 "nbformat_minor": 5
}
