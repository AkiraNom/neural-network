{
 "cells": [
  {
   "cell_type": "markdown",
   "id": "2fa77221-891a-44b3-895d-4587baaa7357",
   "metadata": {},
   "source": [
    "## MNIST Multiclass Logistic Regression"
   ]
  },
  {
   "cell_type": "markdown",
   "id": "bdb4dc24-d62a-4586-ae6f-2d45b0b2b5fd",
   "metadata": {},
   "source": [
    "**AIM**: Building a multi-class logistic regression model from scratch."
   ]
  },
  {
   "cell_type": "code",
   "execution_count": 1,
   "id": "9828138a-86a6-498a-884e-85dd93b81e81",
   "metadata": {},
   "outputs": [],
   "source": [
    "import numpy as np\n",
    "import matplotlib.pyplot as plt\n",
    "from sklearn import datasets\n",
    "import torch\n",
    "from torch.nn import functional as F\n",
    "from sklearn.model_selection import train_test_split"
   ]
  },
  {
   "cell_type": "code",
   "execution_count": 27,
   "id": "53782597-652d-4f6e-84ba-c03b3e05bf8a",
   "metadata": {},
   "outputs": [
    {
     "data": {
      "text/plain": [
       "<torch._C.Generator at 0x7f634e3cb110>"
      ]
     },
     "execution_count": 27,
     "metadata": {},
     "output_type": "execute_result"
    }
   ],
   "source": [
    "torch.manual_seed(42)"
   ]
  },
  {
   "cell_type": "code",
   "execution_count": 28,
   "id": "35fef17c-c4e9-49fb-a901-3617ae608ced",
   "metadata": {},
   "outputs": [],
   "source": [
    "dataset = datasets.load_digits()\n",
    "images = dataset['images']\n",
    "target = dataset['target']"
   ]
  },
  {
   "cell_type": "code",
   "execution_count": 4,
   "id": "c9fb2771-c028-4294-884d-e645fb925541",
   "metadata": {},
   "outputs": [
    {
     "data": {
      "text/plain": [
       "<matplotlib.image.AxesImage at 0x7f629f0864f0>"
      ]
     },
     "execution_count": 4,
     "metadata": {},
     "output_type": "execute_result"
    },
    {
     "data": {
      "image/png": "[encoded data removed]",
      "text/plain": [
       "<Figure size 640x480 with 1 Axes>"
      ]
     },
     "metadata": {},
     "output_type": "display_data"
    }
   ],
   "source": [
    "plt.imshow(images[2], cmap='gray')"
   ]
  },
  {
   "cell_type": "markdown",
   "id": "2edbefb9-8499-41d7-8b94-0f16158f006d",
   "metadata": {},
   "source": [
    "### Preprocessing"
   ]
  },
  {
   "cell_type": "code",
   "execution_count": 5,
   "id": "3b2ee0b9-1dbe-4d20-81c0-83817f3ebe37",
   "metadata": {},
   "outputs": [],
   "source": [
    "y_true = F.one_hot(torch.tensor(target), num_classes=10)\n",
    "# numpy uses float64 while pytorch uses float32 by default\n",
    "images = torch.tensor(images, dtype=torch.float32).reshape(-1,64) # change (1797,8,8) into (1797, 64)\n",
    "\n",
    "# normalization\n",
    "images = (images - images.mean())/ images.std()"
   ]
  },
  {
   "cell_type": "code",
   "execution_count": 6,
   "id": "3e4a9642-b713-4d0f-a7ae-91e7e1524065",
   "metadata": {},
   "outputs": [],
   "source": [
    "learning_rate = 0.03\n",
    "loss_log = []"
   ]
  },
  {
   "cell_type": "code",
   "execution_count": 7,
   "id": "1655e058-5e5b-46bd-b944-28bc2a175a7d",
   "metadata": {},
   "outputs": [],
   "source": [
    "# initiallize parameters\n",
    "W = torch.rand((10, 64), requires_grad=True)\n",
    "b = torch.rand((1, 10), requires_grad=True)"
   ]
  },
  {
   "cell_type": "markdown",
   "id": "d09c562b-f3ab-4d0f-9dfb-6165976d71ba",
   "metadata": {},
   "source": [
    "### Softmax and Cross Entropy function"
   ]
  },
  {
   "cell_type": "markdown",
   "id": "2727cd5a-4de2-485e-b305-8cc05dd33e70",
   "metadata": {},
   "source": [
    "&emsp;&emsp;&emsp;&emsp;**Softmax function** <br>\n",
    "<br>\n",
    "    $$\\Large p_k(x)=\\frac{e^{x_k}}{\\sum_{k=1}^{K}e^{x_k}}$$\n",
    "    \n",
    "&emsp;&emsp;&emsp;&emsp;**Cross Entropy** <br>\n",
    "<br>\n",
    "    $$\\Large L = - \\frac{1}{N}\\sum_{i=1}^{N}\\sum_{k=1}^{K}*t_{ik}*log(p_k(x_i))$$"
   ]
  },
  {
   "cell_type": "code",
   "execution_count": 8,
   "id": "545b7124-8f5f-4aff-b6b6-5d7572a4037b",
   "metadata": {},
   "outputs": [],
   "source": [
    "# softmax function\n",
    "'''\n",
    "Numerator:\n",
    "    When x is large enough, e_x becomes inf. To avoid it, substract max(x) from each value. \n",
    "    Under this conditoin, large x leads to e_{-inf} ~= 0. \n",
    "Denominator:\n",
    "    To avoid denominator having 0, add 1e-10\n",
    "'''\n",
    "\n",
    "def softmax(x):\n",
    "    e_x = torch.exp(x - torch.max(x, dim=-1, keepdim=True)[0])\n",
    "    return e_x / torch.sum(e_x, dim=-1,keepdim=True) + 1e-10\n",
    "\n",
    "# cross entropy function\n",
    "'''\n",
    "When $p_k(x_i) =0$, $log(0$) becomes -inf. To avoid this, add small number 1e-10.\n",
    "'''\n",
    "def cross_entropy(y_true, y_pred):\n",
    "    return -torch.sum(y_true * torch.log(y_pred+ 1e-10)) / y_true.shape[0]\n",
    "    "
   ]
  },
  {
   "cell_type": "code",
   "execution_count": 10,
   "id": "3711c5f0-8d23-4e5f-a787-56e3502e7d91",
   "metadata": {},
   "outputs": [
    {
     "name": "stdout",
     "output_type": "stream",
     "text": [
      "epoch: 1: 0.42592922646085757\n",
      "epoch: 2: 0.14197200705340934\n",
      "epoch: 3: 0.11155106615835432\n",
      "epoch: 4: 0.09480606085389329\n",
      "epoch: 5: 0.0830450725027446\n"
     ]
    }
   ],
   "source": [
    "for epoch in range(5):\n",
    "    running_loss = 0\n",
    "    for i in range(len(target)):\n",
    "        y_true_ = y_true[i].reshape(-1,10) # data_num x class_num.\n",
    "        X = images[i].reshape(-1, 64) # data_num x feature_num\n",
    "\n",
    "        Z = X @ W.T + b\n",
    "\n",
    "        # calculate y_pred with softmax function\n",
    "        y_pred = softmax(Z)\n",
    "\n",
    "        # calcualte loss with cross entropy function\n",
    "        loss = cross_entropy(y_true_, y_pred)\n",
    "        loss_log.append(loss.item())\n",
    "        running_loss += loss.item()\n",
    "\n",
    "        # calculate gradient\n",
    "        loss.backward()\n",
    "\n",
    "        # update parameter\n",
    "        with torch.no_grad():\n",
    "            W -= learning_rate * W.grad\n",
    "            b -= learning_rate * b.grad\n",
    "\n",
    "        # initialize gradient\n",
    "        W.grad.zero_()\n",
    "        b.grad.zero_()\n",
    "\n",
    "    #print loss\n",
    "    print(f'epoch: {epoch+1}: {running_loss/len(target)}')"
   ]
  },
  {
   "cell_type": "markdown",
   "id": "a51dc44e-e92a-4406-95b4-95482b8e325a",
   "metadata": {},
   "source": [
    "### Model evalulation"
   ]
  },
  {
   "cell_type": "code",
   "execution_count": 11,
   "id": "78fa255e-b96f-44eb-92b0-ac28b0bead42",
   "metadata": {},
   "outputs": [
    {
     "name": "stdout",
     "output_type": "stream",
     "text": [
      "Accuracy : 0.9711\n"
     ]
    },
    {
     "name": "stderr",
     "output_type": "stream",
     "text": [
      "/tmp/ipykernel_2275/2649051685.py:3: UserWarning: To copy construct from a tensor, it is recommended to use sourceTensor.clone().detach() or sourceTensor.clone().detach().requires_grad_(True), rather than torch.tensor(sourceTensor).\n",
      "  X = torch.tensor(images, dtype=torch.float32)\n"
     ]
    }
   ],
   "source": [
    "# calculate accuray correct predictions / ALL predictions\n",
    "\n",
    "X = torch.tensor(images, dtype=torch.float32)\n",
    "Z = X@W.T + b\n",
    "y_pred = softmax(Z)\n",
    "\n",
    "# get an index of the highest value corresponding to a predicted class \n",
    "# with torch.argmax(y_pred). Then compare index of y_pred with index of y_true\n",
    "# sum up the number of True (True== 1)\n",
    "accuracy = (torch.sum(torch.argmax(y_pred, dim=-1) == torch.argmax(y_true, dim=-1)) / y_true.shape[0]).item()\n",
    "\n",
    "print(f'Accuracy : {accuracy:.4f}')"
   ]
  },
  {
   "cell_type": "code",
   "execution_count": 12,
   "id": "aa484726-9606-487f-b0d6-d59a54734ee3",
   "metadata": {},
   "outputs": [
    {
     "data": {
      "text/plain": [
       "[<matplotlib.lines.Line2D at 0x7f629eeb7580>]"
      ]
     },
     "execution_count": 12,
     "metadata": {},
     "output_type": "execute_result"
    },
    {
     "data": {
      "image/png": "[encoded data removed]",
      "text/plain": [
       "<Figure size 640x480 with 1 Axes>"
      ]
     },
     "metadata": {},
     "output_type": "display_data"
    }
   ],
   "source": [
    "plt.plot(loss_log)"
   ]
  },
  {
   "cell_type": "markdown",
   "id": "cc5de061-8a1e-4312-a806-a6b564b84b95",
   "metadata": {},
   "source": [
    "## Mini-batch Learning"
   ]
  },
  {
   "cell_type": "code",
   "execution_count": 13,
   "id": "ad1661f5-613c-4c48-bfaf-9a69ff479d55",
   "metadata": {},
   "outputs": [
    {
     "name": "stdout",
     "output_type": "stream",
     "text": [
      "epoch: 1: 1.9534498631954194\n",
      "epoch: 2: 0.9459826062122981\n",
      "epoch: 3: 0.7458159108956655\n",
      "epoch: 4: 0.38649510194857917\n",
      "epoch: 5: 0.460583599905173\n"
     ]
    }
   ],
   "source": [
    "batch_size = 30\n",
    "num_batches = np.ceil(len(target)/batch_size).astype(int)\n",
    "learning_rate = 0.03\n",
    "loss_log = []\n",
    "\n",
    "# initiallize parameters\n",
    "W = torch.rand((10, 64), requires_grad=True)\n",
    "b = torch.rand((1, 10), requires_grad=True)\n",
    "\n",
    "for epoch in range(5):\n",
    "    \n",
    "    shuffled_indices = np.random.permutation(len(target))\n",
    "    running_loss = 0\n",
    "    \n",
    "    for i in range(num_batches):\n",
    "\n",
    "        start = i + batch_size\n",
    "        end = start + batch_size\n",
    "        batch_indices = shuffled_indices[start:end]\n",
    "\n",
    "        # place break point\n",
    "        # import pdb; pdb.set_trace()\n",
    "        \n",
    "        y_true_ = y_true[batch_indices,:] # data_num x class_num.\n",
    "        X = images[batch_indices,:] # data_num x feature_num\n",
    "\n",
    "        Z = X @ W.T + b\n",
    "\n",
    "        # calculate y_pred with softmax function\n",
    "        y_pred = softmax(Z)\n",
    "\n",
    "        # calcualte loss with cross entropy function\n",
    "        loss = cross_entropy(y_true_, y_pred)\n",
    "        loss_log.append(loss.item())\n",
    "        running_loss += loss.item()\n",
    "\n",
    "        # calculate gradient\n",
    "        loss.backward()\n",
    "\n",
    "        # update parameter\n",
    "        with torch.no_grad():\n",
    "            W -= learning_rate * W.grad\n",
    "            b -= learning_rate * b.grad\n",
    "\n",
    "        # initialize gradient\n",
    "        W.grad.zero_()\n",
    "        b.grad.zero_()\n",
    "\n",
    "    #print loss\n",
    "    print(f'epoch: {epoch+1}: {running_loss/num_batches}')"
   ]
  },
  {
   "cell_type": "code",
   "execution_count": 14,
   "id": "5da2d6cd-18a8-4560-a182-40408dfe1e49",
   "metadata": {},
   "outputs": [
    {
     "name": "stdout",
     "output_type": "stream",
     "text": [
      "Accuracy : 0.8843\n"
     ]
    },
    {
     "name": "stderr",
     "output_type": "stream",
     "text": [
      "/tmp/ipykernel_2275/4161940044.py:3: UserWarning: To copy construct from a tensor, it is recommended to use sourceTensor.clone().detach() or sourceTensor.clone().detach().requires_grad_(True), rather than torch.tensor(sourceTensor).\n",
      "  X = torch.tensor(images, dtype=torch.float32)\n"
     ]
    }
   ],
   "source": [
    "# calculate accuray correct predictions / ALL predictions\n",
    "\n",
    "X = torch.tensor(images, dtype=torch.float32)\n",
    "Z = X@W.T + b\n",
    "y_pred = softmax(Z)\n",
    "\n",
    "accuracy = (torch.sum(torch.argmax(y_pred, dim=-1) == torch.argmax(y_true, dim=-1)) / y_true.shape[0]).item()\n",
    "\n",
    "print(f'Accuracy : {accuracy:.4f}')"
   ]
  },
  {
   "cell_type": "markdown",
   "id": "8bd24301-1859-4c4b-9416-429f7eb796e2",
   "metadata": {},
   "source": [
    "## Train data and test data"
   ]
  },
  {
   "cell_type": "code",
   "execution_count": 29,
   "id": "12f391fb-6573-44f3-ac92-5795cf65993d",
   "metadata": {},
   "outputs": [],
   "source": [
    "dataset = datasets.load_digits()\n",
    "images = dataset['images']\n",
    "target = dataset['target']"
   ]
  },
  {
   "cell_type": "code",
   "execution_count": 30,
   "id": "84bba92c-f6e7-4bda-bfd9-84b839e33cbc",
   "metadata": {},
   "outputs": [
    {
     "name": "stdout",
     "output_type": "stream",
     "text": [
      "(1437, 8, 8) (1437,)\n",
      "(360, 8, 8) (360,)\n"
     ]
    }
   ],
   "source": [
    "X_train, X_val, y_train, y_val = train_test_split(images,target, test_size=0.2, random_state=42)\n",
    "print(X_train.shape, y_train.shape)\n",
    "print(X_val.shape, y_val.shape)"
   ]
  },
  {
   "cell_type": "code",
   "execution_count": 31,
   "id": "0c71fcd5-df89-4ecf-9bed-316495881b3d",
   "metadata": {},
   "outputs": [],
   "source": [
    "# preprocessing data\n",
    "X_train = torch.tensor(X_train, dtype=torch.float32).reshape(-1,64) \n",
    "y_train = F.one_hot(torch.tensor(y_train), num_classes=10)\n",
    "\n",
    "X_val = torch.tensor(X_val, dtype=torch.float32).reshape(-1,64) \n",
    "y_val = F.one_hot(torch.tensor(y_val), num_classes=10)\n",
    "\n",
    "#normalization \n",
    "X_train_mean = X_train.mean()\n",
    "X_train_std = X_train.std()\n",
    "X_train = (X_train - X_train_mean) / X_train_std\n",
    "X_val = (X_val - X_train_mean) / X_train_std"
   ]
  },
  {
   "cell_type": "code",
   "execution_count": 32,
   "id": "89e30ba3-9812-4b22-829a-e5932bd3f767",
   "metadata": {},
   "outputs": [
    {
     "name": "stdout",
     "output_type": "stream",
     "text": [
      "epoch: 1: train loss :2.7264 val loss: 1.7324 val accuracy 0.4222\n",
      "epoch: 2: train loss :1.3641 val loss: 1.0299 val accuracy 0.7028\n",
      "epoch: 3: train loss :0.8860 val loss: 0.7325 val accuracy 0.8083\n",
      "epoch: 4: train loss :0.6667 val loss: 0.5825 val accuracy 0.8556\n",
      "epoch: 5: train loss :0.5455 val loss: 0.4886 val accuracy 0.8833\n",
      "epoch: 6: train loss :0.4684 val loss: 0.4269 val accuracy 0.8944\n",
      "epoch: 7: train loss :0.4169 val loss: 0.3841 val accuracy 0.9083\n",
      "epoch: 8: train loss :0.3791 val loss: 0.3550 val accuracy 0.9167\n",
      "epoch: 9: train loss :0.3485 val loss: 0.3288 val accuracy 0.9278\n",
      "epoch: 10: train loss :0.3253 val loss: 0.3034 val accuracy 0.9361\n",
      "epoch: 11: train loss :0.3051 val loss: 0.2876 val accuracy 0.9333\n",
      "epoch: 12: train loss :0.2895 val loss: 0.2725 val accuracy 0.9333\n",
      "epoch: 13: train loss :0.2749 val loss: 0.2616 val accuracy 0.9361\n",
      "epoch: 14: train loss :0.2626 val loss: 0.2478 val accuracy 0.9361\n",
      "epoch: 15: train loss :0.2522 val loss: 0.2372 val accuracy 0.9389\n",
      "epoch: 16: train loss :0.2425 val loss: 0.2293 val accuracy 0.9389\n",
      "epoch: 17: train loss :0.2346 val loss: 0.2215 val accuracy 0.9444\n",
      "epoch: 18: train loss :0.2267 val loss: 0.2133 val accuracy 0.9444\n",
      "epoch: 19: train loss :0.2198 val loss: 0.2057 val accuracy 0.9444\n",
      "epoch: 20: train loss :0.2135 val loss: 0.2022 val accuracy 0.9444\n",
      "epoch: 21: train loss :0.2076 val loss: 0.1951 val accuracy 0.9472\n",
      "epoch: 22: train loss :0.2030 val loss: 0.1910 val accuracy 0.9500\n",
      "epoch: 23: train loss :0.1981 val loss: 0.1858 val accuracy 0.9500\n",
      "epoch: 24: train loss :0.1937 val loss: 0.1814 val accuracy 0.9500\n",
      "epoch: 25: train loss :0.1889 val loss: 0.1773 val accuracy 0.9528\n",
      "epoch: 26: train loss :0.1848 val loss: 0.1740 val accuracy 0.9500\n",
      "epoch: 27: train loss :0.1815 val loss: 0.1700 val accuracy 0.9528\n",
      "epoch: 28: train loss :0.1785 val loss: 0.1667 val accuracy 0.9528\n",
      "epoch: 29: train loss :0.1746 val loss: 0.1656 val accuracy 0.9528\n",
      "epoch: 30: train loss :0.1715 val loss: 0.1627 val accuracy 0.9556\n"
     ]
    }
   ],
   "source": [
    "epochs = 30\n",
    "batch_size = 30\n",
    "num_batches = np.ceil(len(y_train)/batch_size).astype(int)\n",
    "loss_log = []\n",
    "learning_rate = 0.03\n",
    "\n",
    "# logs\n",
    "train_losses = []\n",
    "val_losses = []\n",
    "val_accuracies = []\n",
    "\n",
    "# initiallize parameters\n",
    "W = torch.rand((10, 64), requires_grad=True)\n",
    "b = torch.rand((1, 10), requires_grad=True)\n",
    "\n",
    "for epoch in range(epochs):\n",
    "    \n",
    "    shuffled_indices = np.random.permutation(len(y_train))\n",
    "    running_loss = 0\n",
    "    \n",
    "    for i in range(num_batches):\n",
    "\n",
    "        start = i * batch_size\n",
    "        end = start + batch_size\n",
    "        batch_indices = shuffled_indices[start:end]\n",
    "\n",
    "        # place break point\n",
    "        # import pdb; pdb.set_trace()\n",
    "        \n",
    "        y_true_ = y_train[batch_indices,:] # data_num x class_num.\n",
    "        X = X_train[batch_indices,:] # data_num x feature_num\n",
    "\n",
    "        Z = X @ W.T + b\n",
    "\n",
    "        # calculate y_pred with softmax function\n",
    "        y_pred = softmax(Z)\n",
    "\n",
    "        # calcualte loss with cross entropy function\n",
    "        loss = cross_entropy(y_true_, y_pred)\n",
    "        loss_log.append(loss.item())\n",
    "        running_loss += loss.item()\n",
    "\n",
    "        # calculate gradient\n",
    "        loss.backward()\n",
    "\n",
    "        # update parameter\n",
    "        with torch.no_grad():\n",
    "            W -= learning_rate * W.grad\n",
    "            b -= learning_rate * b.grad\n",
    "\n",
    "        # initialize gradient\n",
    "        W.grad.zero_()\n",
    "        b.grad.zero_()\n",
    "\n",
    "    # validation\n",
    "    with torch.no_grad():\n",
    "        Z_val = X_val@W.T + b\n",
    "        y_pred_val = softmax(Z_val)\n",
    "\n",
    "        val_loss = cross_entropy(y_val, y_pred_val)\n",
    "        val_accuracy = (torch.sum(torch.argmax(y_pred_val, dim=-1) == torch.argmax(y_val, dim=-1)) / y_val.shape[0])\n",
    "\n",
    "    train_losses.append(running_loss/num_batches)\n",
    "    val_losses.append(val_loss.item())\n",
    "    val_accuracies.append(val_accuracy.item())\n",
    "\n",
    "    #print log\n",
    "    print(f'epoch: {epoch+1}: train loss :{running_loss/num_batches:.4f} val loss: {val_loss:.4f} val accuracy {val_accuracy:.4f}')"
   ]
  },
  {
   "cell_type": "code",
   "execution_count": 33,
   "id": "67a1cf42-20be-4bb7-82ed-c8d7ef42a2c0",
   "metadata": {},
   "outputs": [
    {
     "data": {
      "text/plain": [
       "[<matplotlib.lines.Line2D at 0x7f629931d430>]"
      ]
     },
     "execution_count": 33,
     "metadata": {},
     "output_type": "execute_result"
    },
    {
     "data": {
      "image/png": "[encoded data removed]",
      "text/plain": [
       "<Figure size 640x480 with 1 Axes>"
      ]
     },
     "metadata": {},
     "output_type": "display_data"
    }
   ],
   "source": [
    "plt.plot(train_losses)\n",
    "plt.plot(val_losses)"
   ]
  },
  {
   "cell_type": "code",
   "execution_count": null,
   "id": "8011e22a-44fa-44cb-8a81-b2f9aa5d8220",
   "metadata": {},
   "outputs": [],
   "source": []
  }
 ],
 "metadata": {
  "kernelspec": {
   "display_name": "Python 3 (ipykernel)",
   "language": "python",
   "name": "python3"
  },
  "language_info": {
   "codemirror_mode": {
    "name": "ipython",
    "version": 3
   },
   "file_extension": ".py",
   "mimetype": "text/x-python",
   "name": "python",
   "nbconvert_exporter": "python",
   "pygments_lexer": "ipython3",
   "version": "3.8.20"
  }
 },
 "nbformat": 4,
 "nbformat_minor": 5
}
