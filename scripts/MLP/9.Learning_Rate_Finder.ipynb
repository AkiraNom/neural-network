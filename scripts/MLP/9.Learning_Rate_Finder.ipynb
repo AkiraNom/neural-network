{
 "cells": [
  {
   "attachments": {
    "519bf8f1-5579-4fe6-a366-a7e12e132438.png": {
     "image/png": "[encoded data removed]"
    }
   },
   "cell_type": "markdown",
   "id": "148b126b-7472-42b2-addf-4e47d024770e",
   "metadata": {},
   "source": [
    "## Learning Rate Finder\n",
    "\n",
    "For training deep neural networks, selecting a good learning rate is essential for both better performance and faster convergence. \n",
    "![learing_rate_finder_lr_plot.png](attachment:519bf8f1-5579-4fe6-a366-a7e12e132438.png)"
   ]
  },
  {
   "cell_type": "code",
   "execution_count": 1,
   "id": "8b0d8097-22fc-4623-8b2a-d5c080346853",
   "metadata": {},
   "outputs": [],
   "source": [
    "import numpy as np\n",
    "import matplotlib.pyplot as plt\n",
    "from sklearn import datasets\n",
    "from sklearn.model_selection import train_test_split\n",
    "import torch\n",
    "from torch import optim\n",
    "from torch import nn\n",
    "from torch.nn import functional as F\n",
    "from torch.utils.data import DataLoader\n",
    "from torch.utils.data import Dataset\n",
    "from torchvision import transforms\n",
    "import torchvision"
   ]
  },
  {
   "cell_type": "code",
   "execution_count": 34,
   "id": "902abcdf-42b0-4027-a07f-b7b6e2805d6b",
   "metadata": {},
   "outputs": [],
   "source": [
    "class MyDataset(Dataset):\n",
    "    def __init__(self,X,y,transform=None):\n",
    "        self.X = X\n",
    "        self.y = y\n",
    "        self.transform = transform\n",
    "\n",
    "    def __len__(self):\n",
    "        return len(self.X)\n",
    "\n",
    "    def __getitem__(self, idx):\n",
    "        X = self.X[idx]\n",
    "        y = self.y[idx]\n",
    "\n",
    "        if self.transform:\n",
    "            X = self.transform(X)\n",
    "\n",
    "        return X, y\n",
    "\n",
    "class MLP(nn.Module):\n",
    "    def __init__(self, num_in, num_hidden, num_out):\n",
    "        super().__init__()\n",
    "        self.flatten = nn.Flatten()  # flatten llayer [b,c,h,w] -> [b, cxhxw]\n",
    "        self.l1 = nn.Linear(num_in, num_hidden)\n",
    "        self.l2 = nn.Linear(num_hidden, num_out)\n",
    "\n",
    "    def forward(self, X):\n",
    "        flatten_X = self.flatten(X)\n",
    "        z1 = self.l1(flatten_X)\n",
    "        a1 = F.relu(z1)\n",
    "        x = self.l2(a1)\n",
    "\n",
    "        return x\n",
    "      "
   ]
  },
  {
   "cell_type": "code",
   "execution_count": 35,
   "id": "bc610c6d-0a3c-4cb4-8deb-3f63949cc396",
   "metadata": {},
   "outputs": [],
   "source": [
    "def learning(model, train_loader, val_loader, opt, loss_func, num_epochs, early_stopping=None, save_path=None):\n",
    "    train_losses = []\n",
    "    val_losses = []\n",
    "    val_accuracies = []\n",
    "    \n",
    "    best_val_loss = float('inf')\n",
    "    no_improve = 0\n",
    "    \n",
    "    for epoch in range(num_epochs):\n",
    "        \n",
    "        running_loss = 0\n",
    "        running_val_loss = 0\n",
    "        running_val_acc = 0\n",
    "        \n",
    "        for train_batch, data in enumerate(train_loader):\n",
    "    \n",
    "            X, y = data\n",
    "            \n",
    "            opt.zero_grad()\n",
    "            preds = model(X)\n",
    "            loss = loss_func(preds, y)\n",
    "            running_loss += loss.item()\n",
    "            \n",
    "            loss.backward()\n",
    "            opt.step()\n",
    "    \n",
    "        # validation\n",
    "        with torch.no_grad():\n",
    "            for val_batch, data in enumerate(val_loader):\n",
    "                \n",
    "                X_val, y_val = data\n",
    "                \n",
    "                preds_val = model(X_val)\n",
    "                val_loss = loss_func(preds_val, y_val)\n",
    "                running_val_loss += val_loss.item()\n",
    "                val_accuracy = torch.sum(torch.argmax(preds_val, dim=1)==y_val) / y_val.shape[0]\n",
    "                running_val_acc += val_accuracy.item()\n",
    "    \n",
    "        train_losses.append(running_loss/(train_batch+1))\n",
    "        val_losses.append(running_val_loss/(val_batch+1))\n",
    "        val_accuracies.append(running_val_acc/(val_batch +1))\n",
    "    \n",
    "        print(f'epoch: {epoch}: train error: {train_losses[-1]}, validation error: {val_losses[-1]}, validation accuracy: {val_accuracies[-1]}')\n",
    "    \n",
    "        # update best_val_losses and reset no_improve counter\n",
    "        if val_losses[-1] < best_val_loss :\n",
    "            best_val_loss = val_losses[-1]\n",
    "            no_improve=0\n",
    "\n",
    "            # save params\n",
    "            if save_path is not None:\n",
    "                state = {\n",
    "                    'model_state_dict': model.state_dict(),\n",
    "                    'optimizer_state_dict':opt.state_dict(),\n",
    "                    'val_loss':val_losses[-1]\n",
    "                }\n",
    "                torch.save(state, save_path)\n",
    "            \n",
    "        else:\n",
    "            no_improve+=1\n",
    "\n",
    "        # premature termination of the loop\n",
    "        if early_stopping and no_improve >= early_stopping:\n",
    "            print('Stopping early')\n",
    "            idx = val_losses.index(best_val_loss)\n",
    "            print(f'lowest validation error {best_val_loss}, validation accuracy {val_accuracies[idx]}, epoch {idx}')\n",
    "            break\n",
    "\n",
    "    return train_losses, val_losses, val_accuracies"
   ]
  },
  {
   "cell_type": "code",
   "execution_count": 36,
   "id": "3d42e21c-daa6-4d63-8c3c-1962e6eed76e",
   "metadata": {},
   "outputs": [
    {
     "name": "stdout",
     "output_type": "stream",
     "text": [
      "epoch: 0: train error: 1.835457486576504, validation error: 1.280443161725998, validation accuracy: 0.7291666666666666\n",
      "epoch: 1: train error: 0.8442588501506382, validation error: 0.5978751157720884, validation accuracy: 0.890625\n",
      "epoch: 2: train error: 0.44037856062253317, validation error: 0.37381891409556073, validation accuracy: 0.90625\n",
      "epoch: 3: train error: 0.3039955884218216, validation error: 0.27327698717514676, validation accuracy: 0.9244791666666666\n",
      "epoch: 4: train error: 0.23277269221014446, validation error: 0.2229604652772347, validation accuracy: 0.9427083333333334\n",
      "epoch: 5: train error: 0.1959646847512987, validation error: 0.18835646472871304, validation accuracy: 0.9479166666666666\n",
      "epoch: 6: train error: 0.16911095115873548, validation error: 0.17357001826167107, validation accuracy: 0.9505208333333334\n",
      "epoch: 7: train error: 0.15148563161492348, validation error: 0.17661108387013277, validation accuracy: 0.9453125\n",
      "epoch: 8: train error: 0.13426670043004885, validation error: 0.15275130731364092, validation accuracy: 0.9505208333333334\n",
      "epoch: 9: train error: 0.1241757141219245, validation error: 0.14298992666105428, validation accuracy: 0.9479166666666666\n",
      "epoch: 10: train error: 0.11698093306687143, validation error: 0.1341210687533021, validation accuracy: 0.9479166666666666\n",
      "epoch: 11: train error: 0.10477162972092628, validation error: 0.13076613346735635, validation accuracy: 0.9609375\n",
      "epoch: 12: train error: 0.09902910942004786, validation error: 0.12896591300765672, validation accuracy: 0.9583333333333334\n",
      "epoch: 13: train error: 0.0921971269365814, validation error: 0.11884184181690216, validation accuracy: 0.9635416666666666\n",
      "epoch: 14: train error: 0.08861181024048063, validation error: 0.11087914323434234, validation accuracy: 0.96875\n",
      "epoch: 15: train error: 0.08201473930643664, validation error: 0.11002592959751685, validation accuracy: 0.9635416666666666\n",
      "epoch: 16: train error: 0.07860168293118477, validation error: 0.10574387991800904, validation accuracy: 0.9713541666666666\n",
      "epoch: 17: train error: 0.0707260761409998, validation error: 0.10830255985880892, validation accuracy: 0.96875\n",
      "epoch: 18: train error: 0.0693421688551704, validation error: 0.10859819672380884, validation accuracy: 0.9713541666666666\n",
      "epoch: 19: train error: 0.06589319267206722, validation error: 0.10726610121006767, validation accuracy: 0.96875\n",
      "epoch: 20: train error: 0.062364787960218056, validation error: 0.10423354556163152, validation accuracy: 0.9713541666666666\n",
      "epoch: 21: train error: 0.06005813003414207, validation error: 0.10200628560657303, validation accuracy: 0.9661458333333334\n",
      "epoch: 22: train error: 0.05702884081337187, validation error: 0.09769408047820131, validation accuracy: 0.9713541666666666\n",
      "epoch: 23: train error: 0.05498550039612585, validation error: 0.09817695703047018, validation accuracy: 0.9635416666666666\n",
      "epoch: 24: train error: 0.05128782882044713, validation error: 0.09708032213772337, validation accuracy: 0.9713541666666666\n",
      "epoch: 25: train error: 0.051558731041020815, validation error: 0.09801322082057595, validation accuracy: 0.9713541666666666\n",
      "epoch: 26: train error: 0.04770223717722628, validation error: 0.09793710111019512, validation accuracy: 0.9713541666666666\n",
      "epoch: 27: train error: 0.045048728812899855, validation error: 0.10172818989182512, validation accuracy: 0.9661458333333334\n",
      "epoch: 28: train error: 0.04354977086186409, validation error: 0.09539560896034043, validation accuracy: 0.9661458333333334\n",
      "epoch: 29: train error: 0.04291907417484456, validation error: 0.10042810929007828, validation accuracy: 0.9635416666666666\n",
      "epoch: 30: train error: 0.04082083822124534, validation error: 0.09484290688609083, validation accuracy: 0.96875\n",
      "epoch: 31: train error: 0.03864259612229135, validation error: 0.0934932017698884, validation accuracy: 0.96875\n",
      "epoch: 32: train error: 0.03802179286463393, validation error: 0.09270400429765384, validation accuracy: 0.9713541666666666\n",
      "epoch: 33: train error: 0.035795954966710675, validation error: 0.09786687418818474, validation accuracy: 0.9635416666666666\n",
      "epoch: 34: train error: 0.03559677675366402, validation error: 0.0931476157469054, validation accuracy: 0.9661458333333334\n",
      "epoch: 35: train error: 0.03370716053371628, validation error: 0.09465302476504196, validation accuracy: 0.9661458333333334\n",
      "epoch: 36: train error: 0.03252289951261547, validation error: 0.09837818720067541, validation accuracy: 0.9635416666666666\n",
      "epoch: 37: train error: 0.032742273341864345, validation error: 0.09431265713647008, validation accuracy: 0.96875\n",
      "Stopping early\n",
      "lowest validation error 0.09270400429765384, validation accuracy 0.9713541666666666, epoch 32\n"
     ]
    }
   ],
   "source": [
    "num_epochs = 100\n",
    "num_feature = 64\n",
    "num_hidden = 30\n",
    "num_class = 10\n",
    "\n",
    "learning_rate = 0.1\n",
    "\n",
    "model = MLP(num_feature, num_hidden, num_class)\n",
    "opt = optim.SGD(params=model.parameters(), lr=learning_rate) # SGD : stochastic gradient descent algorithm\n",
    "\n",
    "dataset = datasets.load_digits()\n",
    "data = dataset['data']\n",
    "target = dataset['target']\n",
    "images = dataset['images']\n",
    "images = images * (255. / 16.) # 0-16 -> 0-255\n",
    "images = images.astype(np.uint8)\n",
    "X_train, X_val, y_train, y_val = train_test_split(images, target, test_size=0.2, random_state=42)\n",
    "\n",
    "transform = transforms.Compose([\n",
    "    transforms.ToTensor(),\n",
    "    transforms.Normalize(mean=(0.5,),std=(0.5,))])\n",
    "\n",
    "train_dataset = MyDataset(X_train, y_train, transform=transform)\n",
    "val_dataset = MyDataset(X_val, y_val, transform=transform)\n",
    "\n",
    "batch_size = 32\n",
    "train_loader = DataLoader(train_dataset, batch_size=batch_size, shuffle=True, num_workers=2)\n",
    "val_loader = DataLoader(val_dataset, batch_size=batch_size, num_workers=2)\n",
    "\n",
    "train_losses, val_losses, val_accuracies = learning(model, train_loader, val_loader, opt, F.cross_entropy, num_epochs=100, early_stopping=5,save_path='./models/checkpoint')"
   ]
  },
  {
   "cell_type": "code",
   "execution_count": 101,
   "id": "dba3a262-1810-4e44-9af4-767679260c29",
   "metadata": {},
   "outputs": [],
   "source": [
    "def learning_rate_finder(model, train_loader, loss_func, lr_multiplier=1.2):\n",
    "\n",
    "    lr =1e-8\n",
    "    max_lr = 10\n",
    "    opt = torch.optim.SGD(model.parameters(), lr=lr)\n",
    "    losses = []\n",
    "    lrs = []\n",
    "\n",
    "    for train_batch, data in enumerate(train_loader):\n",
    "   \n",
    "        X, y = data\n",
    "        \n",
    "        opt.zero_grad()\n",
    "        preds = model(X)\n",
    "        loss = loss_func(preds, y)\n",
    "        losses.append(loss.item())\n",
    "        lrs.append(lr)\n",
    "        \n",
    "        loss.backward()\n",
    "        opt.step()\n",
    "\n",
    "        lr *=lr_multiplier\n",
    "\n",
    "        #set new learning rate\n",
    "        for param_group in opt.param_groups:\n",
    "            param_group['lr'] = lr\n",
    "\n",
    "        if lr > max_lr:\n",
    "            break\n",
    "\n",
    "    return lrs, losses"
   ]
  },
  {
   "cell_type": "code",
   "execution_count": 102,
   "id": "3e80e56c-e834-4a8d-a725-ea134f083f2e",
   "metadata": {},
   "outputs": [
    {
     "data": {
      "image/png": "[encoded data removed]",
      "text/plain": [
       "<Figure size 640x480 with 1 Axes>"
      ]
     },
     "metadata": {},
     "output_type": "display_data"
    }
   ],
   "source": [
    "num_feature = 64\n",
    "num_hidden = 30\n",
    "num_class = 10\n",
    "\n",
    "model = MLP(num_feature, num_hidden, num_class)\n",
    "\n",
    "dataset = datasets.load_digits()\n",
    "data = dataset['data']\n",
    "target = dataset['target']\n",
    "images = dataset['images']\n",
    "images = images * (255. / 16.) # 0-16 -> 0-255\n",
    "images = images.astype(np.uint8)\n",
    "X_train, X_val, y_train, y_val = train_test_split(images, target, test_size=0.2, random_state=42)\n",
    "\n",
    "transform = transforms.Compose([\n",
    "    transforms.ToTensor(),\n",
    "    transforms.Normalize(mean=(0.5,),std=(0.5,))])\n",
    "\n",
    "train_dataset = MyDataset(X_train, y_train, transform=transform)\n",
    "val_dataset = MyDataset(X_val, y_val, transform=transform)\n",
    "\n",
    "batch_size = 10\n",
    "train_loader = DataLoader(train_dataset, batch_size=batch_size, shuffle=True, num_workers=2)\n",
    "val_loader = DataLoader(val_dataset, batch_size=batch_size, num_workers=2)\n",
    "\n",
    "lrs, losses = learning_rate_finder(model, train_loader, F.cross_entropy, lr_multiplier=1.2)\n",
    "plt.plot(lrs, losses)\n",
    "plt.xscale('log')"
   ]
  },
  {
   "cell_type": "markdown",
   "id": "2b0cf957-89d5-4048-b19b-a150764d866e",
   "metadata": {},
   "source": [
    "## Learning Rate Scheduler\n",
    "\n",
    "Learnign rate scheduler dynamically adjusts the learning rate during training according to a predefined schedule\n",
    "\n",
    "Reasons to use a learning rate scheduler\n",
    "* Escaping from a local maximum\n",
    "* Avoid using a low learning rate at beginning\n",
    "\n",
    "How to use:\n",
    "```python\n",
    "optimizer = optim.SGD(model.parameters(), lr=0.01, momentum=0.9)\n",
    "scheduler = ExponentialLR(optimizer, gamma=0.9)\n",
    "\n",
    "for epoch in range(20):\n",
    "    for input, target in dataset:\n",
    "        optimizer.zero_grad()\n",
    "        output = model(input)\n",
    "        loss = loss_fn(output, target)\n",
    "        loss.backward()\n",
    "        optimizer.step()\n",
    "    scheduler.step()\n",
    "```\n",
    "\n",
    "[how to adjust learning rate](https://pytorch.org/docs/stable/optim.html#how-to-adjust-learning-rate)"
   ]
  },
  {
   "cell_type": "markdown",
   "id": "42e5559c-c451-4862-a388-eefa4b364c41",
   "metadata": {},
   "source": [
    "#### Test StepLr & CosineAnnealingLR\n",
    "`lr_scheduler.StepLR` Decays the learning rate of each parameter group by gamma every step_size epochs.\n",
    "\n",
    "`lr_scheduler.CosineAnnealingLR` \n",
    "Set the learning rate of each parameter group using a cosine annealing schedule, where $\\eta_{max}$ is set to the initial lr and $T_{cur}$\n",
    "  is the number of epochs since the last restart in SGDR:"
   ]
  },
  {
   "cell_type": "code",
   "execution_count": 105,
   "id": "5450a252-c5e5-422a-9a2c-6f692a7f5327",
   "metadata": {},
   "outputs": [],
   "source": [
    "from torch.optim.lr_scheduler import StepLR, CosineAnnealingLR"
   ]
  },
  {
   "cell_type": "code",
   "execution_count": 112,
   "id": "27253111-5cbd-431f-af4b-5413c7fe6291",
   "metadata": {},
   "outputs": [
    {
     "name": "stdout",
     "output_type": "stream",
     "text": [
      "learning rate before scheduler 0.1\n",
      "learning rate after scheduler 0.00010000000000000003\n"
     ]
    }
   ],
   "source": [
    "num_feature = 64\n",
    "num_hidden = 30\n",
    "num_class = 10\n",
    "\n",
    "learning_rate = 0.1\n",
    "\n",
    "model = MLP(num_feature, num_hidden, num_class)\n",
    "opt = optim.SGD(params=model.parameters(), lr=learning_rate) # SGD : stochastic gradient descent algorithm\n",
    "scheduler = StepLR(opt, step_size=10, gamma=0.1)\n",
    "\n",
    "print(f\"learning rate before scheduler {opt.param_groups[0]['lr']}\")\n",
    "for epoch in range(30):\n",
    "    scheduler.step()\n",
    "print(f\"learning rate after scheduler {opt.param_groups[0]['lr']}\")"
   ]
  },
  {
   "cell_type": "code",
   "execution_count": 113,
   "id": "271253a2-a25d-4e47-98a1-8d619814d7f7",
   "metadata": {},
   "outputs": [],
   "source": [
    "num_feature = 64\n",
    "num_hidden = 30\n",
    "num_class = 10\n",
    "\n",
    "learning_rate = 0.1\n",
    "lrs = []\n",
    "model = MLP(num_feature, num_hidden, num_class)\n",
    "opt = optim.SGD(params=model.parameters(), lr=learning_rate) # SGD : stochastic gradient descent algorithm\n",
    "scheduler = CosineAnnealingLR(opt, T_max=50)\n",
    "\n",
    "for epoch in range(150):\n",
    "    lrs.append(opt.param_groups[0]['lr'])\n",
    "    scheduler.step()"
   ]
  },
  {
   "cell_type": "code",
   "execution_count": 115,
   "id": "a26ecf8b-dbe0-4312-af87-5c4127d4ac4f",
   "metadata": {},
   "outputs": [
    {
     "data": {
      "text/plain": [
       "[<matplotlib.lines.Line2D at 0x7fcd0ac16f40>]"
      ]
     },
     "execution_count": 115,
     "metadata": {},
     "output_type": "execute_result"
    },
    {
     "data": {
      "image/png": "[encoded data removed]",
      "text/plain": [
       "<Figure size 640x480 with 1 Axes>"
      ]
     },
     "metadata": {},
     "output_type": "display_data"
    }
   ],
   "source": [
    "plt.plot(lrs)"
   ]
  },
  {
   "cell_type": "code",
   "execution_count": null,
   "id": "cddb5dc4-3f17-47e2-aa0f-ec0d8d36d1cc",
   "metadata": {},
   "outputs": [],
   "source": []
  }
 ],
 "metadata": {
  "kernelspec": {
   "display_name": "Python 3 (ipykernel)",
   "language": "python",
   "name": "python3"
  },
  "language_info": {
   "codemirror_mode": {
    "name": "ipython",
    "version": 3
   },
   "file_extension": ".py",
   "mimetype": "text/x-python",
   "name": "python",
   "nbconvert_exporter": "python",
   "pygments_lexer": "ipython3",
   "version": "3.8.20"
  }
 },
 "nbformat": 4,
 "nbformat_minor": 5
}
