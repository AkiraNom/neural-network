{
 "cells": [
  {
   "cell_type": "markdown",
   "id": "ece48382-0678-49f9-9cad-d12a47d868e1",
   "metadata": {},
   "source": [
    "### Early stopping\n",
    "\n",
    "If no improvement of a model after a given number of traing, it is better to stop a learnig."
   ]
  },
  {
   "cell_type": "code",
   "execution_count": 39,
   "id": "87b9f40d-1ca3-419b-a687-58a5879197cb",
   "metadata": {},
   "outputs": [],
   "source": [
    "import numpy as np\n",
    "import matplotlib.pyplot as plt\n",
    "from sklearn import datasets\n",
    "from sklearn.model_selection import train_test_split\n",
    "import torch\n",
    "from torch import optim\n",
    "from torch import nn\n",
    "from torch.nn import functional as F\n",
    "from torch.utils.data import DataLoader\n",
    "from torch.utils.data import Dataset\n",
    "from torchvision import transforms\n",
    "import torchvision"
   ]
  },
  {
   "cell_type": "code",
   "execution_count": 40,
   "id": "902abcdf-42b0-4027-a07f-b7b6e2805d6b",
   "metadata": {},
   "outputs": [],
   "source": [
    "class MyDataset(Dataset):\n",
    "    def __init__(self,X,y,transform=None):\n",
    "        self.X = X\n",
    "        self.y = y\n",
    "        self.transform = transform\n",
    "\n",
    "    def __len__(self):\n",
    "        return len(self.X)\n",
    "\n",
    "    def __getitem__(self, idx):\n",
    "        X = self.X[idx]\n",
    "        y = self.y[idx]\n",
    "\n",
    "        if self.transform:\n",
    "            X = self.transform(X)\n",
    "\n",
    "        return X, y\n",
    "\n",
    "class MLP(nn.Module):\n",
    "    def __init__(self, num_in, num_hidden, num_out):\n",
    "        super().__init__()\n",
    "        self.flatten = nn.Flatten()  # flatten llayer [b,c,h,w] -> [b, cxhxw]\n",
    "        self.l1 = nn.Linear(num_in, num_hidden)\n",
    "        self.l2 = nn.Linear(num_hidden, num_out)\n",
    "\n",
    "    def forward(self, X):\n",
    "        flatten_X = self.flatten(X)\n",
    "        z1 = self.l1(flatten_X)\n",
    "        a1 = F.relu(z1)\n",
    "        x = self.l2(a1)\n",
    "\n",
    "        return x\n",
    "       "
   ]
  },
  {
   "cell_type": "code",
   "execution_count": 62,
   "id": "e998f911-2ef4-4212-aef4-741d4ac2c0bd",
   "metadata": {},
   "outputs": [],
   "source": [
    "def learning(model, train_loader, val_loader, opti, loss_func, num_epochs, early_stopping=None):\n",
    "    train_losses = []\n",
    "    val_losses = []\n",
    "    val_accuracies = []\n",
    "    \n",
    "    best_val_loss = float('inf')\n",
    "    no_improve = 0\n",
    "    \n",
    "    for epoch in range(num_epochs):\n",
    "        \n",
    "        running_loss = 0\n",
    "        running_val_loss = 0\n",
    "        running_val_acc = 0\n",
    "        \n",
    "        for train_batch, data in enumerate(train_loader):\n",
    "    \n",
    "            X, y = data\n",
    "            \n",
    "            opt.zero_grad()\n",
    "            preds = model(X)\n",
    "            loss = loss_func(preds, y)\n",
    "            running_loss += loss.item()\n",
    "            \n",
    "            loss.backward()\n",
    "            opt.step()\n",
    "    \n",
    "        # validation\n",
    "        with torch.no_grad():\n",
    "            for val_batch, data in enumerate(val_loader):\n",
    "                \n",
    "                X_val, y_val = data\n",
    "                \n",
    "                preds_val = model(X_val)\n",
    "                val_loss = loss_func(preds_val, y_val)\n",
    "                running_val_loss += val_loss.item()\n",
    "                val_accuracy = torch.sum(torch.argmax(preds_val, dim=1)==y_val) / y_val.shape[0]\n",
    "                running_val_acc += val_accuracy.item()\n",
    "    \n",
    "        train_losses.append(running_loss/(train_batch+1))\n",
    "        val_losses.append(running_val_loss/(val_batch+1))\n",
    "        val_accuracies.append(running_val_acc/(val_batch +1))\n",
    "    \n",
    "        print(f'epoch: {epoch}: train error: {train_losses[-1]}, validation error: {val_losses[-1]}, validation accuracy: {val_accuracies[-1]}')\n",
    "    \n",
    "        # update best_val_losses and reset no_improve counter\n",
    "        if val_losses[-1] < best_val_loss :\n",
    "            best_val_loss = val_losses[-1]\n",
    "            no_improve=0\n",
    "        else:\n",
    "            no_improve+=1\n",
    "\n",
    "        # premature termination of the loop\n",
    "        if early_stopping and no_improve >= early_stopping:\n",
    "            print('Stopping early')\n",
    "    \n",
    "            break\n",
    "\n",
    "    return train_losses, val_losses, val_accuracies, best_val_loss"
   ]
  },
  {
   "cell_type": "code",
   "execution_count": 63,
   "id": "3d42e21c-daa6-4d63-8c3c-1962e6eed76e",
   "metadata": {},
   "outputs": [
    {
     "name": "stdout",
     "output_type": "stream",
     "text": [
      "epoch: 0: train error: 1.8961838616265192, validation error: 1.3168326715628307, validation accuracy: 0.7630208333333334\n",
      "epoch: 1: train error: 0.8865621195899116, validation error: 0.5778297632932663, validation accuracy: 0.8776041666666666\n",
      "epoch: 2: train error: 0.45411984589364796, validation error: 0.37721556673447293, validation accuracy: 0.9010416666666666\n",
      "epoch: 3: train error: 0.3108562664853202, validation error: 0.2668800875544548, validation accuracy: 0.9270833333333334\n",
      "epoch: 4: train error: 0.23869303233093686, validation error: 0.2233052228887876, validation accuracy: 0.9348958333333334\n",
      "epoch: 5: train error: 0.20508514377805923, validation error: 0.18972657869259515, validation accuracy: 0.9453125\n",
      "epoch: 6: train error: 0.17461058662997353, validation error: 0.17686347228785357, validation accuracy: 0.9479166666666666\n",
      "epoch: 7: train error: 0.15530375523699655, validation error: 0.15554431391259035, validation accuracy: 0.9557291666666666\n",
      "epoch: 8: train error: 0.14081788659095765, validation error: 0.15015534249444804, validation accuracy: 0.9505208333333334\n",
      "epoch: 9: train error: 0.12737987157371308, validation error: 0.13134950337310633, validation accuracy: 0.9609375\n",
      "epoch: 10: train error: 0.1211782257590029, validation error: 0.13203951499114433, validation accuracy: 0.9557291666666666\n",
      "epoch: 11: train error: 0.11020731834901704, validation error: 0.13307370835294327, validation accuracy: 0.9609375\n",
      "epoch: 12: train error: 0.10392007811201943, validation error: 0.11710792686790228, validation accuracy: 0.9739583333333334\n",
      "epoch: 13: train error: 0.0978496944738759, validation error: 0.11426093569025397, validation accuracy: 0.9635416666666666\n",
      "epoch: 14: train error: 0.09057903074555927, validation error: 0.11450690388058622, validation accuracy: 0.9609375\n",
      "epoch: 15: train error: 0.08649425916373729, validation error: 0.11166468821465969, validation accuracy: 0.9661458333333334\n",
      "epoch: 16: train error: 0.08329554345044825, validation error: 0.10557331843301654, validation accuracy: 0.9713541666666666\n",
      "epoch: 17: train error: 0.07545433156192302, validation error: 0.10570407348374526, validation accuracy: 0.96875\n",
      "epoch: 18: train error: 0.07121852812253766, validation error: 0.1049381975705425, validation accuracy: 0.96875\n",
      "epoch: 19: train error: 0.07005003285076883, validation error: 0.10135923372581601, validation accuracy: 0.9739583333333334\n",
      "epoch: 20: train error: 0.06558941738266084, validation error: 0.09909074458604057, validation accuracy: 0.96875\n",
      "epoch: 21: train error: 0.06646001326541105, validation error: 0.09639455657452345, validation accuracy: 0.9739583333333334\n",
      "epoch: 22: train error: 0.06137846161921819, validation error: 0.09673994795108835, validation accuracy: 0.9765625\n",
      "epoch: 23: train error: 0.05814556231101354, validation error: 0.0964111159555614, validation accuracy: 0.9739583333333334\n",
      "epoch: 24: train error: 0.056511484148601694, validation error: 0.10047713294625282, validation accuracy: 0.9713541666666666\n",
      "epoch: 25: train error: 0.055536362228708135, validation error: 0.09585877313899498, validation accuracy: 0.96875\n",
      "epoch: 26: train error: 0.052049380623632006, validation error: 0.09198747280364235, validation accuracy: 0.9765625\n",
      "epoch: 27: train error: 0.04921840036080943, validation error: 0.09918637449542682, validation accuracy: 0.96875\n",
      "epoch: 28: train error: 0.04909650375031763, validation error: 0.09240465859572093, validation accuracy: 0.9739583333333334\n",
      "epoch: 29: train error: 0.04651738316234615, validation error: 0.09553139486039679, validation accuracy: 0.9765625\n",
      "epoch: 30: train error: 0.043195298976368375, validation error: 0.09141616383567452, validation accuracy: 0.9791666666666666\n",
      "epoch: 31: train error: 0.042635588254779574, validation error: 0.09365437040105462, validation accuracy: 0.9791666666666666\n",
      "epoch: 32: train error: 0.041547187578140035, validation error: 0.10519445516789953, validation accuracy: 0.96875\n",
      "epoch: 33: train error: 0.04157437899460395, validation error: 0.09302995904969673, validation accuracy: 0.9791666666666666\n",
      "epoch: 34: train error: 0.038921708044492534, validation error: 0.09017949636715154, validation accuracy: 0.9713541666666666\n",
      "epoch: 35: train error: 0.0361307247231404, validation error: 0.09255687558713059, validation accuracy: 0.9739583333333334\n",
      "epoch: 36: train error: 0.03501170430228942, validation error: 0.09042808716185391, validation accuracy: 0.9739583333333334\n",
      "epoch: 37: train error: 0.03367628482066923, validation error: 0.0887373904697597, validation accuracy: 0.9765625\n",
      "epoch: 38: train error: 0.03450907810798122, validation error: 0.08869646427532037, validation accuracy: 0.9765625\n",
      "epoch: 39: train error: 0.03412688331057628, validation error: 0.0932242354998986, validation accuracy: 0.9713541666666666\n",
      "epoch: 40: train error: 0.030882781909571753, validation error: 0.09201708168257028, validation accuracy: 0.9713541666666666\n",
      "epoch: 41: train error: 0.030673556505805916, validation error: 0.09719361426929633, validation accuracy: 0.9713541666666666\n",
      "epoch: 42: train error: 0.029456515941354962, validation error: 0.08865290554240346, validation accuracy: 0.9765625\n",
      "epoch: 43: train error: 0.02925664841507872, validation error: 0.09801560554963847, validation accuracy: 0.9713541666666666\n",
      "epoch: 44: train error: 0.02976845737753643, validation error: 0.08900680998340249, validation accuracy: 0.9765625\n",
      "epoch: 45: train error: 0.027367374383740956, validation error: 0.08824437499667208, validation accuracy: 0.9791666666666666\n",
      "epoch: 46: train error: 0.026161455000854202, validation error: 0.09093013087597986, validation accuracy: 0.9713541666666666\n",
      "epoch: 47: train error: 0.025545918274049957, validation error: 0.08940355836724241, validation accuracy: 0.9739583333333334\n",
      "epoch: 48: train error: 0.025732422125939694, validation error: 0.08821821193366002, validation accuracy: 0.9765625\n",
      "epoch: 49: train error: 0.02508729490865436, validation error: 0.08973727429596086, validation accuracy: 0.9739583333333334\n",
      "epoch: 50: train error: 0.023875999336855278, validation error: 0.088669158751145, validation accuracy: 0.9739583333333334\n",
      "epoch: 51: train error: 0.022934786049235198, validation error: 0.08871034905314445, validation accuracy: 0.9739583333333334\n",
      "epoch: 52: train error: 0.021834606542769405, validation error: 0.09105965739581734, validation accuracy: 0.9765625\n",
      "epoch: 53: train error: 0.02180456192129188, validation error: 0.09176345988331984, validation accuracy: 0.9713541666666666\n",
      "Stopping early\n"
     ]
    }
   ],
   "source": [
    "num_epochs = 100\n",
    "num_feature = 64\n",
    "num_hidden = 30\n",
    "num_class = 10\n",
    "\n",
    "learning_rate = 0.1\n",
    "\n",
    "model = MLP(num_feature, num_hidden, num_class)\n",
    "opt = optim.SGD(params=model.parameters(), lr=learning_rate) # SGD : stochastic gradient descent algorithm\n",
    "\n",
    "dataset = datasets.load_digits()\n",
    "data = dataset['data']\n",
    "target = dataset['target']\n",
    "images = dataset['images']\n",
    "images = images * (255. / 16.) # 0-16 -> 0-255\n",
    "images = images.astype(np.uint8)\n",
    "X_train, X_val, y_train, y_val = train_test_split(images, target, test_size=0.2, random_state=42)\n",
    "\n",
    "transform = transforms.Compose([\n",
    "    transforms.ToTensor(),\n",
    "    transforms.Normalize(mean=(0.5,),std=(0.5,))])\n",
    "\n",
    "train_dataset = MyDataset(X_train, y_train, transform=transform)\n",
    "val_dataset = MyDataset(X_val, y_val, transform=transform)\n",
    "\n",
    "batch_size = 32\n",
    "train_loader = DataLoader(train_dataset, batch_size=batch_size, shuffle=True, num_workers=2)\n",
    "val_loader = DataLoader(val_dataset, batch_size=batch_size, num_workers=2)\n",
    "\n",
    "train_losses, val_losses, val_accuracies, best_val_loss = learning(model, train_loader, val_loader, opt, F.cross_entropy, num_epochs=100, early_stopping=5)"
   ]
  },
  {
   "cell_type": "code",
   "execution_count": 60,
   "id": "c6ed4b5d-0f65-42df-ad4c-343c648941dc",
   "metadata": {},
   "outputs": [
    {
     "data": {
      "text/plain": [
       "[<matplotlib.lines.Line2D at 0x7f813c694ca0>]"
      ]
     },
     "execution_count": 60,
     "metadata": {},
     "output_type": "execute_result"
    },
    {
     "data": {
      "image/png": "[encoded data removed]",
      "text/plain": [
       "<Figure size 640x480 with 1 Axes>"
      ]
     },
     "metadata": {},
     "output_type": "display_data"
    }
   ],
   "source": [
    "plt.plot(train_losses)\n",
    "plt.plot(val_losses)"
   ]
  },
  {
   "cell_type": "markdown",
   "id": "fc9e6a8d-4a23-4147-8a06-24b86ff8819b",
   "metadata": {},
   "source": [
    "### Save and Load Model Object\n",
    "\n",
    "```python\n",
    "torch.save(model, PATH)\n",
    "\n",
    "model = torch.load(PATH, weights_only=False)\n",
    "model.eval()\n",
    "```\n",
    "A common PyTorch convention is to save models using either a `.pt` or `.pth` file extension.\n",
    "\n",
    "[Saving and Loading Models](https://pytorch.org/tutorials/beginner/saving_loading_models.html)"
   ]
  },
  {
   "cell_type": "code",
   "execution_count": 48,
   "id": "629324bc-03db-462e-a623-33e51190a874",
   "metadata": {},
   "outputs": [],
   "source": [
    "torch.save(model, './models/sample_model.pth')"
   ]
  },
  {
   "cell_type": "code",
   "execution_count": 49,
   "id": "5228ba6e-fba9-4b45-a378-1f358ee3ae22",
   "metadata": {},
   "outputs": [
    {
     "name": "stderr",
     "output_type": "stream",
     "text": [
      "/tmp/ipykernel_11956/2028156232.py:1: FutureWarning: You are using `torch.load` with `weights_only=False` (the current default value), which uses the default pickle module implicitly. It is possible to construct malicious pickle data which will execute arbitrary code during unpickling (See https://github.com/pytorch/pytorch/blob/main/SECURITY.md#untrusted-models for more details). In a future release, the default value for `weights_only` will be flipped to `True`. This limits the functions that could be executed during unpickling. Arbitrary objects will no longer be allowed to be loaded via this mode unless they are explicitly allowlisted by the user via `torch.serialization.add_safe_globals`. We recommend you start setting `weights_only=True` for any use case where you don't have full control of the loaded file. Please open an issue on GitHub for any issues related to this experimental feature.\n",
      "  loaded_model = torch.load('./models/sample_model.pth')\n"
     ]
    },
    {
     "data": {
      "text/plain": [
       "MLP(\n",
       "  (flatten): Flatten(start_dim=1, end_dim=-1)\n",
       "  (l1): Linear(in_features=64, out_features=30, bias=True)\n",
       "  (l2): Linear(in_features=30, out_features=10, bias=True)\n",
       ")"
      ]
     },
     "execution_count": 49,
     "metadata": {},
     "output_type": "execute_result"
    }
   ],
   "source": [
    "loaded_model = torch.load('./models/sample_model.pth')\n",
    "loaded_model"
   ]
  },
  {
   "cell_type": "markdown",
   "id": "8b2b7c82-66b7-479f-92c6-76874d199434",
   "metadata": {},
   "source": [
    "### Save and Load Model Paremters\n",
    "\n",
    "Save/Load state_dict (*Recommended*)\n",
    "> **What is a state_dict?** <br>\n",
    "In PyTorch, the learnable parameters (i.e. weights and biases) of an `torch.nn.Module` model are contained in the model’s parameters (accessed with `model.parameters()`). A state_dict is simply a Python dictionary object that maps each layer to its parameter tensor. Note that only layers with learnable parameters (convolutional layers, linear layers, etc.) and registered buffers (batchnorm’s running_mean) have entries in the model’s state_dict. Optimizer objects (`torch.optim`) also have a state_dict, which contains information about the optimizer’s state, as well as the hyperparameters used.\n",
    "\n",
    ">Because state_dict objects are Python dictionaries, they can be easily saved, updated, altered, and restored, adding a great deal of modularity to PyTorch models and optimizers.\n",
    "<br>\n",
    "\n",
    "**save model's parameters**\n",
    "```python\n",
    "torch.save(model.state_dict(), PATH)\n",
    "```\n",
    "<br>\n",
    "\n",
    "**load model's parameters** <br>\n",
    "\n",
    "`torch.nn.Module.load_state_dict`: Loads a model’s parameter dictionary using a deserialized state_dict. \n",
    "<br>\n",
    "\n",
    "**Parameters**\n",
    "\n",
    "* **state_dict** (dict) – a dict containing parameters and persistent buffers.\n",
    "\n",
    "* **strict** (bool, optional) – whether to strictly enforce that the keys in state_dict match the keys returned by this module’s state_dict() function. Default: True\n",
    "\n",
    "* **assign** (bool, optional) – When False, the properties of the tensors in the current module are preserved while when True, the properties of the Tensors in the state dict are preserved. The only exception is the requires_grad field of Default: `False`."
   ]
  },
  {
   "cell_type": "code",
   "execution_count": 52,
   "id": "cc630c4a-3436-4430-adbd-0f7ef5f465a2",
   "metadata": {},
   "outputs": [
    {
     "data": {
      "text/plain": [
       "<All keys matched successfully>"
      ]
     },
     "execution_count": 52,
     "metadata": {},
     "output_type": "execute_result"
    }
   ],
   "source": [
    "# get model's params in dictionary\n",
    "params = model.state_dict()\n",
    "another_model = MLP(64,30,10)\n",
    "\n",
    "# apply model's params to a new model\n",
    "another_model.load_state_dict(params)"
   ]
  },
  {
   "cell_type": "code",
   "execution_count": 53,
   "id": "1e7eebee-fef7-4cc9-81f8-f4bc452622d8",
   "metadata": {},
   "outputs": [
    {
     "data": {
      "text/plain": [
       "Parameter containing:\n",
       "tensor([[-0.0292, -0.1427, -0.2828,  ...,  0.4485,  0.2720,  0.1581],\n",
       "        [-0.1987, -0.0978, -0.0336,  ...,  0.3137,  0.1640,  0.1049],\n",
       "        [ 0.0949, -0.0245,  0.0855,  ...,  0.0829,  0.0936,  0.0468],\n",
       "        ...,\n",
       "        [-0.0769, -0.0353,  0.4033,  ..., -0.0818, -0.1309,  0.0666],\n",
       "        [-0.0746, -0.0550, -0.0898,  ...,  0.4137,  0.0217, -0.1428],\n",
       "        [-0.2613, -0.1786, -0.0490,  ..., -0.2518, -0.0983, -0.1069]],\n",
       "       requires_grad=True)"
      ]
     },
     "execution_count": 53,
     "metadata": {},
     "output_type": "execute_result"
    }
   ],
   "source": [
    "another_model.l1.weight"
   ]
  },
  {
   "cell_type": "code",
   "execution_count": 54,
   "id": "2e48bf84-f582-4cf6-b23e-4d1bd31333a0",
   "metadata": {},
   "outputs": [
    {
     "data": {
      "text/plain": [
       "Parameter containing:\n",
       "tensor([[-0.0292, -0.1427, -0.2828,  ...,  0.4485,  0.2720,  0.1581],\n",
       "        [-0.1987, -0.0978, -0.0336,  ...,  0.3137,  0.1640,  0.1049],\n",
       "        [ 0.0949, -0.0245,  0.0855,  ...,  0.0829,  0.0936,  0.0468],\n",
       "        ...,\n",
       "        [-0.0769, -0.0353,  0.4033,  ..., -0.0818, -0.1309,  0.0666],\n",
       "        [-0.0746, -0.0550, -0.0898,  ...,  0.4137,  0.0217, -0.1428],\n",
       "        [-0.2613, -0.1786, -0.0490,  ..., -0.2518, -0.0983, -0.1069]],\n",
       "       requires_grad=True)"
      ]
     },
     "execution_count": 54,
     "metadata": {},
     "output_type": "execute_result"
    }
   ],
   "source": [
    "model.l1.weight"
   ]
  },
  {
   "cell_type": "markdown",
   "id": "6972af9a-ac02-407c-9453-8ddd4caff445",
   "metadata": {},
   "source": [
    "So, the another_model has the same parameters with model."
   ]
  },
  {
   "cell_type": "code",
   "execution_count": 55,
   "id": "fa87a511-ff0f-47aa-b08b-411cdda55ab3",
   "metadata": {},
   "outputs": [],
   "source": [
    "torch.save(model.state_dict(), './models/torch_model_state_dict.pth')"
   ]
  },
  {
   "cell_type": "code",
   "execution_count": 56,
   "id": "25a45a09-ffc1-4aa4-9461-8d98700760a4",
   "metadata": {},
   "outputs": [
    {
     "name": "stderr",
     "output_type": "stream",
     "text": [
      "/tmp/ipykernel_11956/4101048777.py:2: FutureWarning: You are using `torch.load` with `weights_only=False` (the current default value), which uses the default pickle module implicitly. It is possible to construct malicious pickle data which will execute arbitrary code during unpickling (See https://github.com/pytorch/pytorch/blob/main/SECURITY.md#untrusted-models for more details). In a future release, the default value for `weights_only` will be flipped to `True`. This limits the functions that could be executed during unpickling. Arbitrary objects will no longer be allowed to be loaded via this mode unless they are explicitly allowlisted by the user via `torch.serialization.add_safe_globals`. We recommend you start setting `weights_only=True` for any use case where you don't have full control of the loaded file. Please open an issue on GitHub for any issues related to this experimental feature.\n",
      "  another_model.load_state_dict(torch.load('./models/torch_model_state_dict.pth'))\n"
     ]
    },
    {
     "data": {
      "text/plain": [
       "<All keys matched successfully>"
      ]
     },
     "execution_count": 56,
     "metadata": {},
     "output_type": "execute_result"
    }
   ],
   "source": [
    "another_model = MLP(64,30,10)\n",
    "another_model.load_state_dict(torch.load('./models/torch_model_state_dict.pth'))"
   ]
  },
  {
   "cell_type": "markdown",
   "id": "8a3fb048-e372-4963-b538-9e09b63f12b8",
   "metadata": {},
   "source": [
    "##### Add save model's parameters"
   ]
  },
  {
   "cell_type": "code",
   "execution_count": 78,
   "id": "bc610c6d-0a3c-4cb4-8deb-3f63949cc396",
   "metadata": {},
   "outputs": [],
   "source": [
    "def learning(model, train_loader, val_loader, opt, loss_func, num_epochs, early_stopping=None, save_path=None):\n",
    "    train_losses = []\n",
    "    val_losses = []\n",
    "    val_accuracies = []\n",
    "    \n",
    "    best_val_loss = float('inf')\n",
    "    no_improve = 0\n",
    "    \n",
    "    for epoch in range(num_epochs):\n",
    "        \n",
    "        running_loss = 0\n",
    "        running_val_loss = 0\n",
    "        running_val_acc = 0\n",
    "        \n",
    "        for train_batch, data in enumerate(train_loader):\n",
    "    \n",
    "            X, y = data\n",
    "            \n",
    "            opt.zero_grad()\n",
    "            preds = model(X)\n",
    "            loss = loss_func(preds, y)\n",
    "            running_loss += loss.item()\n",
    "            \n",
    "            loss.backward()\n",
    "            opt.step()\n",
    "    \n",
    "        # validation\n",
    "        with torch.no_grad():\n",
    "            for val_batch, data in enumerate(val_loader):\n",
    "                \n",
    "                X_val, y_val = data\n",
    "                \n",
    "                preds_val = model(X_val)\n",
    "                val_loss = loss_func(preds_val, y_val)\n",
    "                running_val_loss += val_loss.item()\n",
    "                val_accuracy = torch.sum(torch.argmax(preds_val, dim=1)==y_val) / y_val.shape[0]\n",
    "                running_val_acc += val_accuracy.item()\n",
    "    \n",
    "        train_losses.append(running_loss/(train_batch+1))\n",
    "        val_losses.append(running_val_loss/(val_batch+1))\n",
    "        val_accuracies.append(running_val_acc/(val_batch +1))\n",
    "    \n",
    "        print(f'epoch: {epoch}: train error: {train_losses[-1]}, validation error: {val_losses[-1]}, validation accuracy: {val_accuracies[-1]}')\n",
    "    \n",
    "        # update best_val_losses and reset no_improve counter\n",
    "        if val_losses[-1] < best_val_loss :\n",
    "            best_val_loss = val_losses[-1]\n",
    "            no_improve=0\n",
    "\n",
    "            # save params\n",
    "            if save_path is not None:\n",
    "                state = {\n",
    "                    'model_state_dict': model.state_dict(),\n",
    "                    'optimizer_state_dict':opt.state_dict(),\n",
    "                    'val_loss':val_losses[-1]\n",
    "                }\n",
    "                torch.save(state, save_path)\n",
    "            \n",
    "        else:\n",
    "            no_improve+=1\n",
    "\n",
    "        # premature termination of the loop\n",
    "        if early_stopping and no_improve >= early_stopping:\n",
    "            print('Stopping early')\n",
    "            idx = val_losses.index(best_val_loss)\n",
    "            print(f'lowest validation error {best_val_loss}, validation accuracy {val_accuracies[idx]}, epoch {idx}')\n",
    "            break\n",
    "\n",
    "    return train_losses, val_losses, val_accuracies"
   ]
  },
  {
   "cell_type": "code",
   "execution_count": 81,
   "id": "795ed1d3-6ed5-41ac-ac90-ea4e1ac68a82",
   "metadata": {},
   "outputs": [
    {
     "name": "stdout",
     "output_type": "stream",
     "text": [
      "epoch: 0: train error: 1.9119846079084608, validation error: 1.376821865638097, validation accuracy: 0.7864583333333334\n",
      "epoch: 1: train error: 0.8824504839049445, validation error: 0.6060402393341064, validation accuracy: 0.8776041666666666\n",
      "epoch: 2: train error: 0.4403912189933989, validation error: 0.3628002926707268, validation accuracy: 0.9270833333333334\n",
      "epoch: 3: train error: 0.2962632099787394, validation error: 0.27664264912406605, validation accuracy: 0.921875\n",
      "epoch: 4: train error: 0.23119613379240037, validation error: 0.24974935005108514, validation accuracy: 0.9348958333333334\n",
      "epoch: 5: train error: 0.19280172304974663, validation error: 0.20721936598420143, validation accuracy: 0.9375\n",
      "epoch: 6: train error: 0.16721694982714122, validation error: 0.1883827211956183, validation accuracy: 0.9375\n",
      "epoch: 7: train error: 0.15186845651931233, validation error: 0.16507991682738066, validation accuracy: 0.9479166666666666\n",
      "epoch: 8: train error: 0.1350271775490708, validation error: 0.1564558744430542, validation accuracy: 0.9427083333333334\n",
      "epoch: 9: train error: 0.12608730619152386, validation error: 0.14477327403922877, validation accuracy: 0.9583333333333334\n",
      "epoch: 10: train error: 0.11687767215900952, validation error: 0.13881230571617684, validation accuracy: 0.9583333333333334\n",
      "epoch: 11: train error: 0.10899489323298137, validation error: 0.12561827587584654, validation accuracy: 0.96875\n",
      "epoch: 12: train error: 0.10445853471755981, validation error: 0.13205889333039522, validation accuracy: 0.953125\n",
      "epoch: 13: train error: 0.095488294131226, validation error: 0.11951443646103144, validation accuracy: 0.9661458333333334\n",
      "epoch: 14: train error: 0.09053287183245023, validation error: 0.11728344733516376, validation accuracy: 0.9583333333333334\n",
      "epoch: 15: train error: 0.08562298657165633, validation error: 0.12051534683754046, validation accuracy: 0.9583333333333334\n",
      "epoch: 16: train error: 0.08390848160617881, validation error: 0.11516392494862278, validation accuracy: 0.9583333333333334\n",
      "epoch: 17: train error: 0.0772227354761627, validation error: 0.11707250277201335, validation accuracy: 0.9557291666666666\n",
      "epoch: 18: train error: 0.0737058900296688, validation error: 0.10892133818318446, validation accuracy: 0.9713541666666666\n",
      "epoch: 19: train error: 0.06965776081714366, validation error: 0.10688109742477536, validation accuracy: 0.9713541666666666\n",
      "epoch: 20: train error: 0.06589570531828536, validation error: 0.10440087737515569, validation accuracy: 0.96875\n",
      "epoch: 21: train error: 0.06378997860269414, validation error: 0.10211851106335719, validation accuracy: 0.9635416666666666\n",
      "epoch: 22: train error: 0.0620188829385572, validation error: 0.09803791142379244, validation accuracy: 0.9713541666666666\n",
      "epoch: 23: train error: 0.059722777621613606, validation error: 0.09850226156413555, validation accuracy: 0.9713541666666666\n",
      "epoch: 24: train error: 0.05523933987650606, validation error: 0.09443033843611677, validation accuracy: 0.9713541666666666\n",
      "epoch: 25: train error: 0.054863186408248214, validation error: 0.0949739186714093, validation accuracy: 0.9765625\n",
      "epoch: 26: train error: 0.05351842977106571, validation error: 0.09256850928068161, validation accuracy: 0.9765625\n",
      "epoch: 27: train error: 0.04915211523572604, validation error: 0.09519011775652568, validation accuracy: 0.9791666666666666\n",
      "epoch: 28: train error: 0.04760219736231698, validation error: 0.09296418284066021, validation accuracy: 0.9713541666666666\n",
      "epoch: 29: train error: 0.04449858892088135, validation error: 0.09901976608671248, validation accuracy: 0.96875\n",
      "epoch: 30: train error: 0.045928786508738995, validation error: 0.08860078531627853, validation accuracy: 0.9739583333333334\n",
      "epoch: 31: train error: 0.04283794641701712, validation error: 0.08970741679271062, validation accuracy: 0.9765625\n",
      "epoch: 32: train error: 0.03931174976751208, validation error: 0.09317463527744015, validation accuracy: 0.9765625\n",
      "epoch: 33: train error: 0.039873606401185195, validation error: 0.08792522867831092, validation accuracy: 0.9765625\n",
      "epoch: 34: train error: 0.03777387435030606, validation error: 0.08854355515601735, validation accuracy: 0.9739583333333334\n",
      "epoch: 35: train error: 0.0360263797454536, validation error: 0.09185675787739456, validation accuracy: 0.9739583333333334\n",
      "epoch: 36: train error: 0.03507555025733179, validation error: 0.08769722430345912, validation accuracy: 0.9791666666666666\n",
      "epoch: 37: train error: 0.03372729149543577, validation error: 0.08761784756400932, validation accuracy: 0.9739583333333334\n",
      "epoch: 38: train error: 0.033586774554310576, validation error: 0.08728547813370824, validation accuracy: 0.9765625\n",
      "epoch: 39: train error: 0.03226185085044967, validation error: 0.08636521718775232, validation accuracy: 0.9791666666666666\n",
      "epoch: 40: train error: 0.031351056860552895, validation error: 0.08702124992851168, validation accuracy: 0.9765625\n",
      "epoch: 41: train error: 0.028506506099883054, validation error: 0.0859318298753351, validation accuracy: 0.9765625\n",
      "epoch: 42: train error: 0.02892977303514878, validation error: 0.08505410452683766, validation accuracy: 0.9765625\n",
      "epoch: 43: train error: 0.028554328929425943, validation error: 0.08435568974042933, validation accuracy: 0.9817708333333334\n",
      "epoch: 44: train error: 0.027600059958381787, validation error: 0.08598450866217415, validation accuracy: 0.9817708333333334\n",
      "epoch: 45: train error: 0.02573118368163705, validation error: 0.08670295053161681, validation accuracy: 0.9791666666666666\n",
      "epoch: 46: train error: 0.025542839926977954, validation error: 0.08481126457142334, validation accuracy: 0.9791666666666666\n",
      "epoch: 47: train error: 0.025703066121786834, validation error: 0.08657736843451858, validation accuracy: 0.9765625\n",
      "epoch: 48: train error: 0.02479211571108964, validation error: 0.08970198838505894, validation accuracy: 0.9765625\n",
      "Stopping early\n",
      "lowest validation error 0.08435568974042933, validation accuracy 0.9817708333333334, epoch 43\n"
     ]
    }
   ],
   "source": [
    "num_epochs = 100\n",
    "num_feature = 64\n",
    "num_hidden = 30\n",
    "num_class = 10\n",
    "\n",
    "learning_rate = 0.1\n",
    "\n",
    "model = MLP(num_feature, num_hidden, num_class)\n",
    "opt = optim.SGD(params=model.parameters(), lr=learning_rate) # SGD : stochastic gradient descent algorithm\n",
    "\n",
    "dataset = datasets.load_digits()\n",
    "data = dataset['data']\n",
    "target = dataset['target']\n",
    "images = dataset['images']\n",
    "images = images * (255. / 16.) # 0-16 -> 0-255\n",
    "images = images.astype(np.uint8)\n",
    "X_train, X_val, y_train, y_val = train_test_split(images, target, test_size=0.2, random_state=42)\n",
    "\n",
    "transform = transforms.Compose([\n",
    "    transforms.ToTensor(),\n",
    "    transforms.Normalize(mean=(0.5,),std=(0.5,))])\n",
    "\n",
    "train_dataset = MyDataset(X_train, y_train, transform=transform)\n",
    "val_dataset = MyDataset(X_val, y_val, transform=transform)\n",
    "\n",
    "batch_size = 32\n",
    "train_loader = DataLoader(train_dataset, batch_size=batch_size, shuffle=True, num_workers=2)\n",
    "val_loader = DataLoader(val_dataset, batch_size=batch_size, num_workers=2)\n",
    "\n",
    "train_losses, val_losses, val_accuracies = learning(model, train_loader, val_loader, opt, F.cross_entropy, num_epochs=100, early_stopping=5,save_path='./models/checkpoint')"
   ]
  },
  {
   "cell_type": "code",
   "execution_count": 83,
   "id": "eeea92fe-3a09-4b46-98f1-aa61d9b1bd00",
   "metadata": {
    "scrolled": true
   },
   "outputs": [
    {
     "name": "stderr",
     "output_type": "stream",
     "text": [
      "/tmp/ipykernel_11956/3350620968.py:1: FutureWarning: You are using `torch.load` with `weights_only=False` (the current default value), which uses the default pickle module implicitly. It is possible to construct malicious pickle data which will execute arbitrary code during unpickling (See https://github.com/pytorch/pytorch/blob/main/SECURITY.md#untrusted-models for more details). In a future release, the default value for `weights_only` will be flipped to `True`. This limits the functions that could be executed during unpickling. Arbitrary objects will no longer be allowed to be loaded via this mode unless they are explicitly allowlisted by the user via `torch.serialization.add_safe_globals`. We recommend you start setting `weights_only=True` for any use case where you don't have full control of the loaded file. Please open an issue on GitHub for any issues related to this experimental feature.\n",
      "  state = torch.load('./models/checkpoint')\n"
     ]
    },
    {
     "data": {
      "text/plain": [
       "{'model_state_dict': OrderedDict([('l1.weight',\n",
       "               tensor([[ 0.0225, -0.0140, -0.1645,  ...,  0.1484, -0.1076,  0.0362],\n",
       "                       [-0.0640,  0.0876,  0.1976,  ...,  0.2900,  0.2857, -0.0144],\n",
       "                       [-0.2432, -0.2231, -0.2752,  ..., -0.0853, -0.1537, -0.1530],\n",
       "                       ...,\n",
       "                       [ 0.0730,  0.1089,  0.0837,  ..., -0.0698,  0.0029,  0.0557],\n",
       "                       [-0.1640, -0.0304, -0.1817,  ...,  0.0833, -0.2174, -0.0019],\n",
       "                       [ 0.0205, -0.0455, -0.0052,  ...,  0.3358,  0.1818,  0.1331]])),\n",
       "              ('l1.bias',\n",
       "               tensor([-0.0493,  0.0271,  0.1941,  0.0708,  0.1463, -0.0124, -0.0146,  0.2290,\n",
       "                       -0.0788,  0.1896, -0.0266,  0.0639, -0.0321,  0.0805,  0.0445,  0.0820,\n",
       "                        0.0505, -0.0685, -0.0953, -0.0483,  0.1278,  0.0709,  0.1862,  0.1266,\n",
       "                       -0.0322,  0.0412, -0.0178,  0.0882,  0.1366,  0.0073])),\n",
       "              ('l2.weight',\n",
       "               tensor([[ 6.9901e-01,  5.3479e-01, -1.7817e-01, -2.4171e-01, -1.7603e-01,\n",
       "                         3.8673e-02,  3.9398e-01, -6.4708e-01,  7.7272e-02,  3.2683e-02,\n",
       "                        -1.7811e-01,  8.1598e-01, -2.7977e-02,  2.5419e-02, -4.2062e-01,\n",
       "                        -8.6592e-02,  2.5272e-02,  1.7148e-01,  1.5847e-01, -6.5489e-01,\n",
       "                        -5.1092e-01, -2.0706e-02, -2.6940e-01,  1.0628e+00,  5.5981e-02,\n",
       "                        -1.0383e-01, -3.9960e-02, -2.9431e-02,  1.3809e-01, -3.6876e-01],\n",
       "                       [-1.1640e-01, -5.7414e-01, -5.7156e-02, -5.0975e-01,  4.7596e-01,\n",
       "                        -1.3474e-01, -1.1016e+00,  3.5384e-01,  7.7374e-01, -4.7293e-01,\n",
       "                         2.0659e-01, -2.0744e-01,  2.1043e-01, -1.4448e-01,  4.0112e-01,\n",
       "                         1.0742e-01, -1.9083e-01, -1.0603e-01,  7.3545e-02, -4.6061e-01,\n",
       "                         1.7819e-01, -1.7581e-01,  8.8901e-01, -5.1186e-02, -1.5938e-01,\n",
       "                        -5.7142e-02,  6.4211e-01, -2.7524e-03,  3.9551e-01,  7.3169e-01],\n",
       "                       [ 1.3927e-01,  1.0399e+00,  1.5939e-02, -6.1986e-01, -2.1309e-01,\n",
       "                        -8.6572e-02,  2.6072e-01, -2.6642e-01, -4.5301e-01, -2.4217e-01,\n",
       "                         9.1517e-02, -2.6294e-01, -2.0952e-01, -3.0744e-01,  7.2652e-01,\n",
       "                         7.3841e-02, -1.5437e-01, -1.6605e-01, -1.2895e-01, -7.0561e-02,\n",
       "                         1.2143e+00, -6.8915e-02,  3.1577e-01, -1.2080e-01, -4.1923e-02,\n",
       "                         1.7202e-01,  1.0397e+00,  3.0316e-02, -9.8999e-01,  1.1386e-01],\n",
       "                       [-3.5976e-01, -9.7373e-02, -2.0968e-01,  7.0144e-01,  2.3128e-01,\n",
       "                         1.4488e-01,  6.4488e-01,  2.1375e-01, -6.1707e-03, -3.6849e-01,\n",
       "                         1.1961e-01,  3.6782e-01, -2.5058e-02, -4.8749e-01,  6.3045e-01,\n",
       "                        -9.2001e-01,  1.7660e-01,  1.7910e-01, -1.1400e-01,  8.6973e-01,\n",
       "                         6.9332e-01, -3.5103e-02, -4.2874e-01, -8.4832e-01,  5.1708e-02,\n",
       "                         2.0510e-01, -2.6928e-01, -8.2234e-02, -5.1455e-01, -1.2330e-01],\n",
       "                       [-6.0907e-01, -3.0925e-01,  1.5139e+00, -5.6753e-01, -1.7138e-01,\n",
       "                         1.0661e-01, -6.3689e-01,  1.5279e-01,  1.6666e-01,  8.5075e-01,\n",
       "                        -1.1747e-01, -1.0368e-01, -2.4338e-01, -7.7353e-02, -6.1668e-01,\n",
       "                         4.2246e-01, -3.3049e-01, -1.3746e-01, -4.0151e-02, -3.2579e-01,\n",
       "                        -3.0597e-01, -1.6995e-01,  2.0467e-02,  3.8445e-01,  7.4356e-04,\n",
       "                        -2.6020e-01, -6.9573e-02, -5.7620e-02,  2.8464e-01, -3.7228e-01],\n",
       "                       [-5.5912e-01, -1.2211e-01, -4.2389e-01, -1.9700e-02, -2.6202e-01,\n",
       "                         1.4968e-03,  4.9222e-01,  7.3447e-01, -1.9790e-01, -6.6776e-01,\n",
       "                        -1.8096e-01,  4.3147e-01, -1.8051e-01, -3.4553e-01, -9.5254e-01,\n",
       "                         6.2282e-01, -2.1479e-01, -9.3719e-02, -6.1806e-02,  1.1475e+00,\n",
       "                        -5.5848e-01, -1.0516e-01, -5.6754e-01,  2.0554e-01,  2.7071e-03,\n",
       "                        -7.4476e-02, -5.5336e-02, -1.1827e-01,  4.1864e-01,  2.7402e-01],\n",
       "                       [ 6.0369e-01, -4.1029e-01,  4.6527e-01,  2.0032e-01, -1.6353e-01,\n",
       "                        -1.2944e-01, -5.1166e-02, -8.4930e-01, -4.2245e-02,  1.1077e-01,\n",
       "                        -9.7721e-02,  3.7233e-02, -1.3974e-01, -6.9209e-01, -8.5043e-01,\n",
       "                         2.0766e-01,  8.6430e-01, -1.0714e-01, -1.6977e-01, -1.0422e-01,\n",
       "                         3.9493e-01,  1.0923e-01,  1.0670e+00, -1.1876e-02, -7.1730e-03,\n",
       "                        -2.7811e-02, -4.3082e-01, -1.9612e-02, -1.0079e-01,  5.5274e-02],\n",
       "                       [-3.5088e-01, -3.6619e-01,  3.9046e-01, -8.6204e-01,  7.9824e-01,\n",
       "                        -1.5311e-01,  4.0783e-01,  9.3379e-01, -2.2934e-01,  6.8596e-01,\n",
       "                        -1.5265e-02, -1.3050e-01,  2.5320e-02,  4.8510e-03,  5.0445e-01,\n",
       "                        -8.4218e-02,  2.8880e-01,  1.8091e-01,  7.0091e-02, -6.1831e-01,\n",
       "                        -5.8896e-01,  1.9124e-02, -5.7117e-01, -5.5463e-02, -6.0529e-02,\n",
       "                         7.5072e-02, -1.7050e-01,  3.3194e-02, -5.1458e-01, -5.3413e-01],\n",
       "                       [ 8.5291e-01, -4.0842e-01,  1.6010e-02,  1.0047e+00, -7.2674e-01,\n",
       "                         6.9432e-02,  7.0862e-02,  1.4500e-01,  2.0092e-01,  4.5001e-01,\n",
       "                        -2.2785e-01, -9.6835e-01, -1.4144e-01,  5.3724e-01, -1.0360e-01,\n",
       "                        -4.7367e-01, -1.6945e-01, -3.0972e-02, -1.1586e-01,  7.0818e-02,\n",
       "                        -2.4763e-01,  4.2581e-02,  4.7178e-01, -1.7702e-02, -1.3090e-01,\n",
       "                        -2.8182e-01, -3.1071e-02, -1.5798e-01, -3.4058e-01,  2.5783e-01],\n",
       "                       [-3.8237e-01,  1.2201e-01, -9.9380e-01,  6.0177e-01,  3.3705e-01,\n",
       "                         1.0456e-01,  5.7919e-02, -4.9519e-01,  1.4400e-01,  1.2987e-01,\n",
       "                         1.3316e-01, -3.4295e-01,  4.3497e-01,  1.2048e+00,  2.1711e-01,\n",
       "                         3.6953e-01, -2.4306e-01, -5.5879e-02, -1.2632e-01, -1.2293e-01,\n",
       "                        -2.7040e-01,  1.3082e-01, -7.2481e-01, -2.6383e-01, -1.4265e-02,\n",
       "                         2.6505e-01, -3.2040e-01, -1.2542e-01,  5.9859e-01,  3.0358e-01]])),\n",
       "              ('l2.bias',\n",
       "               tensor([ 0.1142, -0.0813, -0.1182, -0.1753,  0.1514,  0.0327, -0.1414,  0.1161,\n",
       "                       -0.1106, -0.1369]))]),\n",
       " 'optimizer_state_dict': {'state': {},\n",
       "  'param_groups': [{'lr': 0.1,\n",
       "    'momentum': 0,\n",
       "    'dampening': 0,\n",
       "    'weight_decay': 0,\n",
       "    'nesterov': False,\n",
       "    'maximize': False,\n",
       "    'foreach': None,\n",
       "    'differentiable': False,\n",
       "    'fused': None,\n",
       "    'params': [0, 1, 2, 3]}]},\n",
       " 'val_loss': 0.08435568974042933}"
      ]
     },
     "execution_count": 83,
     "metadata": {},
     "output_type": "execute_result"
    }
   ],
   "source": [
    "state = torch.load('./models/checkpoint')\n",
    "state"
   ]
  },
  {
   "cell_type": "code",
   "execution_count": 85,
   "id": "e6b403c8-ac50-43a7-9e2a-bfa5130fc98c",
   "metadata": {},
   "outputs": [],
   "source": [
    "model.load_state_dict(state['model_state_dict'])\n",
    "opt.load_state_dict(state['optimizer_state_dict'])"
   ]
  },
  {
   "cell_type": "code",
   "execution_count": null,
   "id": "9c4c76d6-33b5-4491-ae88-a2a44dcf3765",
   "metadata": {},
   "outputs": [],
   "source": []
  }
 ],
 "metadata": {
  "kernelspec": {
   "display_name": "Python 3 (ipykernel)",
   "language": "python",
   "name": "python3"
  },
  "language_info": {
   "codemirror_mode": {
    "name": "ipython",
    "version": 3
   },
   "file_extension": ".py",
   "mimetype": "text/x-python",
   "name": "python",
   "nbconvert_exporter": "python",
   "pygments_lexer": "ipython3",
   "version": "3.8.20"
  }
 },
 "nbformat": 4,
 "nbformat_minor": 5
}
