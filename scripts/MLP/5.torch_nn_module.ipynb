{
 "cells": [
  {
   "cell_type": "code",
   "execution_count": 6,
   "id": "59d18cec-1b34-4c7a-af90-d47ebc5a92ca",
   "metadata": {},
   "outputs": [],
   "source": [
    "from torch import nn\n",
    "import torch\n",
    "from torch.nn import functional as F"
   ]
  },
  {
   "cell_type": "markdown",
   "id": "da7fa1f1-6a30-40f3-be3c-3c8956e01728",
   "metadata": {},
   "source": [
    "Test"
   ]
  },
  {
   "cell_type": "code",
   "execution_count": 2,
   "id": "67ef36f0-a709-4332-9cd6-58b88f6ad6d7",
   "metadata": {},
   "outputs": [],
   "source": [
    "linear = nn.Linear(64,30)"
   ]
  },
  {
   "cell_type": "code",
   "execution_count": 3,
   "id": "bda1bed4-b539-4e40-8cbc-fdbba81a050e",
   "metadata": {},
   "outputs": [
    {
     "data": {
      "text/plain": [
       "[Parameter containing:\n",
       " tensor([[-0.0939, -0.0826,  0.1049,  ...,  0.0021, -0.0599, -0.0877],\n",
       "         [-0.0044,  0.0065, -0.0554,  ...,  0.0486,  0.1140, -0.0727],\n",
       "         [ 0.0176,  0.0123,  0.1015,  ..., -0.1201, -0.0947, -0.0715],\n",
       "         ...,\n",
       "         [-0.0680, -0.0062, -0.0988,  ..., -0.0618, -0.0185, -0.0852],\n",
       "         [ 0.0578, -0.1157,  0.0002,  ..., -0.0328, -0.0481,  0.0697],\n",
       "         [ 0.0788,  0.0141,  0.0714,  ..., -0.0159,  0.0530, -0.0177]],\n",
       "        requires_grad=True),\n",
       " Parameter containing:\n",
       " tensor([ 0.0418, -0.0474, -0.0762, -0.1161, -0.0092, -0.0704,  0.0261, -0.1004,\n",
       "         -0.0282, -0.0279,  0.1210,  0.0920, -0.0228,  0.1233, -0.0547,  0.0423,\n",
       "         -0.1147, -0.0921,  0.0052,  0.0340, -0.0615, -0.0736,  0.0559,  0.1228,\n",
       "         -0.0376,  0.1036, -0.0855,  0.1182, -0.0173,  0.0130],\n",
       "        requires_grad=True)]"
      ]
     },
     "execution_count": 3,
     "metadata": {},
     "output_type": "execute_result"
    }
   ],
   "source": [
    "list(linear.parameters())"
   ]
  },
  {
   "cell_type": "code",
   "execution_count": 6,
   "id": "a80b6b26-d278-4035-ae82-99481f301fd3",
   "metadata": {},
   "outputs": [
    {
     "data": {
      "text/plain": [
       "(Parameter containing:\n",
       " tensor([[-0.0939, -0.0826,  0.1049,  ...,  0.0021, -0.0599, -0.0877],\n",
       "         [-0.0044,  0.0065, -0.0554,  ...,  0.0486,  0.1140, -0.0727],\n",
       "         [ 0.0176,  0.0123,  0.1015,  ..., -0.1201, -0.0947, -0.0715],\n",
       "         ...,\n",
       "         [-0.0680, -0.0062, -0.0988,  ..., -0.0618, -0.0185, -0.0852],\n",
       "         [ 0.0578, -0.1157,  0.0002,  ..., -0.0328, -0.0481,  0.0697],\n",
       "         [ 0.0788,  0.0141,  0.0714,  ..., -0.0159,  0.0530, -0.0177]],\n",
       "        requires_grad=True),\n",
       " torch.Size([30, 64]))"
      ]
     },
     "execution_count": 6,
     "metadata": {},
     "output_type": "execute_result"
    }
   ],
   "source": [
    "linear.weight, linear.weight.shape"
   ]
  },
  {
   "cell_type": "code",
   "execution_count": 7,
   "id": "1bca3052-0f1a-4b1e-a8ce-7912229a85b7",
   "metadata": {},
   "outputs": [
    {
     "data": {
      "text/plain": [
       "(Parameter containing:\n",
       " tensor([ 0.0418, -0.0474, -0.0762, -0.1161, -0.0092, -0.0704,  0.0261, -0.1004,\n",
       "         -0.0282, -0.0279,  0.1210,  0.0920, -0.0228,  0.1233, -0.0547,  0.0423,\n",
       "         -0.1147, -0.0921,  0.0052,  0.0340, -0.0615, -0.0736,  0.0559,  0.1228,\n",
       "         -0.0376,  0.1036, -0.0855,  0.1182, -0.0173,  0.0130],\n",
       "        requires_grad=True),\n",
       " torch.Size([30]))"
      ]
     },
     "execution_count": 7,
     "metadata": {},
     "output_type": "execute_result"
    }
   ],
   "source": [
    "linear.bias, linear.bias.shape"
   ]
  },
  {
   "cell_type": "code",
   "execution_count": 10,
   "id": "37960e90-39f2-4853-9f34-72e445f1916b",
   "metadata": {},
   "outputs": [
    {
     "data": {
      "text/plain": [
       "torch.Size([5, 30])"
      ]
     },
     "execution_count": 10,
     "metadata": {},
     "output_type": "execute_result"
    }
   ],
   "source": [
    "x = torch.randn((5,64))\n",
    "z = linear(x)\n",
    "z.shape"
   ]
  },
  {
   "cell_type": "markdown",
   "id": "3c9ba936-4f41-4c33-b841-2b2ef32aa39b",
   "metadata": {},
   "source": [
    "**Build a MLP model**\n",
    "\n",
    "3 ways to build a model: <br>\n",
    "&emsp;&emsp;**1.** nn`<class>` and F.`<function>` &emsp;&emsp;--*popular way*--<br>\n",
    "&emsp;&emsp;**2.** nn`<class>` only<br>\n",
    "&emsp;&emsp;**3.** nn.Sequential<br>"
   ]
  },
  {
   "cell_type": "markdown",
   "id": "a3aac2a9-2115-4eb8-97c0-9f16627c1031",
   "metadata": {},
   "source": [
    "#### **1.** nn`<class>` and F.`<function>`"
   ]
  },
  {
   "cell_type": "code",
   "execution_count": 9,
   "id": "843c0027-27e6-48e5-b2d8-50dcb74fd370",
   "metadata": {},
   "outputs": [],
   "source": [
    "class MLP(nn.Module):\n",
    "    def __init__(self, num_in, num_hidden, num_out):\n",
    "        super().__init__()\n",
    "        self.l1 = nn.Linear(num_in, num_hidden)\n",
    "        self.l2 = nn.Linear(num_hidden, num_out)\n",
    "\n",
    "    def forward(self, X):\n",
    "        z1 = self.l1(X)\n",
    "        a1 = F.relu(z1)\n",
    "        x = self.l2(a1)\n",
    "\n",
    "        return x\n",
    "        "
   ]
  },
  {
   "cell_type": "code",
   "execution_count": null,
   "id": "3b9aa75f-4fe0-44b3-bae9-539ef0e58d16",
   "metadata": {},
   "outputs": [],
   "source": [
    "model = MLP(64, 30, 10)\n",
    "X = torch.randn(5, 64)\n",
    "Z = model(X)\n",
    "Z.shape"
   ]
  },
  {
   "cell_type": "markdown",
   "id": "392e7971-c1bb-4bf9-bb6a-7287dc524314",
   "metadata": {},
   "source": [
    "#### **2.** nn`<class>`"
   ]
  },
  {
   "cell_type": "code",
   "execution_count": 8,
   "id": "7faf5808-6c34-46cf-919a-818d16a30365",
   "metadata": {},
   "outputs": [],
   "source": [
    "class MLP(nn.Module):\n",
    "    def __init__(self, num_in, num_hidden, num_out):\n",
    "        super().__init__()\n",
    "        self.l1 = nn.Linear(num_in, num_hidden)\n",
    "        self.l2 = nn.Linear(num_hidden, num_out)\n",
    "        self.relu = nn.ReLU()\n",
    "\n",
    "    def forward(self,X):\n",
    "        z1 = self.l1(X)\n",
    "        a1 = self.relu(z1)\n",
    "        x = self.l2(a1)\n",
    "\n",
    "        return x"
   ]
  },
  {
   "cell_type": "code",
   "execution_count": null,
   "id": "44315430-4bc9-4a45-b726-3768a686f6f2",
   "metadata": {},
   "outputs": [],
   "source": [
    "model = MLP(64, 30, 10)\n",
    "X = torch.randn(5, 64)\n",
    "Z = model(X)\n",
    "Z.shape"
   ]
  },
  {
   "cell_type": "markdown",
   "id": "a4616c34-7aad-4152-96ac-e641b7b91393",
   "metadata": {},
   "source": [
    "#### 3. nn.Sequential"
   ]
  },
  {
   "cell_type": "code",
   "execution_count": null,
   "id": "615f4074-e5b0-4800-8f24-7fc15bd9ed2d",
   "metadata": {
    "scrolled": true
   },
   "outputs": [],
   "source": [
    " model = nn.Sequential(\n",
    "    nn.Linear(num_in, num_hidden),\n",
    "    nn.ReLU(),\n",
    "    nn.Linear(num_hidden, num_out)\n",
    ")"
   ]
  },
  {
   "cell_type": "code",
   "execution_count": null,
   "id": "93badcd7-8dba-478d-b711-acf279c5ec5c",
   "metadata": {},
   "outputs": [],
   "source": [
    "Z = model(X)\n",
    "Z.shape"
   ]
  },
  {
   "cell_type": "markdown",
   "id": "e6d8002e-3b2c-4aa2-9920-06991ea8fd79",
   "metadata": {},
   "source": [
    "### Integrate nn module with learning"
   ]
  },
  {
   "cell_type": "code",
   "execution_count": 1,
   "id": "30a801ef-f600-48de-8820-0329bce72f47",
   "metadata": {},
   "outputs": [],
   "source": [
    "import numpy as np\n",
    "import matplotlib.pyplot as plt\n",
    "from sklearn import datasets\n",
    "import torch\n",
    "from torch.nn import functional as F\n",
    "from sklearn.model_selection import train_test_split"
   ]
  },
  {
   "cell_type": "code",
   "execution_count": 2,
   "id": "a2e9f624-ab02-44eb-8f5c-e055184db627",
   "metadata": {},
   "outputs": [],
   "source": [
    "dataset = datasets.load_digits()\n",
    "images = dataset['images']\n",
    "target = dataset['target']"
   ]
  },
  {
   "cell_type": "code",
   "execution_count": 14,
   "id": "d593b677-208e-45ae-9237-5d4174c7458f",
   "metadata": {},
   "outputs": [],
   "source": [
    "X_train, X_val, y_train,y_val = train_test_split(images, target, test_size=0.2,random_state=42)\n",
    "\n",
    "# normalization\n",
    "x_mean = X_train.mean()\n",
    "x_std = X_train.std()\n",
    "X_train = (X_train - x_mean)/x_std\n",
    "X_val = (X_val - x_mean)/x_std\n",
    "\n",
    "X_train = torch.tensor(X_train.reshape(-1,64), dtype=torch.float32)\n",
    "X_val = torch.tensor(X_val.reshape(-1,64), dtype=torch.float32)\n",
    "y_train = torch.tensor(y_train)\n",
    "y_val = torch.tensor(y_val)"
   ]
  },
  {
   "cell_type": "code",
   "execution_count": 15,
   "id": "8e6cb587-95e4-44b0-8e02-a8003ac18a38",
   "metadata": {},
   "outputs": [],
   "source": [
    "class MLP(nn.Module):\n",
    "    def __init__(self, num_in, num_hidden, num_out):\n",
    "        super().__init__()\n",
    "        self.l1 = nn.Linear(num_in, num_hidden)\n",
    "        self.l2 = nn.Linear(num_hidden, num_out)\n",
    "\n",
    "    def forward(self, X):\n",
    "        z1 = self.l1(X)\n",
    "        a1 = F.relu(z1)\n",
    "        x = self.l2(a1)\n",
    "\n",
    "        return x\n",
    "        "
   ]
  },
  {
   "cell_type": "code",
   "execution_count": 20,
   "id": "d60d46e6-c498-4cad-878a-8d99aac99f4a",
   "metadata": {},
   "outputs": [
    {
     "name": "stdout",
     "output_type": "stream",
     "text": [
      "epoch: 0: train error: 2.141655445098877, validation error: 1.9297327995300293, validation accuracy: 0.6166666746139526\n",
      "epoch: 1: train error: 1.6647042284409206, validation error: 1.3725687265396118, validation accuracy: 0.8305555582046509\n",
      "epoch: 2: train error: 1.1341558508574963, validation error: 0.898957371711731, validation accuracy: 0.8861111402511597\n",
      "epoch: 3: train error: 0.7665294632315636, validation error: 0.6280798316001892, validation accuracy: 0.9083333611488342\n",
      "epoch: 4: train error: 0.5562433252731959, validation error: 0.4624709188938141, validation accuracy: 0.9111111164093018\n",
      "epoch: 5: train error: 0.4299967500070731, validation error: 0.3751234710216522, validation accuracy: 0.9333333373069763\n",
      "epoch: 6: train error: 0.353289513848722, validation error: 0.3138071298599243, validation accuracy: 0.9277777671813965\n",
      "epoch: 7: train error: 0.3005487673605482, validation error: 0.28097888827323914, validation accuracy: 0.9333333373069763\n",
      "epoch: 8: train error: 0.26371952425688505, validation error: 0.2473953813314438, validation accuracy: 0.9444444179534912\n",
      "epoch: 9: train error: 0.23788459552451968, validation error: 0.22270312905311584, validation accuracy: 0.949999988079071\n",
      "epoch: 10: train error: 0.2158706906872491, validation error: 0.20543815195560455, validation accuracy: 0.9527778029441833\n",
      "epoch: 11: train error: 0.19724190421402454, validation error: 0.19446195662021637, validation accuracy: 0.949999988079071\n",
      "epoch: 12: train error: 0.18341004506995282, validation error: 0.18065980076789856, validation accuracy: 0.9555555582046509\n",
      "epoch: 13: train error: 0.17117211952184638, validation error: 0.1736302226781845, validation accuracy: 0.9555555582046509\n",
      "epoch: 14: train error: 0.16157611242185035, validation error: 0.16404396295547485, validation accuracy: 0.9611111283302307\n",
      "epoch: 15: train error: 0.1521296820913752, validation error: 0.15842905640602112, validation accuracy: 0.9638888835906982\n",
      "epoch: 16: train error: 0.14436402986757457, validation error: 0.15249574184417725, validation accuracy: 0.9611111283302307\n",
      "epoch: 17: train error: 0.13719073644218346, validation error: 0.14662452042102814, validation accuracy: 0.9638888835906982\n",
      "epoch: 18: train error: 0.1307147912836323, validation error: 0.14107583463191986, validation accuracy: 0.9666666388511658\n",
      "epoch: 19: train error: 0.12461511868362625, validation error: 0.13738204538822174, validation accuracy: 0.9638888835906982\n",
      "epoch: 20: train error: 0.12010085225726168, validation error: 0.13591936230659485, validation accuracy: 0.9666666388511658\n",
      "epoch: 21: train error: 0.11443288756224017, validation error: 0.13586823642253876, validation accuracy: 0.9583333134651184\n",
      "epoch: 22: train error: 0.11029922457722326, validation error: 0.1326194405555725, validation accuracy: 0.9611111283302307\n",
      "epoch: 23: train error: 0.10719813732430339, validation error: 0.12575450539588928, validation accuracy: 0.9694444537162781\n",
      "epoch: 24: train error: 0.10390299465507269, validation error: 0.1235654279589653, validation accuracy: 0.9666666388511658\n",
      "epoch: 25: train error: 0.09906881263790031, validation error: 0.12305917590856552, validation accuracy: 0.9666666388511658\n",
      "epoch: 26: train error: 0.09584586508572102, validation error: 0.12055108696222305, validation accuracy: 0.9666666388511658\n",
      "epoch: 27: train error: 0.09392347450678547, validation error: 0.1175994873046875, validation accuracy: 0.9694444537162781\n",
      "epoch: 28: train error: 0.08977432339452207, validation error: 0.11675091832876205, validation accuracy: 0.9694444537162781\n",
      "epoch: 29: train error: 0.0880588785900424, validation error: 0.11481058597564697, validation accuracy: 0.9722222089767456\n"
     ]
    }
   ],
   "source": [
    "epochs = 30\n",
    "num_feature = 64\n",
    "num_hidden = 30\n",
    "num_class = 10\n",
    "\n",
    "learning_rate = 0.03\n",
    "\n",
    "batch_size = 30\n",
    "num_batches = np.ceil(len(y_train)/batch_size).astype(int)\n",
    "model = MLP(num_feature, num_hidden, num_class)\n",
    "\n",
    "train_losses = []\n",
    "val_losses = []\n",
    "val_accuracies = []\n",
    "\n",
    "for epoch in range(epochs):\n",
    "    \n",
    "    shuffled_indices = np.random.permutation(len(y_train))\n",
    "    running_loss = 0\n",
    "    \n",
    "    for i in range(num_batches):\n",
    "        \n",
    "        start = i * batch_size\n",
    "        end = start + batch_size\n",
    "        batch_indices = shuffled_indices[start:end]\n",
    "\n",
    "        # place break point\n",
    "        # import pdb; pdb.set_trace()\n",
    "        \n",
    "        y = y_train[batch_indices] \n",
    "        X = X_train[batch_indices] \n",
    "\n",
    "        preds = model(X)\n",
    "        loss = F.cross_entropy(preds, y)\n",
    "        loss.backward()\n",
    "        running_loss += loss.item()\n",
    "\n",
    "        with torch.no_grad():\n",
    "            for param in model.parameters():\n",
    "                param -= learning_rate *param.grad\n",
    "\n",
    "        model.zero_grad()\n",
    "\n",
    "\n",
    "    # validation\n",
    "    with torch.no_grad():\n",
    "        preds_val = model(X_val)\n",
    "        val_loss = F.cross_entropy(preds_val, y_val)\n",
    "        val_accuracy = torch.sum(torch.argmax(preds_val, dim=1)==y_val) / y_val.shape[0]\n",
    "\n",
    "\n",
    "    train_losses.append(running_loss/num_batches)\n",
    "    val_losses.append(val_loss.item())\n",
    "    val_accuracies.append(val_accuracies)\n",
    "\n",
    "    print(f'epoch: {epoch}: train error: {running_loss/num_batches}, validation error: {val_loss.item()}, validation accuracy: {val_accuracy}')\n",
    "\n"
   ]
  },
  {
   "cell_type": "code",
   "execution_count": 21,
   "id": "b7e86538-e57a-4cda-b2aa-f8bce56d52ab",
   "metadata": {},
   "outputs": [
    {
     "data": {
      "text/plain": [
       "[<matplotlib.lines.Line2D at 0x7f03705a0580>]"
      ]
     },
     "execution_count": 21,
     "metadata": {},
     "output_type": "execute_result"
    },
    {
     "data": {
      "image/png": "[encoded data removed]",
      "text/plain": [
       "<Figure size 640x480 with 1 Axes>"
      ]
     },
     "metadata": {},
     "output_type": "display_data"
    }
   ],
   "source": [
    "plt.plot(train_losses)\n",
    "plt.plot(val_losses)"
   ]
  },
  {
   "cell_type": "code",
   "execution_count": null,
   "id": "9dfbebd7-a32f-48a8-be64-0cba32a650af",
   "metadata": {},
   "outputs": [],
   "source": []
  }
 ],
 "metadata": {
  "kernelspec": {
   "display_name": "Python 3 (ipykernel)",
   "language": "python",
   "name": "python3"
  },
  "language_info": {
   "codemirror_mode": {
    "name": "ipython",
    "version": 3
   },
   "file_extension": ".py",
   "mimetype": "text/x-python",
   "name": "python",
   "nbconvert_exporter": "python",
   "pygments_lexer": "ipython3",
   "version": "3.8.20"
  }
 },
 "nbformat": 4,
 "nbformat_minor": 5
}
