{
 "cells": [
  {
   "cell_type": "code",
   "execution_count": 2,
   "id": "23614a3b-3de0-4269-b7cf-2ced0e70ed86",
   "metadata": {},
   "outputs": [],
   "source": [
    "import numpy as np\n",
    "import matplotlib.pyplot as plt\n",
    "from sklearn import datasets\n",
    "import torch\n",
    "from torch.nn import functional as F\n",
    "from sklearn.model_selection import train_test_split"
   ]
  },
  {
   "cell_type": "markdown",
   "id": "b99f1742-c9a4-4784-8c8c-9245712f0540",
   "metadata": {},
   "source": [
    "### Backpropagation from scratch"
   ]
  },
  {
   "cell_type": "markdown",
   "id": "c8a5e49b-23a1-4f01-bf50-cc88add896df",
   "metadata": {},
   "source": [
    "### Generalized Error Backpropagaition for Any layer\n",
    "\n",
    "$$\\Large\\delta^{[l]}=\\frac{\\partial L}{\\partial Z^{[l]}}=\\frac{\\partial L}{\\partial A^{[l]}}\\odot \\frac{\\partial A}{\\partial Z^{[l]}}=\\delta^{l+1}W^{[l+1]} \\odot \\sigma'(z^{[l]})$$\n",
    "\n",
    "**gradient parameter**\n",
    "$$\\Large\\frac{\\partial L}{\\partial W^{[l]}}=\\delta^{[l]T}A^{[l-1]}$$\n",
    "$$\\Large\\frac{\\partial L}{\\partial b^{[l]}}=\\sum{\\delta^{[l]}}$$"
   ]
  },
  {
   "cell_type": "code",
   "execution_count": 46,
   "id": "604ce035-b2cd-4e4d-b9f8-0c4c5aa4b19e",
   "metadata": {},
   "outputs": [],
   "source": [
    "def linear_backward(A, W, b, z):\n",
    "    W.grad_ = z.grad_.T @ A\n",
    "    b.grad_ = torch.sum(z.grad_, dim=0)\n",
    "    A.grad_ = z.grad_ @ W \n",
    "\n",
    "def relu_backward(z, A):\n",
    "    z.grad_ = A.grad_ * (z>0).float()"
   ]
  },
  {
   "cell_type": "code",
   "execution_count": 47,
   "id": "7467a94c-4f85-453e-8bed-49be79445183",
   "metadata": {},
   "outputs": [],
   "source": [
    "def softmax_cross_entropy(x, y_true):\n",
    "    \n",
    "    e_x = torch.exp(x - torch.max(x, dim=-1, keepdim=True)[0])\n",
    "    softmax_output = e_x / torch.sum(e_x, dim=-1,keepdim=True) + 1e-10\n",
    "    loss = -torch.sum(y_true * torch.log(softmax_output+ 1e-10)) / y_true.shape[0]\n",
    "    \n",
    "    return loss, softmax_output"
   ]
  },
  {
   "cell_type": "code",
   "execution_count": 48,
   "id": "5329c004-eaac-4be2-8c35-43244f13e4a2",
   "metadata": {},
   "outputs": [],
   "source": [
    "def linear(X, W, b):\n",
    "    return X@W.T + b\n",
    "\n",
    "def relu(Z):\n",
    "    return Z.clamp_min(0.)\n",
    "def forward_backward(X, y):\n",
    "    # forward\n",
    "    Z1 = linear(X,W1,b1)\n",
    "    Z1.retain_grad()\n",
    "    A1 = relu(Z1)\n",
    "    A1.retain_grad()\n",
    "    Z2 = linear(A1, W2, b2)\n",
    "    Z2.retain_grad()\n",
    "    loss, A2 = softmax_cross_entropy(Z2,y)\n",
    "\n",
    "    # backward\n",
    "    Z2.grad_ = (A2 - y) / X.shape[0]\n",
    "    linear_backward(A1, W2, b2, Z2)\n",
    "    relu_backward(Z1, A1)\n",
    "    linear_backward(X, W1, b1, Z1)\n",
    "\n",
    "    return loss, Z1, A1, Z2, A2"
   ]
  },
  {
   "cell_type": "markdown",
   "id": "10e4a4a3-00ed-429f-9943-4fad49b0303d",
   "metadata": {},
   "source": [
    "### Compare results with Autograd"
   ]
  },
  {
   "cell_type": "code",
   "execution_count": 180,
   "id": "ecfeb7a4-2881-40d3-93d7-c26bac1771db",
   "metadata": {},
   "outputs": [
    {
     "name": "stdout",
     "output_type": "stream",
     "text": [
      "(1437, 8, 8) (1437,)\n",
      "(360, 8, 8) (360,)\n"
     ]
    }
   ],
   "source": [
    "dataset = datasets.load_digits()\n",
    "images = dataset['images']\n",
    "target = dataset['target']\n",
    "\n",
    "X_train, X_val, y_train, y_val = train_test_split(images,target, test_size=0.2, random_state=42)\n",
    "print(X_train.shape, y_train.shape)\n",
    "print(X_val.shape, y_val.shape)"
   ]
  },
  {
   "cell_type": "code",
   "execution_count": 181,
   "id": "c58dd7ac-2a70-4861-81fe-02623ec28a31",
   "metadata": {},
   "outputs": [],
   "source": [
    "# preprocessing data\n",
    "X_train = torch.tensor(X_train, dtype=torch.float32).reshape(-1,64) \n",
    "y_train = F.one_hot(torch.tensor(y_train), num_classes=10)\n",
    "\n",
    "X_val = torch.tensor(X_val, dtype=torch.float32).reshape(-1,64) \n",
    "y_val = F.one_hot(torch.tensor(y_val), num_classes=10)\n",
    "\n",
    "#normalization \n",
    "X_train_mean = X_train.mean()\n",
    "X_train_std = X_train.std()\n",
    "X_train = (X_train - X_train_mean) / X_train_std\n",
    "X_val = (X_val - X_train_mean) / X_train_std"
   ]
  },
  {
   "cell_type": "code",
   "execution_count": 172,
   "id": "b928273f-8214-47ab-89d7-b5437ff34283",
   "metadata": {},
   "outputs": [],
   "source": [
    "m, n = X_train.shape\n",
    "\n",
    "nh= 30 # number of hidden layer neurons\n",
    "class_num = 10\n",
    "# W1 = torch.randn((nh, n), requires_grad=True) # output x input\n",
    "W1 = torch.randn((nh, n)) * torch.sqrt(torch.tensor(2./n))\n",
    "W1.requires_grad = True\n",
    "b1 = torch.zeros((1,nh), requires_grad=True) # 1 x nh\n",
    "\n",
    "# W2 = torch.rand((class_num, nh), requires_grad=True)\n",
    "W2 = torch.randn((class_num,nh)) * torch.sqrt(torch.tensor(2./nh))\n",
    "W2.requires_grad = True\n",
    "b2 = torch.zeros((1,class_num), requires_grad=True)\n",
    "loss, Z1, A1, Z2, A2 = forward_backward(X_train, y_train)\n",
    "\n",
    "# autograd\n",
    "loss.backward()"
   ]
  },
  {
   "cell_type": "code",
   "execution_count": 76,
   "id": "ef0ed835-80c7-4261-90d3-fedc8f3d27f0",
   "metadata": {},
   "outputs": [
    {
     "data": {
      "text/plain": [
       "tensor([[False,  True,  True,  ...,  True,  True, False],\n",
       "        [ True,  True,  True,  ...,  True,  True,  True],\n",
       "        [ True, False, False,  ..., False, False, False],\n",
       "        ...,\n",
       "        [False,  True,  True,  ..., False,  True,  True],\n",
       "        [False,  True, False,  ..., False, False,  True],\n",
       "        [ True, False,  True,  ...,  True,  True,  True]])"
      ]
     },
     "execution_count": 76,
     "metadata": {},
     "output_type": "execute_result"
    }
   ],
   "source": [
    "Z2.grad == Z2.grad_"
   ]
  },
  {
   "cell_type": "markdown",
   "id": "a26b1e46-ba81-4776-8972-d4eaa8defc02",
   "metadata": {},
   "source": [
    "Not all of gradients have the same value. This is due to large values in Z2. Inputing such large values into a softmax function returns unstable values."
   ]
  },
  {
   "cell_type": "code",
   "execution_count": 66,
   "id": "01f86e96-74b7-4d8e-8529-a2f557d13a5b",
   "metadata": {},
   "outputs": [
    {
     "data": {
      "text/plain": [
       "tensor([[6.6815e-01, 1.9412e-01, 4.6190e-01,  ..., 6.7576e-02, 3.4622e-02,\n",
       "         4.0804e-01],\n",
       "        [4.6283e-01, 3.8033e-01, 1.6008e+00,  ..., 1.2597e+00, 1.8649e+00,\n",
       "         1.6783e+00],\n",
       "        [4.6138e+01, 3.4990e+01, 3.2816e+01,  ..., 4.1303e+01, 3.8437e+01,\n",
       "         4.4803e+01],\n",
       "        ...,\n",
       "        [5.2852e+01, 3.9986e+01, 3.6280e+01,  ..., 4.5761e+01, 4.2238e+01,\n",
       "         5.1130e+01],\n",
       "        [1.9658e+01, 1.6038e+01, 1.2339e+01,  ..., 1.6186e+01, 1.5451e+01,\n",
       "         2.2926e+01],\n",
       "        [1.9925e+00, 1.0710e+00, 1.1298e+00,  ..., 1.7635e+00, 1.5072e+00,\n",
       "         2.8835e+00]], grad_fn=<AddBackward0>)"
      ]
     },
     "execution_count": 66,
     "metadata": {},
     "output_type": "execute_result"
    }
   ],
   "source": [
    "Z2"
   ]
  },
  {
   "cell_type": "code",
   "execution_count": 67,
   "id": "a4aa6f33-c289-4f92-b000-4ceed90ff1a7",
   "metadata": {},
   "outputs": [
    {
     "data": {
      "text/plain": [
       "tensor([[-0.8119, -0.8119, -0.3139,  ...,  1.3459, -0.1479, -0.8119],\n",
       "        [-0.8119, -0.8119,  0.6820,  ..., -0.3139, -0.8119, -0.8119],\n",
       "        [-0.8119, -0.8119, -0.8119,  ...,  0.1840, -0.8119, -0.8119],\n",
       "        ...,\n",
       "        [-0.8119, -0.8119,  0.6820,  ...,  1.8439, -0.4799, -0.8119],\n",
       "        [-0.8119, -0.8119, -0.6459,  ..., -0.8119, -0.8119, -0.8119],\n",
       "        [-0.8119, -0.8119, -0.6459,  ..., -0.6459, -0.8119, -0.8119]])"
      ]
     },
     "execution_count": 67,
     "metadata": {},
     "output_type": "execute_result"
    }
   ],
   "source": [
    "X_train"
   ]
  },
  {
   "cell_type": "code",
   "execution_count": 69,
   "id": "88ab030f-7737-49b7-95c0-4aabbf56de0d",
   "metadata": {},
   "outputs": [
    {
     "data": {
      "text/plain": [
       "tensor([[-1.2345, -3.5868, -3.8859,  ...,  0.6438, -3.0002, -2.8253],\n",
       "        [-3.7590, -0.9433, -3.6602,  ..., -1.2557, -2.1354, -3.8087],\n",
       "        [ 0.7664,  4.8794,  1.5471,  ...,  2.7545,  2.0620, -0.2536],\n",
       "        ...,\n",
       "        [ 3.3619,  6.3161,  1.6896,  ...,  3.6176,  0.7358,  2.4133],\n",
       "        [-0.1012,  5.5298, -1.2030,  ..., -0.4551, -3.1179, -1.3277],\n",
       "        [-3.0476, -1.6174, -3.3693,  ..., -3.1016, -3.8619, -1.7228]],\n",
       "       grad_fn=<AddBackward0>)"
      ]
     },
     "execution_count": 69,
     "metadata": {},
     "output_type": "execute_result"
    }
   ],
   "source": [
    "Z1"
   ]
  },
  {
   "cell_type": "markdown",
   "id": "9f3bd5d9-5f18-460c-840c-b8903f02624f",
   "metadata": {},
   "source": [
    "X_train is normalized to avoid having such large values. Z1 still looks ok. However, since $Z2 = Z1 * W2 + b$, Z2 significantlly grows as you increase layers. This is one of issues in NN. <br>\n",
    "<br>\n",
    "W1 is taken from a normal distribution ($W1 \\sim N(0,1)$) of mean=0, std=1<br> \n",
    "Instead, taking an initial parameter from this normal distribution $W1 \\sim N(0,2/n)$ avoids this issue.\n",
    "\n",
    "```python\n",
    "# W1 = torch.randn((nh, n), requires_grad=True) # output x input\n",
    "W1 = torch.randn((nh, n)) * torch.sqrt(torch.tensor(2./n))\n",
    "```"
   ]
  },
  {
   "cell_type": "code",
   "execution_count": 77,
   "id": "a29d5358-fb5a-431d-9b08-68e262853209",
   "metadata": {},
   "outputs": [
    {
     "data": {
      "text/plain": [
       "tensor([[-0.0458, -0.0440, -0.0186,  ...,  0.0508,  0.0143, -0.0304],\n",
       "        [-0.0105, -0.0105, -0.0082,  ...,  0.0070, -0.0071, -0.0095],\n",
       "        [-0.0308, -0.0316, -0.0142,  ..., -0.0055, -0.0214, -0.0326],\n",
       "        ...,\n",
       "        [-0.0306, -0.0224,  0.0397,  ...,  0.0210,  0.0082, -0.0238],\n",
       "        [ 0.0119,  0.0094, -0.0090,  ..., -0.0175, -0.0016,  0.0023],\n",
       "        [ 0.0109,  0.0103, -0.0031,  ...,  0.0042,  0.0102,  0.0105]])"
      ]
     },
     "execution_count": 77,
     "metadata": {},
     "output_type": "execute_result"
    }
   ],
   "source": [
    "W1.grad"
   ]
  },
  {
   "cell_type": "code",
   "execution_count": 78,
   "id": "436df897-1e67-41c7-897e-26479f05dc90",
   "metadata": {},
   "outputs": [
    {
     "data": {
      "text/plain": [
       "tensor([[-0.0458, -0.0440, -0.0186,  ...,  0.0508,  0.0143, -0.0304],\n",
       "        [-0.0105, -0.0105, -0.0082,  ...,  0.0070, -0.0071, -0.0095],\n",
       "        [-0.0308, -0.0316, -0.0142,  ..., -0.0055, -0.0214, -0.0326],\n",
       "        ...,\n",
       "        [-0.0306, -0.0224,  0.0397,  ...,  0.0210,  0.0082, -0.0238],\n",
       "        [ 0.0119,  0.0094, -0.0090,  ..., -0.0175, -0.0016,  0.0023],\n",
       "        [ 0.0109,  0.0103, -0.0031,  ...,  0.0042,  0.0102,  0.0105]],\n",
       "       grad_fn=<MmBackward0>)"
      ]
     },
     "execution_count": 78,
     "metadata": {},
     "output_type": "execute_result"
    }
   ],
   "source": [
    "W1.grad_"
   ]
  },
  {
   "cell_type": "markdown",
   "id": "80031cbc-7eff-4f0d-8a1c-f357563a93fd",
   "metadata": {},
   "source": [
    "#### check if gradient from scratch is similar to gradients from autograd"
   ]
  },
  {
   "cell_type": "code",
   "execution_count": 80,
   "id": "3334d450-7f12-4d2c-9b6b-01d5facd348b",
   "metadata": {},
   "outputs": [
    {
     "name": "stdout",
     "output_type": "stream",
     "text": [
      "W1: True\n",
      "b1: True\n",
      "W2: True\n",
      "b2: True\n"
     ]
    }
   ],
   "source": [
    "print(f'W1: {torch.allclose(W1.grad, W1.grad_)}')\n",
    "print(f'b1: {torch.allclose(b1.grad, b1.grad_)}')\n",
    "print(f'W2: {torch.allclose(W2.grad, W2.grad_)}')\n",
    "print(f'b2: {torch.allclose(b2.grad, b2.grad_)}')"
   ]
  },
  {
   "cell_type": "markdown",
   "id": "c1f7dc5f-85f3-42e7-ae86-544776f8cc6a",
   "metadata": {},
   "source": [
    "### Integrate backpropagation with MLP\n",
    "\n",
    "Using a learning loop developed during multiclass logistic regression model in multiclass_Logistic_Regression.ipynb,\n",
    "integragte a MLP model and backpropagation."
   ]
  },
  {
   "cell_type": "code",
   "execution_count": 108,
   "id": "89e30ba3-9812-4b22-829a-e5932bd3f767",
   "metadata": {},
   "outputs": [
    {
     "name": "stdout",
     "output_type": "stream",
     "text": [
      "epoch: 1: train loss :2.0919 val loss: 1.3614 val accuracy 0.6028\n",
      "epoch: 2: train loss :1.0869 val loss: 0.8210 val accuracy 0.8306\n",
      "epoch: 3: train loss :0.6866 val loss: 0.5577 val accuracy 0.8750\n",
      "epoch: 4: train loss :0.4985 val loss: 0.4216 val accuracy 0.8944\n",
      "epoch: 5: train loss :0.3954 val loss: 0.3439 val accuracy 0.9111\n",
      "epoch: 6: train loss :0.3288 val loss: 0.2883 val accuracy 0.9306\n",
      "epoch: 7: train loss :0.2841 val loss: 0.2550 val accuracy 0.9278\n",
      "epoch: 8: train loss :0.2501 val loss: 0.2286 val accuracy 0.9472\n",
      "epoch: 9: train loss :0.2249 val loss: 0.2057 val accuracy 0.9472\n",
      "epoch: 10: train loss :0.2050 val loss: 0.1890 val accuracy 0.9528\n",
      "epoch: 11: train loss :0.1880 val loss: 0.1758 val accuracy 0.9500\n",
      "epoch: 12: train loss :0.1739 val loss: 0.1657 val accuracy 0.9556\n",
      "epoch: 13: train loss :0.1621 val loss: 0.1578 val accuracy 0.9528\n",
      "epoch: 14: train loss :0.1515 val loss: 0.1471 val accuracy 0.9583\n",
      "epoch: 15: train loss :0.1417 val loss: 0.1437 val accuracy 0.9639\n",
      "epoch: 16: train loss :0.1350 val loss: 0.1375 val accuracy 0.9667\n",
      "epoch: 17: train loss :0.1280 val loss: 0.1322 val accuracy 0.9611\n",
      "epoch: 18: train loss :0.1218 val loss: 0.1271 val accuracy 0.9694\n",
      "epoch: 19: train loss :0.1167 val loss: 0.1226 val accuracy 0.9639\n",
      "epoch: 20: train loss :0.1113 val loss: 0.1190 val accuracy 0.9667\n",
      "epoch: 21: train loss :0.1068 val loss: 0.1149 val accuracy 0.9639\n",
      "epoch: 22: train loss :0.1026 val loss: 0.1130 val accuracy 0.9667\n",
      "epoch: 23: train loss :0.0984 val loss: 0.1113 val accuracy 0.9639\n",
      "epoch: 24: train loss :0.0951 val loss: 0.1076 val accuracy 0.9722\n",
      "epoch: 25: train loss :0.0910 val loss: 0.1068 val accuracy 0.9722\n",
      "epoch: 26: train loss :0.0882 val loss: 0.1037 val accuracy 0.9722\n",
      "epoch: 27: train loss :0.0854 val loss: 0.1016 val accuracy 0.9722\n",
      "epoch: 28: train loss :0.0823 val loss: 0.1003 val accuracy 0.9694\n",
      "epoch: 29: train loss :0.0798 val loss: 0.0988 val accuracy 0.9694\n",
      "epoch: 30: train loss :0.0770 val loss: 0.0980 val accuracy 0.9722\n"
     ]
    }
   ],
   "source": [
    "epochs = 30\n",
    "batch_size = 30\n",
    "num_batches = np.ceil(len(y_train)/batch_size).astype(int)\n",
    "loss_log = []\n",
    "learning_rate = 0.03\n",
    "\n",
    "# logs\n",
    "train_losses = []\n",
    "val_losses = []\n",
    "val_accuracies = []\n",
    "\n",
    "# initiallize parameters\n",
    "m, n = X_train.shape\n",
    "\n",
    "nh= 30 # number of hidden layer neurons\n",
    "class_num = 10\n",
    "\n",
    "W1 = torch.randn((nh, n)) * torch.sqrt(torch.tensor(2./n))\n",
    "W1.requires_grad = True\n",
    "b1 = torch.zeros((1,nh), requires_grad=True) # 1 x nh\n",
    "\n",
    "W2 = torch.randn((class_num,nh)) * torch.sqrt(torch.tensor(2./nh))\n",
    "W2.requires_grad = True\n",
    "b2 = torch.zeros((1,class_num), requires_grad=True)\n",
    "\n",
    "for epoch in range(epochs):\n",
    "    \n",
    "    shuffled_indices = np.random.permutation(len(y_train))\n",
    "    running_loss = 0\n",
    "    \n",
    "    for i in range(num_batches):\n",
    "\n",
    "        start = i * batch_size\n",
    "        end = start + batch_size\n",
    "        batch_indices = shuffled_indices[start:end]\n",
    "\n",
    "        # place break point\n",
    "        # import pdb; pdb.set_trace()\n",
    "        \n",
    "        y_true = y_train[batch_indices,:] # data_num x class_num.\n",
    "        X_train_ = X_train[batch_indices,:] # data_num x feature_num\n",
    "\n",
    "        # forward\n",
    "        Z1 = linear(X_train_,W1,b1)\n",
    "        Z1.retain_grad()\n",
    "        A1 = relu(Z1)\n",
    "        A1.retain_grad()\n",
    "        Z2 = linear(A1, W2, b2)\n",
    "        Z2.retain_grad()\n",
    "        loss, A2 = softmax_cross_entropy(Z2,y_true)\n",
    "        \n",
    "        loss_log.append(loss.item())\n",
    "        running_loss += loss.item()\n",
    "\n",
    "        # backward\n",
    "        Z2.grad_ = (A2 - y_true) / X_train_.shape[0]\n",
    "        linear_backward(A1, W2, b2, Z2)\n",
    "        relu_backward(Z1, A1)\n",
    "        linear_backward(X_train_, W1, b1, Z1)\n",
    "\n",
    "        # update parameter\n",
    "        with torch.no_grad():\n",
    "            W1 -= learning_rate * W1.grad_\n",
    "            b1 -= learning_rate * b1.grad_\n",
    "            W2 -= learning_rate * W2.grad_\n",
    "            b2 -= learning_rate * b2.grad_\n",
    "\n",
    "        # initialize gradient\n",
    "        W1.grad_ = None\n",
    "        b1.grad_ = None\n",
    "        W2.grad_ = None\n",
    "        b2.grad_ = None\n",
    "\n",
    "    # validation\n",
    "    with torch.no_grad():\n",
    "        \n",
    "        Z1_val = linear(X_val,W1,b1)\n",
    "        A1_val = relu(Z1_val)\n",
    "        Z2_val = linear(A1_val, W2, b2)\n",
    "\n",
    "        val_loss, A2 = softmax_cross_entropy(Z2_val, y_val)\n",
    "        val_accuracy = (torch.sum(torch.argmax(A2, dim=-1) == torch.argmax(y_val, dim=-1)) / y_val.shape[0])\n",
    "\n",
    "    train_losses.append(running_loss/num_batches)\n",
    "    val_losses.append(val_loss.item())\n",
    "    val_accuracies.append(val_accuracy.item())\n",
    "\n",
    "    #print log\n",
    "    print(f'epoch: {epoch+1}: train loss :{running_loss/num_batches:.4f} val loss: {val_loss:.4f} val accuracy {val_accuracy:.4f}')"
   ]
  },
  {
   "cell_type": "code",
   "execution_count": 109,
   "id": "b92673a1-edcb-40c9-b50f-c646e87ae6f5",
   "metadata": {},
   "outputs": [
    {
     "data": {
      "text/plain": [
       "[<matplotlib.lines.Line2D at 0x7f14cd5f8f10>]"
      ]
     },
     "execution_count": 109,
     "metadata": {},
     "output_type": "execute_result"
    },
    {
     "data": {
      "image/png": "[encoded data removed]",
      "text/plain": [
       "<Figure size 640x480 with 1 Axes>"
      ]
     },
     "metadata": {},
     "output_type": "display_data"
    }
   ],
   "source": [
    "plt.plot(train_losses)\n",
    "plt.plot(val_losses)"
   ]
  },
  {
   "cell_type": "markdown",
   "id": "0ef57202-2fff-4151-9a3a-857afd0e6be4",
   "metadata": {},
   "source": [
    "### Regression model\n",
    "\n",
    "In the preveious section, the model is created for solving a classification problem. In this section, modify the model for a regression prediction. \n",
    "\n",
    "Demonstration purpose:\n",
    "* use mnist dataset\n",
    "* predict a class number\n"
   ]
  },
  {
   "cell_type": "code",
   "execution_count": 193,
   "id": "5139fd2f-4363-41ad-93fc-247919b775df",
   "metadata": {},
   "outputs": [],
   "source": [
    "def mse(X, y):\n",
    "    return ((X[:,0] - y)**2).mean()\n",
    "\n",
    "def forward_backward(X, y):\n",
    "    # forward\n",
    "    Z1 = linear(X,W1,b1)\n",
    "    Z1.retain_grad()\n",
    "    A1 = relu(Z1)\n",
    "    A1.retain_grad()\n",
    "    Z2 = linear(A1, W2, b2)\n",
    "    Z2.retain_grad()\n",
    "    print(Z2.shape)\n",
    "    loss = mse(Z2, y)\n",
    "\n",
    "    # backward\n",
    "    Z2.grad_ = 2* (Z2 - y.unsqueeze(dim=-1)) / X.shape[0]\n",
    "    linear_backward(A1, W2, b2, Z2)\n",
    "    relu_backward(Z1, A1)\n",
    "    linear_backward(X, W1, b1, Z1)\n",
    "\n",
    "    return loss, Z1, A1, Z2"
   ]
  },
  {
   "cell_type": "code",
   "execution_count": 194,
   "id": "d75bc954-389f-47f5-96d5-3c480899c730",
   "metadata": {},
   "outputs": [
    {
     "name": "stdout",
     "output_type": "stream",
     "text": [
      "torch.Size([1437, 1])\n",
      "True\n",
      "True\n",
      "True\n",
      "True\n"
     ]
    }
   ],
   "source": [
    "y_train_reg = torch.argmax(y_train,dim=-1)\n",
    "\n",
    "y_train_reg.shape\n",
    "\n",
    "# initialize parameter\n",
    "m, n = X_train.shape\n",
    "\n",
    "nh= 30 # number of hidden layer neurons\n",
    "W1 = torch.randn((nh, n), requires_grad=True)\n",
    "b1 = torch.zeros((1, nh), requires_grad=True) # 1 x nh\n",
    "\n",
    "W2 = torch.randn((1,nh), requires_grad=True)\n",
    "b2 = torch.zeros((1,1), requires_grad=True)\n",
    "\n",
    "loss, Z1, A1, Z2 = forward_backward(X_train, y_train_reg)\n",
    "loss.backward()\n",
    "\n",
    "print(torch.allclose(W1.grad_, W1.grad))\n",
    "print(torch.allclose(b1.grad_, b1.grad))\n",
    "print(torch.allclose(W2.grad_, W2.grad))\n",
    "print(torch.allclose(b2.grad_, b2.grad))"
   ]
  },
  {
   "cell_type": "markdown",
   "id": "9cb2acc9-8379-4d97-8ccc-16f23e4e1417",
   "metadata": {},
   "source": [
    "### Refactoring"
   ]
  },
  {
   "cell_type": "code",
   "execution_count": 208,
   "id": "ba457ff4-d3a6-4c96-8c2b-52a19ea2b0b0",
   "metadata": {},
   "outputs": [],
   "source": [
    "class Linear():\n",
    "    def __init__(self, in_features, out_features):\n",
    "        self.W = torch.randn((out_features, in_features)*torch.sqrt(torch.tensor(2.0/in_featires)))\n",
    "        self.W.requires_grad = True\n",
    "        self.b = torch.zeros((1, out_features), requires_grad=True)\n",
    "        \n",
    "    def forward(X):\n",
    "        self.X = X\n",
    "        self.Z = X@W.T + b\n",
    "        return self.Z\n",
    "        \n",
    "    def backward(self, Z):\n",
    "        self.W.grad_ = Z.grad_.T @ self.X\n",
    "        self.b.grad_ = torch.sum(Z.grad_, dim=0)  \n",
    "        self.X.grad_ = Z.grad_ \n",
    "        return self.X.grad_\n",
    "\n",
    "class Relu():\n",
    "    def forward(self,X):\n",
    "        self.X = X\n",
    "        return X.clamp_min(0.)\n",
    "        \n",
    "    def backward(self,A):\n",
    "        return A.grad_ * (self.X > 0).float()\n",
    "\n",
    "class SoftmaxCrossEntropy():\n",
    "    def forward(self, X, y):\n",
    "        e_x = torch.exp(X - torch.max(X, dim=-1, keepdim=True)[0])\n",
    "        self.softmax_output = e_x / torch.sum(e_x, dim=-1,keepdim=True) + 1e-10\n",
    "        \n",
    "        log_probs = torch.log(self.softmax_output + 1e-10) \n",
    "        target_log_probs = y * log_probs\n",
    "        \n",
    "        self.loss = -target_log_probs.sum(dim=1).mean()\n",
    "\n",
    "        return self.loss\n",
    "\n",
    "    def backward(self, y):\n",
    "        return (self.softmaxt_out - y)/ y.shape[0]\n",
    "        \n",
    "\n",
    "class Model():\n",
    "    def __init__(self, input_features, hidden_units, output_units):\n",
    "        self.linear1 = Linear(input_features, hidden_units)\n",
    "        self.relu = ReLU()\n",
    "        self.linear2 = Linear(hidden_units, output_units)\n",
    "        self.loss_fn = SoftmaxCrossEntropy()\n",
    "        \n",
    "    def forward(self,X,y):\n",
    "        self.X = X\n",
    "        self.Z = self.linear1.forward(X)\n",
    "        self.A1 = self.relu.forward(self.Z)\n",
    "        self.Z2 = self.linear2.forward(self.A1)\n",
    "        \n",
    "        self.loss = self.loss_fn.forward(Z2, y)\n",
    "        return self.loss, self.Z2\n",
    "\n",
    "    def backward(self, y):\n",
    "\n",
    "        self.Z2.grad_ = self.loss_fn.backward(y)\n",
    "        self.A1.grad_ = self.linear2.backward(self.Z2)\n",
    "        self.Z1.grad_ = self.relu.backward(self.A1)\n",
    "        self.X.grad_ = self.linear1.backward(self.Z1)\n",
    "\n",
    "    def zero_grad(self):\n",
    "        # initialize grad\n",
    "        self.linear1.W.grad_ = None\n",
    "        self.linear1.b.grad_ = None\n",
    "        self.linear2.W.grad_ = None\n",
    "        self.linear2.b.grad_ = None\n",
    "\n",
    "    def step(self, learning_rate):\n",
    "        # update grad\n",
    "        self.linear1.W -=  learning_rate * self.linear1.W.grad_\n",
    "        self.linear1.b -=  learning_rate * self.linear1.b.grad_\n",
    "        self.linear2.W -=  learning_rate * self.linear1.W.grad_\n",
    "        self.linear2.b -=  learning_rate * self.linear2.b.grad_"
   ]
  },
  {
   "cell_type": "code",
   "execution_count": null,
   "id": "fcd5bca5-0f9b-49f2-9adc-26023a067d6c",
   "metadata": {},
   "outputs": [],
   "source": []
  }
 ],
 "metadata": {
  "kernelspec": {
   "display_name": "Python 3 (ipykernel)",
   "language": "python",
   "name": "python3"
  },
  "language_info": {
   "codemirror_mode": {
    "name": "ipython",
    "version": 3
   },
   "file_extension": ".py",
   "mimetype": "text/x-python",
   "name": "python",
   "nbconvert_exporter": "python",
   "pygments_lexer": "ipython3",
   "version": "3.8.20"
  }
 },
 "nbformat": 4,
 "nbformat_minor": 5
}
