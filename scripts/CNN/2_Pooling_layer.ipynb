{
 "cells": [
  {
   "cell_type": "markdown",
   "id": "673c5571-f728-45ef-ad7d-c606fcd50cbe",
   "metadata": {},
   "source": [
    "## Pooling Layer\n",
    "\n",
    "Pooling is a technique used in the CNN model for down-sampling the feature coming from the preveious layer and produce the new summarised feature maps. The goal of pooling is to reduce computationa complexity of the model and make it robust.\n",
    "* **Max Pooling**: selects the maximum valu from each set of overlapping filters and passes this maximum valut to the next layer\n",
    "\n",
    "* **Average Pooling**: computes the average valu of each set of overlapping filters and passes this average value to the next layer.  \n",
    "\n",
    "<img src=\"./rsc/MaxAveragePooling.gif\" widht=\"600\" height=\"800\">\n",
    "\n",
    "Image from [introduction to pooling layers in CNN](https://pub.towardsai.net/introduction-to-pooling-layers-in-cnn-dafe61eabe34) by Rafay Qayyum"
   ]
  },
  {
   "cell_type": "markdown",
   "id": "9ed1c91b-6e5e-45ee-a63b-ebcdcecb930d",
   "metadata": {},
   "source": [
    "### Dimentional reduction\n",
    "1. Convolutional layer with stride = 2<br>\n",
    "   `Conv(f=3,s=2,p=1)`-> `ReLU`\n",
    "   \n",
    "2. Pooling layer with strid =2<br>\n",
    "   `Conv(f=3,s=1,p=1)`-> `ReLU`->`Pooling(f=2,s=2)`\n",
    "   \n",
    "Both methods reduce the output size by half  "
   ]
  },
  {
   "cell_type": "code",
   "execution_count": 124,
   "id": "baf36903-c595-4713-bde3-a6cd15549d67",
   "metadata": {},
   "outputs": [],
   "source": [
    "import matplotlib.pyplot as plt\n",
    "import torch\n",
    "from torch import nn, optim\n",
    "from torch.nn import functional as F\n",
    "import torchvision\n",
    "from torchvision import transforms\n",
    "from torch.utils.data import Dataset, DataLoader\n",
    "\n",
    "import utils"
   ]
  },
  {
   "cell_type": "code",
   "execution_count": 19,
   "id": "b661e04e-c2aa-448f-a5de-f2506d93cc7a",
   "metadata": {},
   "outputs": [],
   "source": [
    "transform = transforms.Compose([\n",
    "    transforms.ToTensor(),\n",
    "    transforms.Normalize(mean=(0.5,),std=(0.5,))\n",
    "])\n",
    "train_dataset = torchvision.datasets.MNIST(root='./data/mnist_data', train=True, download=True, transform=transform)\n",
    "val_dataset = torchvision.datasets.MNIST(root='./data/mnist_data', train=False, download=True, transform=transform)"
   ]
  },
  {
   "cell_type": "code",
   "execution_count": 22,
   "id": "dd297e42-c05e-40f3-aa23-a6b5a530b96b",
   "metadata": {},
   "outputs": [],
   "source": [
    "batch_size = 128\n",
    "train_loader = DataLoader(train_dataset, batch_size=batch_size,shuffle=True, num_workers=4)\n",
    "val_loader = DataLoader(val_dataset, batch_size=batch_size,shuffle=True, num_workers=4)"
   ]
  },
  {
   "cell_type": "code",
   "execution_count": 55,
   "id": "d268694e-6891-4be3-9899-dbdf75da3af5",
   "metadata": {},
   "outputs": [
    {
     "data": {
      "text/plain": [
       "<matplotlib.image.AxesImage at 0x7fcb6f6efb50>"
      ]
     },
     "execution_count": 55,
     "metadata": {},
     "output_type": "execute_result"
    },
    {
     "data": {
      "image/png": "[encoded data removed]",
      "text/plain": [
       "<Figure size 640x480 with 1 Axes>"
      ]
     },
     "metadata": {},
     "output_type": "display_data"
    }
   ],
   "source": [
    "im ,label = train_dataset[0]\n",
    "im = im[0,:,:]\n",
    "plt.imshow(im, cmap='gray')"
   ]
  },
  {
   "cell_type": "code",
   "execution_count": 74,
   "id": "0e8c8ca6-715a-4005-a7c5-93cf19bc6799",
   "metadata": {},
   "outputs": [],
   "source": [
    "def max_pooling(X, kernel_size=2, stride=2):\n",
    "    \n",
    "    X_h, X_w = X.shape\n",
    "    \n",
    "    height = X_w - kernel_size +1\n",
    "    width = X_w - kernel_size +1\n",
    "    \n",
    "    output_data = []\n",
    "    for h in range(0,height,stride):\n",
    "        row = []\n",
    "        for w in range(0,width,stride):\n",
    "            row.append(im[h:h+kernel_size,w:w+kernel_size].max().item())\n",
    "    \n",
    "        output_data.append(row)\n",
    "\n",
    "    return torch.tensor(output_data)\n",
    "            "
   ]
  },
  {
   "cell_type": "code",
   "execution_count": 77,
   "id": "87ff76d0-4c24-4462-aec7-ebab1c599545",
   "metadata": {},
   "outputs": [
    {
     "name": "stdout",
     "output_type": "stream",
     "text": [
      "image size: orignal torch.Size([28, 28]), Max pooling torch.Size([14, 14])\n"
     ]
    },
    {
     "data": {
      "image/png": "[encoded data removed]",
      "text/plain": [
       "<Figure size 640x480 with 2 Axes>"
      ]
     },
     "metadata": {},
     "output_type": "display_data"
    }
   ],
   "source": [
    "max_im = max_pooling(im)\n",
    "fig= plt.figure()\n",
    "fig.add_subplot(1,2,1)\n",
    "plt.imshow(im, cmap='gray')\n",
    "plt.title('oritinal')\n",
    "fig.add_subplot(1,2,2)\n",
    "plt.imshow(max_im, cmap='gray')\n",
    "plt.title('Max pooling')\n",
    "print(f'image size: orignal {im.shape}, Max pooling {max_im.shape}')"
   ]
  },
  {
   "cell_type": "markdown",
   "id": "4639f5a3-85f7-4533-9a68-7e2684acb473",
   "metadata": {},
   "source": [
    "#### Convolutional layer + Maxpooling\n",
    "Max Pooling is usually used after a convolutional layer <br>\n",
    "`Conv(f=3,s=1,p=1)`-> `ReLU`->`Pooling(f=2,s=2)`"
   ]
  },
  {
   "cell_type": "code",
   "execution_count": 88,
   "id": "ddf41fc8-2fd8-492a-9d30-834a9dcba6f8",
   "metadata": {},
   "outputs": [],
   "source": [
    "def apply_filter(im, filter):\n",
    "    im_h,im_w = im.shape\n",
    "    f_h,f_w = filter.shape\n",
    "    \n",
    "    height = im_h - f_h + 1\n",
    "    width = im_w - f_w + 1\n",
    "    \n",
    "    output_data= []\n",
    "    \n",
    "    for h in range(height):\n",
    "        row = []\n",
    "        for w in range(width):\n",
    "            row.append((im[h:h+f_h,w:w+f_w] * filter).sum().item())\n",
    "        output_data.append(row)\n",
    "    \n",
    "    return torch.tensor(output_data)\n",
    "\n",
    "def relu(X):\n",
    "    return torch.clamp(X, min=0)"
   ]
  },
  {
   "cell_type": "code",
   "execution_count": 89,
   "id": "6911bee0-d926-42b6-99a1-2ab41176db98",
   "metadata": {},
   "outputs": [],
   "source": [
    "top_edge_filter = torch.tensor([[1,1,1],\n",
    "                               [0,0,0],\n",
    "                               [-1,-1,-1]])\n",
    "conv_out = apply_filter(im, top_edge_filter)\n",
    "relu_out = relu(conv_out)\n",
    "max_out = max_pooling(relu_out)"
   ]
  },
  {
   "cell_type": "code",
   "execution_count": 90,
   "id": "3d9c46be-85e3-4c18-9730-cc1d0e589b52",
   "metadata": {},
   "outputs": [
    {
     "name": "stdout",
     "output_type": "stream",
     "text": [
      "image size: Orignal torch.Size([28, 28]), Conv. torch.Size([26, 26]) Relu torch.Size([26, 26]) Max pooling torch.Size([13, 13])\n"
     ]
    },
    {
     "data": {
      "image/png": "[encoded data removed]",
      "text/plain": [
       "<Figure size 640x480 with 4 Axes>"
      ]
     },
     "metadata": {},
     "output_type": "display_data"
    }
   ],
   "source": [
    "fig= plt.figure()\n",
    "fig.add_subplot(1,4,1)\n",
    "plt.imshow(im, cmap='gray')\n",
    "plt.title('oritinal')\n",
    "fig.add_subplot(1,4,2)\n",
    "plt.imshow(conv_out, cmap='gray')\n",
    "plt.title('Convolutional')\n",
    "fig.add_subplot(1,4,3)\n",
    "plt.imshow(relu_out, cmap='gray')\n",
    "plt.title('ReLU')\n",
    "fig.add_subplot(1,4,4)\n",
    "plt.imshow(max_out, cmap='gray')\n",
    "plt.title('Max Pooling')\n",
    "print(f'image size: Orignal {im.shape}, Conv. {conv_out.shape} Relu {relu_out.shape} Max pooling {max_out.shape}')"
   ]
  },
  {
   "cell_type": "markdown",
   "id": "efa971b6-6ad3-4673-81e5-02dd9f3d5278",
   "metadata": {},
   "source": [
    "### Global Average Pooling (GAP)\n",
    "\n",
    ">**Global average pooling** is a pooling operation designed to replace fully connected layers in classical CNNs. The idea is to generate one feature map for each corresponding category of the classification task in the last mlpconv layer. Instead of adding fully connected layers on top of the feature maps, we take the average of each feature map, and the resulting vector is fed directly into the softmax layer.\n",
    "\n",
    ">One advantage of global average pooling over the fully connected layers is that it is more native to the convolution structure by enforcing correspondences between feature maps and categories. Thus the feature maps can be easily interpreted as categories confidence maps. Another advantage is that there is no parameter to optimize in the global average pooling thus overfitting is avoided at this layer. Furthermore, global average pooling sums out the spatial information, thus it is more robust to spatial translations of the input.\n",
    "\n",
    "Source : [Network in Network](https://arxiv.org/abs/1312.4400v3)"
   ]
  },
  {
   "cell_type": "code",
   "execution_count": 100,
   "id": "ce889f2b-9552-4f30-af60-be2d79e24b94",
   "metadata": {},
   "outputs": [],
   "source": [
    "class GlobalAveragePooling(nn.Module):\n",
    "    def forward(self, X):\n",
    "        return torch.mean(X, dim=(2,3), keepdim=True)"
   ]
  },
  {
   "cell_type": "code",
   "execution_count": 101,
   "id": "bafce84c-ce1d-4c66-9e94-e2c00f539ff2",
   "metadata": {},
   "outputs": [],
   "source": [
    "X=torch.randn(128,3,4,4)"
   ]
  },
  {
   "cell_type": "code",
   "execution_count": 102,
   "id": "67835850-c7ae-4a79-afb7-2f9f2036e1c6",
   "metadata": {},
   "outputs": [
    {
     "data": {
      "text/plain": [
       "torch.Size([128, 3, 1, 1])"
      ]
     },
     "execution_count": 102,
     "metadata": {},
     "output_type": "execute_result"
    }
   ],
   "source": [
    "gap_layer=GlobalAveragePooling()\n",
    "gap_out = gap_layer(X)\n",
    "gap_out.shape"
   ]
  },
  {
   "cell_type": "markdown",
   "id": "34fc6adc-267a-4c2f-aa72-2c43e883db6f",
   "metadata": {},
   "source": [
    "### AdaptiveAvgPool2d\n",
    "\n",
    "There is no GAP module in pytorch but, `AdaptiveAvgPool2d` does work similarly. \n",
    "\n",
    "Applies a 2D adaptive average pooling over an input signal composed of several input planes.\n",
    "\n",
    "The output is of size H x W, for any input size. The number of output features is equal to the number of input planes.\n",
    "\n",
    "**Parameters**:\n",
    "\n",
    "**output_size** (Union[int, None, Tuple[Optional[int], Optional[int]]]) – the target output size of the image of the form H x W. Can be a tuple (H, W) or a single H for a square image H x H. H and W can be either a int, or None which means the size will be the same as that of the input.\n",
    "\n",
    "**Shape**\n",
    "\n",
    "* Input: $(N,C,H_{in},W_{in})$ or $(C,H_{in},W_{in})$\n",
    "* Output: $(N,C,S_0,S_1)$ or $(C,S_0,S_1)$, where $S$=output_size.\n",
    "\n",
    "Examples:\n",
    "```python\n",
    "# target output size of 5x7\n",
    "m = nn.AdaptiveAvgPool2d((5, 7))\n",
    "input = torch.randn(1, 64, 8, 9)\n",
    "output = m(input)\n",
    "# target output size of 7x7 (square)\n",
    "m = nn.AdaptiveAvgPool2d(7)\n",
    "input = torch.randn(1, 64, 10, 9)\n",
    "output = m(input)\n",
    "```\n",
    "\n",
    "Source: [torch.nn.AdaptiveAvgPool2d](https://pytorch.org/docs/stable/generated/torch.nn.AdaptiveAvgPool2d.html)"
   ]
  },
  {
   "cell_type": "code",
   "execution_count": 107,
   "id": "4d6bcb5e-81e8-4007-aab7-3614d7f35742",
   "metadata": {},
   "outputs": [
    {
     "data": {
      "text/plain": [
       "(torch.Size([128, 3, 1, 1]), torch.Size([128, 3, 4, 4]))"
      ]
     },
     "execution_count": 107,
     "metadata": {},
     "output_type": "execute_result"
    }
   ],
   "source": [
    "gap_layer = nn.AdaptiveAvgPool2d(1)\n",
    "gap_layer(X).shape, X.shape"
   ]
  },
  {
   "cell_type": "markdown",
   "id": "a124f068-4f90-4914-baca-25bbd7678b04",
   "metadata": {},
   "source": [
    "### Integrate GAP layer with convolution layer"
   ]
  },
  {
   "cell_type": "code",
   "execution_count": 136,
   "id": "869ca82e-42a0-4546-b1cf-0bc2ffb32dcc",
   "metadata": {},
   "outputs": [],
   "source": [
    "conv_model=nn.Sequential(\n",
    "        # 1x28x28\n",
    "        nn.Conv2d(in_channels=1,out_channels=4, kernel_size=3, stride=2,padding=1), \n",
    "        nn.ReLU(),\n",
    "        # 4x14x14\n",
    "        nn.Conv2d(in_channels=4,out_channels=8, kernel_size=3, stride=2,padding=1), \n",
    "        nn.ReLU(),\n",
    "        # 8x7x7\n",
    "        nn.Conv2d(in_channels=8,out_channels=16, kernel_size=3, stride=2,padding=1), \n",
    "        nn.ReLU(),\n",
    "        # 16x4x4\n",
    "        nn.Conv2d(in_channels=16,out_channels=32, kernel_size=3, stride=2,padding=1), \n",
    "        nn.ReLU(),\n",
    "        # 32x2x2\n",
    "\n",
    "        # gap layer: 32x2x2 -> 32x1x1\n",
    "        # nn.AdaptiveAvgPool2d(1),\n",
    "    \n",
    "        nn.Flatten(),\n",
    "        nn.Linear(128,10)\n",
    "        \n",
    ")"
   ]
  },
  {
   "cell_type": "code",
   "execution_count": 137,
   "id": "e9feb248-f4ed-4260-8854-16cb242b4c4e",
   "metadata": {},
   "outputs": [
    {
     "data": {
      "text/plain": [
       "tensor([[ 0.0775, -0.0766, -0.0784,  ..., -0.0741, -0.0105, -0.0778],\n",
       "        [ 0.0899, -0.0738, -0.0652,  ..., -0.0761, -0.0261, -0.0866],\n",
       "        [ 0.0858, -0.0688, -0.0652,  ..., -0.0689, -0.0285, -0.0927],\n",
       "        ...,\n",
       "        [ 0.0899, -0.0694, -0.0766,  ..., -0.0720, -0.0250, -0.1001],\n",
       "        [ 0.0710, -0.0784, -0.0757,  ..., -0.0812, -0.0119, -0.0788],\n",
       "        [ 0.0683, -0.0784, -0.0662,  ..., -0.0731, -0.0178, -0.0990]],\n",
       "       grad_fn=<AddmmBackward0>)"
      ]
     },
     "execution_count": 137,
     "metadata": {},
     "output_type": "execute_result"
    }
   ],
   "source": [
    "X = torch.randn(128, 1,28,28)\n",
    "conv_model(X)"
   ]
  },
  {
   "cell_type": "markdown",
   "id": "a8e54345-4dcd-4e1f-a2a0-2bad852dbb5e",
   "metadata": {},
   "source": [
    "Conv_model only accepts 1x28x28 shape. If you feed a different shape such as 1x64x64, it will return an error"
   ]
  },
  {
   "cell_type": "code",
   "execution_count": 139,
   "id": "6bc7899c-87b7-4075-aa6f-eaf4f16ec805",
   "metadata": {},
   "outputs": [
    {
     "ename": "RuntimeError",
     "evalue": "mat1 and mat2 shapes cannot be multiplied (128x512 and 128x10)",
     "output_type": "error",
     "traceback": [
      "\u001b[0;31m---------------------------------------------------------------------------\u001b[0m",
      "\u001b[0;31mRuntimeError\u001b[0m                              Traceback (most recent call last)",
      "Cell \u001b[0;32mIn[139], line 2\u001b[0m\n\u001b[1;32m      1\u001b[0m X \u001b[38;5;241m=\u001b[39m torch\u001b[38;5;241m.\u001b[39mrandn(\u001b[38;5;241m128\u001b[39m, \u001b[38;5;241m1\u001b[39m,\u001b[38;5;241m64\u001b[39m,\u001b[38;5;241m64\u001b[39m)\n\u001b[0;32m----> 2\u001b[0m \u001b[43mconv_model\u001b[49m\u001b[43m(\u001b[49m\u001b[43mX\u001b[49m\u001b[43m)\u001b[49m\n",
      "File \u001b[0;32m/usr/local/lib/python3.8/site-packages/torch/nn/modules/module.py:1553\u001b[0m, in \u001b[0;36mModule._wrapped_call_impl\u001b[0;34m(self, *args, **kwargs)\u001b[0m\n\u001b[1;32m   1551\u001b[0m     \u001b[38;5;28;01mreturn\u001b[39;00m \u001b[38;5;28mself\u001b[39m\u001b[38;5;241m.\u001b[39m_compiled_call_impl(\u001b[38;5;241m*\u001b[39margs, \u001b[38;5;241m*\u001b[39m\u001b[38;5;241m*\u001b[39mkwargs)  \u001b[38;5;66;03m# type: ignore[misc]\u001b[39;00m\n\u001b[1;32m   1552\u001b[0m \u001b[38;5;28;01melse\u001b[39;00m:\n\u001b[0;32m-> 1553\u001b[0m     \u001b[38;5;28;01mreturn\u001b[39;00m \u001b[38;5;28;43mself\u001b[39;49m\u001b[38;5;241;43m.\u001b[39;49m\u001b[43m_call_impl\u001b[49m\u001b[43m(\u001b[49m\u001b[38;5;241;43m*\u001b[39;49m\u001b[43margs\u001b[49m\u001b[43m,\u001b[49m\u001b[43m \u001b[49m\u001b[38;5;241;43m*\u001b[39;49m\u001b[38;5;241;43m*\u001b[39;49m\u001b[43mkwargs\u001b[49m\u001b[43m)\u001b[49m\n",
      "File \u001b[0;32m/usr/local/lib/python3.8/site-packages/torch/nn/modules/module.py:1562\u001b[0m, in \u001b[0;36mModule._call_impl\u001b[0;34m(self, *args, **kwargs)\u001b[0m\n\u001b[1;32m   1557\u001b[0m \u001b[38;5;66;03m# If we don't have any hooks, we want to skip the rest of the logic in\u001b[39;00m\n\u001b[1;32m   1558\u001b[0m \u001b[38;5;66;03m# this function, and just call forward.\u001b[39;00m\n\u001b[1;32m   1559\u001b[0m \u001b[38;5;28;01mif\u001b[39;00m \u001b[38;5;129;01mnot\u001b[39;00m (\u001b[38;5;28mself\u001b[39m\u001b[38;5;241m.\u001b[39m_backward_hooks \u001b[38;5;129;01mor\u001b[39;00m \u001b[38;5;28mself\u001b[39m\u001b[38;5;241m.\u001b[39m_backward_pre_hooks \u001b[38;5;129;01mor\u001b[39;00m \u001b[38;5;28mself\u001b[39m\u001b[38;5;241m.\u001b[39m_forward_hooks \u001b[38;5;129;01mor\u001b[39;00m \u001b[38;5;28mself\u001b[39m\u001b[38;5;241m.\u001b[39m_forward_pre_hooks\n\u001b[1;32m   1560\u001b[0m         \u001b[38;5;129;01mor\u001b[39;00m _global_backward_pre_hooks \u001b[38;5;129;01mor\u001b[39;00m _global_backward_hooks\n\u001b[1;32m   1561\u001b[0m         \u001b[38;5;129;01mor\u001b[39;00m _global_forward_hooks \u001b[38;5;129;01mor\u001b[39;00m _global_forward_pre_hooks):\n\u001b[0;32m-> 1562\u001b[0m     \u001b[38;5;28;01mreturn\u001b[39;00m \u001b[43mforward_call\u001b[49m\u001b[43m(\u001b[49m\u001b[38;5;241;43m*\u001b[39;49m\u001b[43margs\u001b[49m\u001b[43m,\u001b[49m\u001b[43m \u001b[49m\u001b[38;5;241;43m*\u001b[39;49m\u001b[38;5;241;43m*\u001b[39;49m\u001b[43mkwargs\u001b[49m\u001b[43m)\u001b[49m\n\u001b[1;32m   1564\u001b[0m \u001b[38;5;28;01mtry\u001b[39;00m:\n\u001b[1;32m   1565\u001b[0m     result \u001b[38;5;241m=\u001b[39m \u001b[38;5;28;01mNone\u001b[39;00m\n",
      "File \u001b[0;32m/usr/local/lib/python3.8/site-packages/torch/nn/modules/container.py:219\u001b[0m, in \u001b[0;36mSequential.forward\u001b[0;34m(self, input)\u001b[0m\n\u001b[1;32m    217\u001b[0m \u001b[38;5;28;01mdef\u001b[39;00m \u001b[38;5;21mforward\u001b[39m(\u001b[38;5;28mself\u001b[39m, \u001b[38;5;28minput\u001b[39m):\n\u001b[1;32m    218\u001b[0m     \u001b[38;5;28;01mfor\u001b[39;00m module \u001b[38;5;129;01min\u001b[39;00m \u001b[38;5;28mself\u001b[39m:\n\u001b[0;32m--> 219\u001b[0m         \u001b[38;5;28minput\u001b[39m \u001b[38;5;241m=\u001b[39m \u001b[43mmodule\u001b[49m\u001b[43m(\u001b[49m\u001b[38;5;28;43minput\u001b[39;49m\u001b[43m)\u001b[49m\n\u001b[1;32m    220\u001b[0m     \u001b[38;5;28;01mreturn\u001b[39;00m \u001b[38;5;28minput\u001b[39m\n",
      "File \u001b[0;32m/usr/local/lib/python3.8/site-packages/torch/nn/modules/module.py:1553\u001b[0m, in \u001b[0;36mModule._wrapped_call_impl\u001b[0;34m(self, *args, **kwargs)\u001b[0m\n\u001b[1;32m   1551\u001b[0m     \u001b[38;5;28;01mreturn\u001b[39;00m \u001b[38;5;28mself\u001b[39m\u001b[38;5;241m.\u001b[39m_compiled_call_impl(\u001b[38;5;241m*\u001b[39margs, \u001b[38;5;241m*\u001b[39m\u001b[38;5;241m*\u001b[39mkwargs)  \u001b[38;5;66;03m# type: ignore[misc]\u001b[39;00m\n\u001b[1;32m   1552\u001b[0m \u001b[38;5;28;01melse\u001b[39;00m:\n\u001b[0;32m-> 1553\u001b[0m     \u001b[38;5;28;01mreturn\u001b[39;00m \u001b[38;5;28;43mself\u001b[39;49m\u001b[38;5;241;43m.\u001b[39;49m\u001b[43m_call_impl\u001b[49m\u001b[43m(\u001b[49m\u001b[38;5;241;43m*\u001b[39;49m\u001b[43margs\u001b[49m\u001b[43m,\u001b[49m\u001b[43m \u001b[49m\u001b[38;5;241;43m*\u001b[39;49m\u001b[38;5;241;43m*\u001b[39;49m\u001b[43mkwargs\u001b[49m\u001b[43m)\u001b[49m\n",
      "File \u001b[0;32m/usr/local/lib/python3.8/site-packages/torch/nn/modules/module.py:1562\u001b[0m, in \u001b[0;36mModule._call_impl\u001b[0;34m(self, *args, **kwargs)\u001b[0m\n\u001b[1;32m   1557\u001b[0m \u001b[38;5;66;03m# If we don't have any hooks, we want to skip the rest of the logic in\u001b[39;00m\n\u001b[1;32m   1558\u001b[0m \u001b[38;5;66;03m# this function, and just call forward.\u001b[39;00m\n\u001b[1;32m   1559\u001b[0m \u001b[38;5;28;01mif\u001b[39;00m \u001b[38;5;129;01mnot\u001b[39;00m (\u001b[38;5;28mself\u001b[39m\u001b[38;5;241m.\u001b[39m_backward_hooks \u001b[38;5;129;01mor\u001b[39;00m \u001b[38;5;28mself\u001b[39m\u001b[38;5;241m.\u001b[39m_backward_pre_hooks \u001b[38;5;129;01mor\u001b[39;00m \u001b[38;5;28mself\u001b[39m\u001b[38;5;241m.\u001b[39m_forward_hooks \u001b[38;5;129;01mor\u001b[39;00m \u001b[38;5;28mself\u001b[39m\u001b[38;5;241m.\u001b[39m_forward_pre_hooks\n\u001b[1;32m   1560\u001b[0m         \u001b[38;5;129;01mor\u001b[39;00m _global_backward_pre_hooks \u001b[38;5;129;01mor\u001b[39;00m _global_backward_hooks\n\u001b[1;32m   1561\u001b[0m         \u001b[38;5;129;01mor\u001b[39;00m _global_forward_hooks \u001b[38;5;129;01mor\u001b[39;00m _global_forward_pre_hooks):\n\u001b[0;32m-> 1562\u001b[0m     \u001b[38;5;28;01mreturn\u001b[39;00m \u001b[43mforward_call\u001b[49m\u001b[43m(\u001b[49m\u001b[38;5;241;43m*\u001b[39;49m\u001b[43margs\u001b[49m\u001b[43m,\u001b[49m\u001b[43m \u001b[49m\u001b[38;5;241;43m*\u001b[39;49m\u001b[38;5;241;43m*\u001b[39;49m\u001b[43mkwargs\u001b[49m\u001b[43m)\u001b[49m\n\u001b[1;32m   1564\u001b[0m \u001b[38;5;28;01mtry\u001b[39;00m:\n\u001b[1;32m   1565\u001b[0m     result \u001b[38;5;241m=\u001b[39m \u001b[38;5;28;01mNone\u001b[39;00m\n",
      "File \u001b[0;32m/usr/local/lib/python3.8/site-packages/torch/nn/modules/linear.py:117\u001b[0m, in \u001b[0;36mLinear.forward\u001b[0;34m(self, input)\u001b[0m\n\u001b[1;32m    116\u001b[0m \u001b[38;5;28;01mdef\u001b[39;00m \u001b[38;5;21mforward\u001b[39m(\u001b[38;5;28mself\u001b[39m, \u001b[38;5;28minput\u001b[39m: Tensor) \u001b[38;5;241m-\u001b[39m\u001b[38;5;241m>\u001b[39m Tensor:\n\u001b[0;32m--> 117\u001b[0m     \u001b[38;5;28;01mreturn\u001b[39;00m \u001b[43mF\u001b[49m\u001b[38;5;241;43m.\u001b[39;49m\u001b[43mlinear\u001b[49m\u001b[43m(\u001b[49m\u001b[38;5;28;43minput\u001b[39;49m\u001b[43m,\u001b[49m\u001b[43m \u001b[49m\u001b[38;5;28;43mself\u001b[39;49m\u001b[38;5;241;43m.\u001b[39;49m\u001b[43mweight\u001b[49m\u001b[43m,\u001b[49m\u001b[43m \u001b[49m\u001b[38;5;28;43mself\u001b[39;49m\u001b[38;5;241;43m.\u001b[39;49m\u001b[43mbias\u001b[49m\u001b[43m)\u001b[49m\n",
      "\u001b[0;31mRuntimeError\u001b[0m: mat1 and mat2 shapes cannot be multiplied (128x512 and 128x10)"
     ]
    }
   ],
   "source": [
    "X = torch.randn(128, 1,64,64)\n",
    "conv_model(X)"
   ]
  },
  {
   "cell_type": "markdown",
   "id": "acb1fdbf-60f7-4813-a386-8f5578994dc9",
   "metadata": {},
   "source": [
    "This is because the input shape is different from the input shape which the last linear layer exptects. "
   ]
  },
  {
   "cell_type": "code",
   "execution_count": 150,
   "id": "a5a703ae-7c8b-47bb-9175-a2339d8ad32f",
   "metadata": {},
   "outputs": [],
   "source": [
    "conv_model=nn.Sequential(\n",
    "        # 1x28x28\n",
    "        nn.Conv2d(in_channels=1,out_channels=4, kernel_size=3, stride=2,padding=1), \n",
    "        nn.ReLU(),\n",
    "        # 4x14x14\n",
    "        nn.Conv2d(in_channels=4,out_channels=8, kernel_size=3, stride=2,padding=1), \n",
    "        nn.ReLU(),\n",
    "        # 8x7x7\n",
    "        nn.Conv2d(in_channels=8,out_channels=16, kernel_size=3, stride=2,padding=1), \n",
    "        nn.ReLU(),\n",
    "        # 16x4x4\n",
    "        nn.Conv2d(in_channels=16,out_channels=32, kernel_size=3, stride=2,padding=1), \n",
    "        nn.ReLU(),\n",
    "        # 32x2x2\n",
    "\n",
    "        # gap layer: 32x2x2 -> 32x1x1\n",
    "        nn.AdaptiveAvgPool2d(1),\n",
    "    \n",
    "        nn.Flatten(),\n",
    "        nn.Linear(32,10)\n",
    "        \n",
    ")"
   ]
  },
  {
   "cell_type": "code",
   "execution_count": 153,
   "id": "3f50649a-9974-431f-9108-1c909e593e9a",
   "metadata": {},
   "outputs": [
    {
     "data": {
      "text/plain": [
       "torch.Size([128, 10])"
      ]
     },
     "execution_count": 153,
     "metadata": {},
     "output_type": "execute_result"
    }
   ],
   "source": [
    "X = torch.randn(128,1, 64,64)\n",
    "conv_model(X).shape"
   ]
  },
  {
   "cell_type": "markdown",
   "id": "290fba50-bd7c-47f5-9999-cbd404ca7958",
   "metadata": {},
   "source": [
    "By using a GAP layer, you could feed variable shape. "
   ]
  },
  {
   "cell_type": "code",
   "execution_count": null,
   "id": "46cfb26c-a70c-436b-9a82-3b877a888d47",
   "metadata": {},
   "outputs": [],
   "source": []
  }
 ],
 "metadata": {
  "kernelspec": {
   "display_name": "Python 3 (ipykernel)",
   "language": "python",
   "name": "python3"
  },
  "language_info": {
   "codemirror_mode": {
    "name": "ipython",
    "version": 3
   },
   "file_extension": ".py",
   "mimetype": "text/x-python",
   "name": "python",
   "nbconvert_exporter": "python",
   "pygments_lexer": "ipython3",
   "version": "3.8.20"
  }
 },
 "nbformat": 4,
 "nbformat_minor": 5
}
