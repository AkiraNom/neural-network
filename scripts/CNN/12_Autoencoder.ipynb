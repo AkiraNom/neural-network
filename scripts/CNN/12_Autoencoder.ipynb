{
 "cells": [
  {
   "cell_type": "markdown",
   "id": "73f3eb00-31f8-434d-8f35-9bd0139f3be8",
   "metadata": {},
   "source": [
    "## Autoencoder"
   ]
  },
  {
   "cell_type": "markdown",
   "id": "c77cf62f-7f99-4395-ab58-807a167195a8",
   "metadata": {},
   "source": [
    "### Transposed Convolution\n",
    "\n",
    "<img src=\"./rsc/transposed_convolution.png\" width=\"600\" height=\"800\">"
   ]
  },
  {
   "cell_type": "markdown",
   "id": "6e14fdab-7077-4d2d-a66e-2ae42ea1cf12",
   "metadata": {},
   "source": [
    "#### Output \n",
    "$$O = S \\cdot (I-1)+K -2 \\cdot P$$"
   ]
  },
  {
   "cell_type": "code",
   "execution_count": 1,
   "id": "4c187e42-8cac-4016-9e58-40a7b6df5a7b",
   "metadata": {},
   "outputs": [],
   "source": [
    "import torch\n",
    "from torch import nn"
   ]
  },
  {
   "cell_type": "code",
   "execution_count": 3,
   "id": "3c5a4eab-000d-47e2-9c37-4933f2d0c1d2",
   "metadata": {},
   "outputs": [],
   "source": [
    "def conv_transpose2d(input, weight, stride=1, padding=0):\n",
    "\n",
    "    batch_size, in_ch, in_h, in_w = input.shape\n",
    "    _, out_ch, f_h, f_w = weight.shape\n",
    "\n",
    "    h_out = stride * (in_h - 1) + f_h - 2 * padding\n",
    "    w_out = stride * (in_w - 1) + f_w - 2 * padding\n",
    "    \n",
    "    output = torch.zeros(batch_size, out_ch, h_out, w_out)\n",
    "    for b in range(batch_size):\n",
    "        for i in range(in_ch):\n",
    "            for o in range(out_ch):\n",
    "                for h in range(in_h):\n",
    "                    for w in range(in_w):\n",
    "                        h_start = h * stride - padding\n",
    "                        w_start = w * stride - padding\n",
    "                        for f_h_idx in range(f_h):\n",
    "                            for f_w_idx in range(f_w):\n",
    "                                h_out_idx = h_start + f_h_idx\n",
    "                                w_out_idx = w_start + f_w_idx\n",
    "\n",
    "                                if 0<= h_out_idx < h_out and 0<= w_out_idx < w_out:\n",
    "                                    output[b, o, h_out_idx, w_out_idx] += input[b,i,h,w] * weight[i,o,f_h_idx, f_w_idx]\n",
    "\n",
    "\n",
    "    return output\n",
    "        "
   ]
  },
  {
   "cell_type": "code",
   "execution_count": 4,
   "id": "c04e7247-a545-4c76-8c8a-9d81b2c8eb4b",
   "metadata": {},
   "outputs": [
    {
     "name": "stdout",
     "output_type": "stream",
     "text": [
      "torch.Size([1, 16, 7, 7])\n"
     ]
    }
   ],
   "source": [
    "input = torch.randn(1,3,5,5)\n",
    "weight = torch.randn(3,16,3,3)\n",
    "output = conv_transpose2d(input, weight, stride=2, padding=2)\n",
    "print(output.shape)"
   ]
  },
  {
   "cell_type": "markdown",
   "id": "4f3c336a-1434-47b8-8a35-816c7217b92b",
   "metadata": {},
   "source": [
    "### Transposed Convolution in Pytorch"
   ]
  },
  {
   "cell_type": "code",
   "execution_count": 5,
   "id": "5ef687e0-b7fe-4e91-95d7-1b27b43ab51c",
   "metadata": {},
   "outputs": [
    {
     "data": {
      "text/plain": [
       "torch.Size([1, 16, 7, 7])"
      ]
     },
     "execution_count": 5,
     "metadata": {},
     "output_type": "execute_result"
    }
   ],
   "source": [
    "convt_layer = nn.ConvTranspose2d(3, 16, kernel_size=3, stride=2, padding=2, bias=False)\n",
    "output = convt_layer(input)\n",
    "output.shape"
   ]
  },
  {
   "cell_type": "code",
   "execution_count": 6,
   "id": "7abf79cb-9854-43c1-b7ee-5775af059641",
   "metadata": {},
   "outputs": [
    {
     "data": {
      "text/plain": [
       "True"
      ]
     },
     "execution_count": 6,
     "metadata": {},
     "output_type": "execute_result"
    }
   ],
   "source": [
    "weight = convt_layer.weight\n",
    "output_scratch = conv_transpose2d(input, weight, stride=2, padding=2)\n",
    "torch.allclose(output, output_scratch)"
   ]
  },
  {
   "cell_type": "markdown",
   "id": "341dd946-1c8f-46cb-8ee5-d291162d0146",
   "metadata": {},
   "source": [
    "### Autoencoder\n",
    "\n",
    "It is typically used for dimensionality reduction, feature learning, and data compression."
   ]
  },
  {
   "cell_type": "code",
   "execution_count": 135,
   "id": "b25c150b-ee3e-4798-9274-2d7a76fc6953",
   "metadata": {},
   "outputs": [],
   "source": [
    "import matplotlib.pyplot as plt\n",
    "import torch\n",
    "from torch import nn, optim\n",
    "from torch.nn import functional as F\n",
    "from torch.utils.data import DataLoader\n",
    "import torchvision\n",
    "from torchvision import transforms"
   ]
  },
  {
   "cell_type": "code",
   "execution_count": 151,
   "id": "a7f40bed-dc28-4949-a641-5ba298f149b5",
   "metadata": {},
   "outputs": [],
   "source": [
    "transform = transforms.ToTensor()\n",
    "train_dataset = torchvision.datasets.MNIST(root=\"./data/mnist_data\", train=True, download=True, transform=transform)\n",
    "train_loader = DataLoader(train_dataset, batch_size=128, shuffle=True, num_workers=4)\n",
    "\n",
    "val_dataset = torchvision.datasets.MNIST(root=\"./data/mnist_data\", train=False, download=True, transform=transform)\n",
    "val_loader = DataLoader(train_dataset, batch_size=128, num_workers=4)"
   ]
  },
  {
   "cell_type": "code",
   "execution_count": 42,
   "id": "0495edc6-7b27-4ec4-89ba-ebe7cc1fd3e8",
   "metadata": {},
   "outputs": [
    {
     "data": {
      "text/plain": [
       "<matplotlib.image.AxesImage at 0x7fb1255b28e0>"
      ]
     },
     "execution_count": 42,
     "metadata": {},
     "output_type": "execute_result"
    },
    {
     "data": {
      "image/png": "[encoded data removed]",
      "text/plain": [
       "<Figure size 640x480 with 1 Axes>"
      ]
     },
     "metadata": {},
     "output_type": "display_data"
    }
   ],
   "source": [
    "im, label = train_dataset[0]\n",
    "plt.imshow((im/2 +0.5)[0,:,:], cmap='gray')"
   ]
  },
  {
   "cell_type": "code",
   "execution_count": 33,
   "id": "cce166ca-271c-4cf6-962b-25015a7cc481",
   "metadata": {},
   "outputs": [],
   "source": [
    "def calc_conv_output(in_channels, kernel_size, stride=1, padding=0):\n",
    "    return (in_channels - kernel_size + 2 * padding) / stride + 1"
   ]
  },
  {
   "cell_type": "code",
   "execution_count": 160,
   "id": "84fd1483-110b-4216-94cb-7d64206b9586",
   "metadata": {},
   "outputs": [
    {
     "data": {
      "text/plain": [
       "-3.333333333333333"
      ]
     },
     "execution_count": 160,
     "metadata": {},
     "output_type": "execute_result"
    }
   ],
   "source": [
    "calc_conv_output(1,16,3,padding=1)"
   ]
  },
  {
   "cell_type": "code",
   "execution_count": 51,
   "id": "103be7f1-3152-4d3f-86eb-e6e008c089ab",
   "metadata": {},
   "outputs": [],
   "source": [
    "def calc_tconv_output(in_channels, kernel_size, stride=1, padding=0):\n",
    "    # output size = stride x (input -1) + kernel size - 2 x padding\n",
    "    return (in_channels - 1) * stride + kernel_size - 2 * padding"
   ]
  },
  {
   "cell_type": "code",
   "execution_count": 76,
   "id": "fdf4228d-b128-4842-ac76-2a31d01c2d66",
   "metadata": {},
   "outputs": [
    {
     "data": {
      "text/plain": [
       "14"
      ]
     },
     "execution_count": 76,
     "metadata": {},
     "output_type": "execute_result"
    }
   ],
   "source": [
    "calc_tconv_output(4, 4,2, 2)"
   ]
  },
  {
   "cell_type": "code",
   "execution_count": 152,
   "id": "30d9dd27-1ccd-426d-a4c2-dcd479ced807",
   "metadata": {},
   "outputs": [],
   "source": [
    "class ConvAutoencoder(nn.Module):\n",
    "    def __init__(self):\n",
    "        super().__init__()\n",
    "        # encoder\n",
    "        self.conv1 = nn.Conv2d(1,16,3,padding=1)\n",
    "        self.conv2 = nn.Conv2d(16,4,3,padding=1)\n",
    "        self.pool = nn.MaxPool2d(2,2)\n",
    "\n",
    "        # decoder\n",
    "        self.t_conv1 = nn.ConvTranspose2d(4,16,2,stride=2) # double C,W,H\n",
    "        self.t_conv2 = nn.ConvTranspose2d(16,1,2,stride=2)\n",
    "\n",
    "    def forward(self, X):\n",
    "        #encoder\n",
    "        X = self.pool(F.relu(self.conv1(X)))\n",
    "        X = self.pool(F.relu(self.conv2(X)))\n",
    "        #decoder\n",
    "        X = F.relu(self.t_conv1(X))\n",
    "        X = F.sigmoid(self.t_conv2(X))\n",
    "        \n",
    "        return X"
   ]
  },
  {
   "cell_type": "code",
   "execution_count": 153,
   "id": "89af4f98-bab2-4b2c-97ce-97985739b358",
   "metadata": {},
   "outputs": [],
   "source": [
    "model = ConvAutoencoder()\n",
    "opt = optim.Adam(model.parameters(), lr=0.001)\n",
    "num_epochs = 10"
   ]
  },
  {
   "cell_type": "code",
   "execution_count": 154,
   "id": "66d781c7-d646-4028-b6b8-d89e4592bd6d",
   "metadata": {},
   "outputs": [
    {
     "name": "stdout",
     "output_type": "stream",
     "text": [
      "Epoch: 1: train loss: 6.117661875829514\n",
      "Epoch: 2: train loss: 2.093293751989092\n",
      "Epoch: 3: train loss: 1.9517606088220438\n",
      "Epoch: 4: train loss: 1.8822201097697846\n",
      "Epoch: 5: train loss: 1.8290694335630453\n",
      "Epoch: 6: train loss: 1.7828581040856173\n",
      "Epoch: 7: train loss: 1.7431714623086234\n",
      "Epoch: 8: train loss: 1.707344602293043\n",
      "Epoch: 9: train loss: 1.6747386765632548\n",
      "Epoch: 10: train loss: 1.6419245118398402\n"
     ]
    }
   ],
   "source": [
    "for epoch in range(1, num_epochs+1):\n",
    "    train_loss =0.0\n",
    "\n",
    "    for X, _ in train_loader:\n",
    "        opt.zero_grad()\n",
    "        outputs = model(X)\n",
    "        loss = F.mse_loss(outputs, X)\n",
    "        loss.backward()\n",
    "        opt.step()\n",
    "        train_loss += loss.item()*X.shape[0]\n",
    "    train_loss = train_loss / len(train_loader)\n",
    "    print(f'Epoch: {epoch}: train loss: {train_loss}')"
   ]
  },
  {
   "cell_type": "code",
   "execution_count": 155,
   "id": "9e2be676-f455-4dd2-a0bd-740a1a9e13f4",
   "metadata": {},
   "outputs": [],
   "source": [
    "# test\n",
    "val_loader = DataLoader(val_dataset, batch_size=8)\n",
    "images, labels = next(iter(val_loader))\n",
    "outputs = model(images)"
   ]
  },
  {
   "cell_type": "code",
   "execution_count": 158,
   "id": "303e5400-e89a-4d5d-91b6-e49d52400815",
   "metadata": {},
   "outputs": [
    {
     "data": {
      "text/plain": [
       "<matplotlib.image.AxesImage at 0x7fb0dc6e7b80>"
      ]
     },
     "execution_count": 158,
     "metadata": {},
     "output_type": "execute_result"
    },
    {
     "data": {
      "image/png": "[encoded data removed]",
      "text/plain": [
       "<Figure size 640x480 with 1 Axes>"
      ]
     },
     "metadata": {},
     "output_type": "display_data"
    }
   ],
   "source": [
    "images_grid = torchvision.utils.make_grid(images)\n",
    "outputs_grid = torchvision.utils.make_grid(outputs)\n",
    "# orignal image\n",
    "plt.imshow(torch.permute(images_grid, (1, 2, 0)))"
   ]
  },
  {
   "cell_type": "code",
   "execution_count": 159,
   "id": "31cdb323-9610-494a-bd85-61fe9b5c289c",
   "metadata": {},
   "outputs": [
    {
     "data": {
      "text/plain": [
       "<matplotlib.image.AxesImage at 0x7fb1257462e0>"
      ]
     },
     "execution_count": 159,
     "metadata": {},
     "output_type": "execute_result"
    },
    {
     "data": {
      "image/png": "[encoded data removed]",
      "text/plain": [
       "<Figure size 640x480 with 1 Axes>"
      ]
     },
     "metadata": {},
     "output_type": "display_data"
    }
   ],
   "source": [
    "plt.imshow(torch.permute(outputs_grid, (1, 2, 0)))"
   ]
  },
  {
   "cell_type": "code",
   "execution_count": null,
   "id": "dea9727a-900c-4513-aa19-d88f8cd49fdd",
   "metadata": {},
   "outputs": [],
   "source": []
  }
 ],
 "metadata": {
  "kernelspec": {
   "display_name": "Python 3 (ipykernel)",
   "language": "python",
   "name": "python3"
  },
  "language_info": {
   "codemirror_mode": {
    "name": "ipython",
    "version": 3
   },
   "file_extension": ".py",
   "mimetype": "text/x-python",
   "name": "python",
   "nbconvert_exporter": "python",
   "pygments_lexer": "ipython3",
   "version": "3.8.20"
  }
 },
 "nbformat": 4,
 "nbformat_minor": 5
}
