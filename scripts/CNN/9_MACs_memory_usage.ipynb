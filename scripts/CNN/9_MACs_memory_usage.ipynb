{
 "cells": [
  {
   "cell_type": "markdown",
   "id": "2fd1937e-51fb-4b82-a2e7-ef5195f36ab8",
   "metadata": {},
   "source": [
    "## MACs and Memory Usage"
   ]
  },
  {
   "cell_type": "markdown",
   "id": "f669676f-7819-49fc-a457-86651284fee1",
   "metadata": {},
   "source": [
    "### FLOPs and MACs\n",
    "\n",
    "FLOPs (Floating Point Operations) and MACs (Multiply-Accumulate Operations) are metrics that are commonly used to calculate the computation complexity of deep leaerning model. \n",
    "\n",
    "FLOPs specifically refer to the number of floating-point operations, which include addition, subtraction, multiplication, and division operations on floating-point numbers. FLOPs are often used to measure the computational cost or complexity of a modle or a specific operation within a model. \n",
    "\n",
    "MACs, on the other hand, only count the number of muliply-accumulate operations, which involve multiplying two numbers and adding the result. MACs are often used as a more specific measure of computational complexity in models that heavily rely on linear algebra operations, such as convolutional neural networks (CNNs).\n",
    "\n",
    "Example FLOPs:\n",
    "\n",
    "* The Input Image is of size 28x28x1 (grayscale)\n",
    "* run 2 Convolutions of 5 kernels of size (3x3)\n",
    "* run a Fully Connected Layer of 128 Neurons\n",
    "* finish with a Fully Connected Layer of 10 Neurons: 1 per digit.\n",
    "<img src=\"./rsc/flops1.png\" width=\"600\" height=\"800\">\n",
    "\n",
    "Calculate the FLOPs:\n",
    "\n",
    "* Convolutions - FLOPs = 2x Number of Kernel x Kernel Shape x Output Shape\n",
    "* Fully Connected Layers - FLOPs = 2x Input Size x Output Size\n",
    "\n",
    "  This counts each multiplications and addtions separately, hence the factor of 2.\n",
    "\n",
    "    * First Convolution - 2x5x(3x3)x26x26 = 60,840 FLOPs\n",
    "    * Second Convolution -2x5x(3x3x5)x24x24 = 259,200 FLOPs\n",
    "    * First FC Layer - 2x(24x24x5)x128 = 737,280 FLOPs\n",
    "    * Second FC Layer - 2x128x10 = 2,560 FLOPs\n",
    "\n",
    "\n",
    "<img src=\"./rsc/flops2.png\" width=\"600\" height=\"800\">\n",
    "\n",
    "**As a rule of thumb**\n",
    "$$\\text{1 MACs} \\approx \\text{2 FLOPs}$$\n",
    "\n",
    "* 1 MAC includes:\n",
    "    \n",
    "    * 1 multiplication (1 FLOP)\n",
    "    * 1 addition (1 FLOP)\n",
    "\n",
    "-> $1\\text{ MAC} = 1 \\text{ multiplication} + 1 \\text{ addition} = 2 \\text{ FLOPs}$\n",
    "\n",
    "Images from [How to Optimize a Deep Learning Model for faster Inference?](https://www.thinkautonomous.ai/blog/deep-learning-optimization/)"
   ]
  },
  {
   "cell_type": "code",
   "execution_count": 3,
   "id": "2b6071ff-78f6-4c5e-9d4a-b3b22e9e3846",
   "metadata": {},
   "outputs": [],
   "source": [
    "def calc_output_shape(layer, input_shape):\n",
    "    input=torch.randn(input_shape)\n",
    "    output = layer(input)\n",
    "    return tuple(output.shape)\n",
    "    \n",
    "def calc_macs_conv2d(layer, input_shape):\n",
    "    b, in_ch, in_h, in_w = input_shape\n",
    "    out_ch, _, f_h, f_w = layer.weight.shape\n",
    "\n",
    "    _,_, out_h, out_w = calc_output_shape(layer, input_shape)\n",
    "\n",
    "    macs = in_ch * out_ch * f_h * f_w * out_h * out_w\n",
    "\n",
    "    return macs\n",
    "\n",
    "def calc_macs_linear(layer, input_shape):\n",
    "    b, in_features = input_shape\n",
    "    out_features, _ = layer.weight.shape\n",
    "\n",
    "    macs = b * in_features * out_features\n",
    "\n",
    "    return macs"
   ]
  },
  {
   "cell_type": "code",
   "execution_count": 4,
   "id": "feeb2743-8e1c-4ccd-9b71-bf61917e2cf6",
   "metadata": {},
   "outputs": [],
   "source": [
    "import torch\n",
    "from torch import nn"
   ]
  },
  {
   "cell_type": "code",
   "execution_count": 5,
   "id": "4182fb35-6e7f-4df1-b005-9ab5d3f74ebb",
   "metadata": {},
   "outputs": [
    {
     "data": {
      "text/plain": [
       "torch.Size([1, 8, 126, 126])"
      ]
     },
     "execution_count": 5,
     "metadata": {},
     "output_type": "execute_result"
    }
   ],
   "source": [
    "input_shape = (1, 1, 128, 128)\n",
    "X = torch.randn(input_shape)\n",
    "layer = nn.Conv2d(1,8,kernel_size=3)\n",
    "output = layer(X)\n",
    "output.shape"
   ]
  },
  {
   "cell_type": "code",
   "execution_count": 6,
   "id": "52dd16b3-d5a6-4ddc-8d27-b41ff43653d4",
   "metadata": {},
   "outputs": [
    {
     "data": {
      "text/plain": [
       "torch.Size([1, 5, 26, 26])"
      ]
     },
     "execution_count": 6,
     "metadata": {},
     "output_type": "execute_result"
    }
   ],
   "source": [
    "input_shape = (1, 1, 28, 28)\n",
    "X = torch.randn(input_shape)\n",
    "layer = nn.Conv2d(1,5,kernel_size=3)\n",
    "output = layer(X)\n",
    "output.shape"
   ]
  },
  {
   "cell_type": "code",
   "execution_count": 7,
   "id": "0ed9a6a3-b154-48f9-adb5-6b3e5969ec96",
   "metadata": {},
   "outputs": [
    {
     "data": {
      "text/plain": [
       "30420"
      ]
     },
     "execution_count": 7,
     "metadata": {},
     "output_type": "execute_result"
    }
   ],
   "source": [
    "calc_macs_conv2d(layer, input_shape)"
   ]
  },
  {
   "cell_type": "code",
   "execution_count": 8,
   "id": "ab6f640c-2aab-498b-ae81-ae94dda8b0ef",
   "metadata": {},
   "outputs": [
    {
     "data": {
      "text/plain": [
       "640"
      ]
     },
     "execution_count": 8,
     "metadata": {},
     "output_type": "execute_result"
    }
   ],
   "source": [
    "linear_layer = nn.Linear(64,10)\n",
    "input_shape = (1, 64)\n",
    "calc_macs_linear(linear_layer, input_shape)"
   ]
  },
  {
   "attachments": {
    "bea5b775-00d8-4ff3-a4de-3a373b354129.png": {
     "image/png": "[encoded data removed]"
    }
   },
   "cell_type": "markdown",
   "id": "38587ba1-14b2-45d0-b8a2-1fb5ce4eff6e",
   "metadata": {},
   "source": [
    "### thop.profile()\n",
    "![image.png](attachment:bea5b775-00d8-4ff3-a4de-3a373b354129.png)\n",
    "> Welcome to the THOP repository, your comprehensive solution for profiling PyTorch models by computing the number of Multiply-Accumulate Operations (MACs) and parameters. This tool is essential for deep learning practitioners to evaluate model efficiency and performance.\n",
    "\n",
    "Installation:\n",
    "```python\n",
    "pip install ultralytics-thop\n",
    "```\n",
    "\n",
    "[THOP: PyTorch-OpCounter](https://github.com/ultralytics/thop)"
   ]
  },
  {
   "cell_type": "code",
   "execution_count": 9,
   "id": "e2e833b3-40a5-4e20-b6a1-d22f68e21078",
   "metadata": {},
   "outputs": [],
   "source": [
    "import thop"
   ]
  },
  {
   "cell_type": "code",
   "execution_count": 10,
   "id": "a3bbcc01-5a10-4fa3-a002-5e87ec802014",
   "metadata": {},
   "outputs": [
    {
     "name": "stdout",
     "output_type": "stream",
     "text": [
      "[INFO] Register count_convNd() for <class 'torch.nn.modules.conv.Conv2d'>.\n"
     ]
    },
    {
     "data": {
      "text/plain": [
       "30420.0"
      ]
     },
     "execution_count": 10,
     "metadata": {},
     "output_type": "execute_result"
    }
   ],
   "source": [
    "macs, params = thop.profile(layer, (X,))\n",
    "macs"
   ]
  },
  {
   "cell_type": "code",
   "execution_count": 13,
   "id": "ae8d5d33-ee6c-49de-b20a-362b5fe9ea63",
   "metadata": {},
   "outputs": [
    {
     "name": "stdout",
     "output_type": "stream",
     "text": [
      "[INFO] Register count_linear() for <class 'torch.nn.modules.linear.Linear'>.\n"
     ]
    },
    {
     "data": {
      "text/plain": [
       "640.0"
      ]
     },
     "execution_count": 13,
     "metadata": {},
     "output_type": "execute_result"
    }
   ],
   "source": [
    "linear_layer = nn.Linear(64,10)\n",
    "input_shape = (1, 64)\n",
    "X = torch.randn(input_shape)\n",
    "macs, params = thop.profile(linear_layer, (X,))\n",
    "macs"
   ]
  },
  {
   "cell_type": "markdown",
   "id": "fbed8b13-8981-4eb0-b1d6-60478f2ddf02",
   "metadata": {},
   "source": [
    "### Memory Usage\n",
    "\n",
    "Major memory usage:\n",
    "1. Model parameters\n",
    "2. Layer outputs\n",
    "3. Optimizer parameters:\n",
    "    * Adam: 1st order moment, 2nd order moment etc"
   ]
  },
  {
   "cell_type": "code",
   "execution_count": null,
   "id": "bf97fd2b-f85b-412e-b01a-8a62bcdc222b",
   "metadata": {},
   "outputs": [],
   "source": []
  }
 ],
 "metadata": {
  "kernelspec": {
   "display_name": "Python 3 (ipykernel)",
   "language": "python",
   "name": "python3"
  },
  "language_info": {
   "codemirror_mode": {
    "name": "ipython",
    "version": 3
   },
   "file_extension": ".py",
   "mimetype": "text/x-python",
   "name": "python",
   "nbconvert_exporter": "python",
   "pygments_lexer": "ipython3",
   "version": "3.8.20"
  }
 },
 "nbformat": 4,
 "nbformat_minor": 5
}
