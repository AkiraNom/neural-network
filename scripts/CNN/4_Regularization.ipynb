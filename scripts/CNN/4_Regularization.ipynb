{
 "cells": [
  {
   "cell_type": "markdown",
   "id": "162e62e8-bf4b-40fe-a028-3e824fa059ae",
   "metadata": {},
   "source": [
    "## Regularization"
   ]
  },
  {
   "cell_type": "markdown",
   "id": "0611ed87-e9e7-4f86-81f8-58eb0bb063aa",
   "metadata": {},
   "source": [
    "### Ridge and Lasso Regression\n",
    "\n",
    "Regularization is implemented to avoid overfitting of the data, expecially when there is a large variance between train and test set performance. \n",
    "\n",
    "Two common types of reguression/regularization in Machine Learning. <br>\n",
    "<img src=\"./rsc/Regularization.png\" width=\"600\" height=\"800\">\n",
    "\n",
    "* **Ridge regression (L2 regularization)**:\n",
    "Ridge regression puts a constraint on the coefficients by introducing a penality factors. This encourages all coefficients to reduce in size by an amount proportional to their values and reduces model complexity by shrinking large weights toward zero. Ridge regression decreases the complexity of a model but does not reduce the number of variables since it never leads to a coefficient been zero rather only minimize it.\n",
    "\n",
    "* **Lasso regression (L1 regularization)**: Lasso is used in feature selection using a shrinkage method. Lasso in comaprison to ridge will shrink the coefficients towards a zero-value allowing the model to remove less important features in a dataset. <br>\n",
    "\n",
    "    Lasso is short for **L**east **A**bsolute **S**hrinkage and **S**election **O**perator.\n",
    "\n",
    "\n",
    "### L2 & L1 Regularization in deep learning\n",
    "\n",
    "For L2 (popular regularization):\n",
    "    $$Costfucntion = Loss+\\frac{\\lambda}{2m}*\\sum{||w||^2}$$\n",
    "For L1:\n",
    "    $$Costfucntion = Loss+\\frac{\\lambda}{2m}*\\sum{||w||}$$\n",
    "Due to the addition of this regularization term, the values of weight matrices decrease because it assuems that a neural network with smaller weight matrices leads to simpler models. Therefor, it will also reduce overfitting."
   ]
  },
  {
   "cell_type": "code",
   "execution_count": 36,
   "id": "b1fa5f67-a290-4288-8088-311332d6eea3",
   "metadata": {},
   "outputs": [
    {
     "name": "stdout",
     "output_type": "stream",
     "text": [
      "The autoreload extension is already loaded. To reload it, use:\n",
      "  %reload_ext autoreload\n"
     ]
    }
   ],
   "source": [
    "import matplotlib.pyplot as plt\n",
    "import torch\n",
    "from torch import nn, optim\n",
    "from torch.nn import functional as F\n",
    "from torch.utils.data import DataLoader, Subset\n",
    "import torchvision\n",
    "from torchvision import transforms\n",
    "\n",
    "%load_ext autoreload \n",
    "%autoreload 2\n",
    "import utils"
   ]
  },
  {
   "cell_type": "code",
   "execution_count": 3,
   "id": "fa560f70-19b2-4616-a951-a3ab591b67f3",
   "metadata": {},
   "outputs": [],
   "source": [
    "X = torch.tensor([[1.,2.,3.],[4.,5.,6.]])"
   ]
  },
  {
   "cell_type": "code",
   "execution_count": 5,
   "id": "323d2a98-8506-4449-96fa-3ecefe5439b9",
   "metadata": {},
   "outputs": [
    {
     "data": {
      "text/plain": [
       "tensor(9.5394)"
      ]
     },
     "execution_count": 5,
     "metadata": {},
     "output_type": "execute_result"
    }
   ],
   "source": [
    "torch.linalg.norm(X)"
   ]
  },
  {
   "cell_type": "code",
   "execution_count": 17,
   "id": "eaa2bfa5-3249-4e1d-828e-8dab62c3b901",
   "metadata": {},
   "outputs": [
    {
     "name": "stdout",
     "output_type": "stream",
     "text": [
      "tensor(9.5394)\n",
      "tensor(True)\n"
     ]
    }
   ],
   "source": [
    "print(torch.sqrt(torch.sum(X**2)))\n",
    "print(torch.sqrt(torch.sum(X**2))==torch.linalg.norm(X))"
   ]
  },
  {
   "cell_type": "markdown",
   "id": "163a7629-0bcc-42cf-a0d5-0daec94d103c",
   "metadata": {},
   "source": [
    "#### example of usage"
   ]
  },
  {
   "cell_type": "code",
   "execution_count": 18,
   "id": "8203a454-8956-4044-9187-78c73a945f97",
   "metadata": {},
   "outputs": [],
   "source": [
    "# add this in learn class to update loss\n",
    "l2_reg = torch.tensor(0.)\n",
    "for name, param in conv_model.named_parameters():\n",
    "    # print(name, param)\n",
    "    if 'weight' in name:\n",
    "        l2_reg += torch.linalg.norm(param)**2\n",
    "# loss += (weight_decay / (2*m)) * l2_reg"
   ]
  },
  {
   "cell_type": "markdown",
   "id": "442cbeb8-ebdb-4825-b1f2-09b819576cec",
   "metadata": {},
   "source": [
    "#### L2 regulariztion in pytorch"
   ]
  },
  {
   "cell_type": "code",
   "execution_count": 19,
   "id": "673a9ae6-47ac-43b1-8bd3-0a97997ffeee",
   "metadata": {},
   "outputs": [
    {
     "data": {
      "text/plain": [
       "SGD (\n",
       "Parameter Group 0\n",
       "    dampening: 0\n",
       "    differentiable: False\n",
       "    foreach: None\n",
       "    fused: None\n",
       "    lr: 0.03\n",
       "    maximize: False\n",
       "    momentum: 0\n",
       "    nesterov: False\n",
       "    weight_decay: 0.01\n",
       ")"
      ]
     },
     "execution_count": 19,
     "metadata": {},
     "output_type": "execute_result"
    }
   ],
   "source": [
    "optim.SGD(conv_model.parameters(), lr=0.03, weight_decay=0.01)"
   ]
  },
  {
   "cell_type": "markdown",
   "id": "818ccb21-d6cd-43ff-ab2a-a45286e82458",
   "metadata": {},
   "source": [
    "### Effect of Regularization on Loss"
   ]
  },
  {
   "cell_type": "code",
   "execution_count": 32,
   "id": "05290bdb-d371-47cb-9539-73e59ceb5678",
   "metadata": {},
   "outputs": [
    {
     "name": "stdout",
     "output_type": "stream",
     "text": [
      "Files already downloaded and verified\n",
      "Files already downloaded and verified\n"
     ]
    }
   ],
   "source": [
    "transform = transforms.Compose([\n",
    "    transforms.ToTensor(),\n",
    "    transforms.Normalize(mean=(0.4914,0.4822,0.4465), std=(0.2023,0.1994,0.2010))\n",
    "])\n",
    "classes = ('plane', 'car', 'bird', 'cat','deer', \n",
    "           'dog', 'frog', 'horse', 'ship', 'truck')\n",
    "train_dataset=torchvision.datasets.CIFAR10(root=\"./data/cifar10_data\", train=True, download=True,transform=transform)\n",
    "val_dataset=torchvision.datasets.CIFAR10(root=\"./data/cifar10_data\", train=False, download=True,transform=transform)\n",
    "\n",
    "train_dataset_sub = Subset(train_dataset, range(2000))\n",
    "val_dataset_sub = Subset(val_dataset, range(1000))\n",
    "\n",
    "train_loader = DataLoader(train_dataset, batch_size=128, shuffle=True, num_workers=6)\n",
    "val_loader = DataLoader(val_dataset, batch_size=128, num_workers=6)\n"
   ]
  },
  {
   "cell_type": "code",
   "execution_count": 50,
   "id": "52793008-cbd7-4519-aeac-7b465b5055d6",
   "metadata": {},
   "outputs": [
    {
     "name": "stderr",
     "output_type": "stream",
     "text": [
      "                                                            "
     ]
    },
    {
     "name": "stdout",
     "output_type": "stream",
     "text": [
      "epoch: 0: train error: 2.301588617017507, validation error: 2.29025809070732, validation accuracy: 0.13212025316455697\n"
     ]
    },
    {
     "name": "stderr",
     "output_type": "stream",
     "text": [
      "                                                            "
     ]
    },
    {
     "name": "stdout",
     "output_type": "stream",
     "text": [
      "epoch: 1: train error: 2.208360404309714, validation error: 2.0976805430424363, validation accuracy: 0.2579113924050633\n"
     ]
    },
    {
     "name": "stderr",
     "output_type": "stream",
     "text": [
      "                                                            "
     ]
    },
    {
     "name": "stdout",
     "output_type": "stream",
     "text": [
      "epoch: 2: train error: 2.0338449252535926, validation error: 1.9673059137561653, validation accuracy: 0.29647943037974683\n"
     ]
    },
    {
     "name": "stderr",
     "output_type": "stream",
     "text": [
      "                                                            "
     ]
    },
    {
     "name": "stdout",
     "output_type": "stream",
     "text": [
      "epoch: 3: train error: 1.9554401569049378, validation error: 1.9066181077232844, validation accuracy: 0.30508306962025317\n"
     ]
    },
    {
     "name": "stderr",
     "output_type": "stream",
     "text": [
      "                                                            "
     ]
    },
    {
     "name": "stdout",
     "output_type": "stream",
     "text": [
      "epoch: 4: train error: 1.8958428878613445, validation error: 1.8585276709327214, validation accuracy: 0.31329113924050633\n"
     ]
    },
    {
     "name": "stderr",
     "output_type": "stream",
     "text": [
      "                                                            "
     ]
    },
    {
     "name": "stdout",
     "output_type": "stream",
     "text": [
      "epoch: 5: train error: 1.8304717370006434, validation error: 1.7695792581461653, validation accuracy: 0.36451740506329117\n"
     ]
    },
    {
     "name": "stderr",
     "output_type": "stream",
     "text": [
      "                                                            "
     ]
    },
    {
     "name": "stdout",
     "output_type": "stream",
     "text": [
      "epoch: 6: train error: 1.7689631290143104, validation error: 1.7411710883997664, validation accuracy: 0.3747033227848101\n"
     ]
    },
    {
     "name": "stderr",
     "output_type": "stream",
     "text": [
      "                                                            "
     ]
    },
    {
     "name": "stdout",
     "output_type": "stream",
     "text": [
      "epoch: 7: train error: 1.7205882285866896, validation error: 1.6562813897676105, validation accuracy: 0.4085245253164557\n"
     ]
    },
    {
     "name": "stderr",
     "output_type": "stream",
     "text": [
      "                                                            "
     ]
    },
    {
     "name": "stdout",
     "output_type": "stream",
     "text": [
      "epoch: 8: train error: 1.6692893041674133, validation error: 1.6355749911899808, validation accuracy: 0.41663370253164556\n"
     ]
    },
    {
     "name": "stderr",
     "output_type": "stream",
     "text": [
      "                                                            "
     ]
    },
    {
     "name": "stdout",
     "output_type": "stream",
     "text": [
      "epoch: 9: train error: 1.6188788545101196, validation error: 1.5699676305432864, validation accuracy: 0.44096123417721517\n"
     ]
    },
    {
     "name": "stderr",
     "output_type": "stream",
     "text": [
      "                                                            "
     ]
    },
    {
     "name": "stdout",
     "output_type": "stream",
     "text": [
      "epoch: 10: train error: 1.5774815527679364, validation error: 1.5420908943007263, validation accuracy: 0.45154272151898733\n"
     ]
    },
    {
     "name": "stderr",
     "output_type": "stream",
     "text": [
      "                                                            "
     ]
    },
    {
     "name": "stdout",
     "output_type": "stream",
     "text": [
      "epoch: 11: train error: 1.5396557573772147, validation error: 1.5128467294234265, validation accuracy: 0.46528876582278483\n"
     ]
    },
    {
     "name": "stderr",
     "output_type": "stream",
     "text": [
      "                                                            "
     ]
    },
    {
     "name": "stdout",
     "output_type": "stream",
     "text": [
      "epoch: 12: train error: 1.5099019827440268, validation error: 1.4870222203339203, validation accuracy: 0.4630142405063291\n"
     ]
    },
    {
     "name": "stderr",
     "output_type": "stream",
     "text": [
      "                                                            "
     ]
    },
    {
     "name": "stdout",
     "output_type": "stream",
     "text": [
      "epoch: 13: train error: 1.4844843158331673, validation error: 1.4709847305394426, validation accuracy: 0.4747824367088608\n"
     ]
    },
    {
     "name": "stderr",
     "output_type": "stream",
     "text": [
      "                                                            "
     ]
    },
    {
     "name": "stdout",
     "output_type": "stream",
     "text": [
      "epoch: 14: train error: 1.4631500445363466, validation error: 1.454613910445684, validation accuracy: 0.4780458860759494\n"
     ]
    },
    {
     "name": "stderr",
     "output_type": "stream",
     "text": [
      "                                                            "
     ]
    },
    {
     "name": "stdout",
     "output_type": "stream",
     "text": [
      "epoch: 15: train error: 1.446406462308391, validation error: 1.4310917959937566, validation accuracy: 0.4930775316455696\n"
     ]
    },
    {
     "name": "stderr",
     "output_type": "stream",
     "text": [
      "                                                            "
     ]
    },
    {
     "name": "stdout",
     "output_type": "stream",
     "text": [
      "epoch: 16: train error: 1.4247982026366017, validation error: 1.4063870891740051, validation accuracy: 0.4970332278481013\n"
     ]
    },
    {
     "name": "stderr",
     "output_type": "stream",
     "text": [
      "                                                            "
     ]
    },
    {
     "name": "stdout",
     "output_type": "stream",
     "text": [
      "epoch: 17: train error: 1.4086099527680966, validation error: 1.4392085286635388, validation accuracy: 0.49149525316455694\n"
     ]
    },
    {
     "name": "stderr",
     "output_type": "stream",
     "text": [
      "                                                            "
     ]
    },
    {
     "name": "stdout",
     "output_type": "stream",
     "text": [
      "epoch: 18: train error: 1.3939729492987514, validation error: 1.456409691255304, validation accuracy: 0.4764636075949367\n"
     ]
    },
    {
     "name": "stderr",
     "output_type": "stream",
     "text": [
      "                                                            "
     ]
    },
    {
     "name": "stdout",
     "output_type": "stream",
     "text": [
      "epoch: 19: train error: 1.3800027864363493, validation error: 1.356584387489512, validation accuracy: 0.5110759493670886\n"
     ]
    },
    {
     "name": "stderr",
     "output_type": "stream",
     "text": [
      "                                                            "
     ]
    },
    {
     "name": "stdout",
     "output_type": "stream",
     "text": [
      "epoch: 20: train error: 1.3597450978920589, validation error: 1.3385295188879665, validation accuracy: 0.5190862341772152\n"
     ]
    },
    {
     "name": "stderr",
     "output_type": "stream",
     "text": [
      "                                                            "
     ]
    },
    {
     "name": "stdout",
     "output_type": "stream",
     "text": [
      "epoch: 21: train error: 1.3492111485937368, validation error: 1.4174455841885338, validation accuracy: 0.4944620253164557\n"
     ]
    },
    {
     "name": "stderr",
     "output_type": "stream",
     "text": [
      "                                                            "
     ]
    },
    {
     "name": "stdout",
     "output_type": "stream",
     "text": [
      "epoch: 22: train error: 1.334177134287022, validation error: 1.3229733433904527, validation accuracy: 0.5278876582278481\n"
     ]
    },
    {
     "name": "stderr",
     "output_type": "stream",
     "text": [
      "                                                            "
     ]
    },
    {
     "name": "stdout",
     "output_type": "stream",
     "text": [
      "epoch: 23: train error: 1.3215079795369102, validation error: 1.322792584383035, validation accuracy: 0.5284810126582279\n"
     ]
    },
    {
     "name": "stderr",
     "output_type": "stream",
     "text": [
      "                                                            "
     ]
    },
    {
     "name": "stdout",
     "output_type": "stream",
     "text": [
      "epoch: 24: train error: 1.3100296454051572, validation error: 1.3454913051822517, validation accuracy: 0.5133504746835443\n"
     ]
    },
    {
     "name": "stderr",
     "output_type": "stream",
     "text": [
      "                                                            "
     ]
    },
    {
     "name": "stdout",
     "output_type": "stream",
     "text": [
      "epoch: 25: train error: 1.3009735879385869, validation error: 1.3325528328931784, validation accuracy: 0.5209651898734177\n"
     ]
    },
    {
     "name": "stderr",
     "output_type": "stream",
     "text": [
      "                                                            "
     ]
    },
    {
     "name": "stdout",
     "output_type": "stream",
     "text": [
      "epoch: 26: train error: 1.2885744678394875, validation error: 1.3103201494941228, validation accuracy: 0.5313488924050633\n"
     ]
    },
    {
     "name": "stderr",
     "output_type": "stream",
     "text": [
      "                                                            "
     ]
    },
    {
     "name": "stdout",
     "output_type": "stream",
     "text": [
      "epoch: 27: train error: 1.2835667770536965, validation error: 1.3446750052367584, validation accuracy: 0.5120648734177216\n"
     ]
    },
    {
     "name": "stderr",
     "output_type": "stream",
     "text": [
      "                                                            "
     ]
    },
    {
     "name": "stdout",
     "output_type": "stream",
     "text": [
      "epoch: 28: train error: 1.2716999236884934, validation error: 1.2983070008362396, validation accuracy: 0.5282832278481012\n"
     ]
    },
    {
     "name": "stderr",
     "output_type": "stream",
     "text": [
      "                                                            "
     ]
    },
    {
     "name": "stdout",
     "output_type": "stream",
     "text": [
      "epoch: 29: train error: 1.2676775644502372, validation error: 1.2914254363579085, validation accuracy: 0.5369857594936709\n"
     ]
    },
    {
     "name": "stderr",
     "output_type": "stream",
     "text": [
      "                                                            "
     ]
    },
    {
     "name": "stdout",
     "output_type": "stream",
     "text": [
      "epoch: 0: train error: 2.3048008665099475, validation error: 2.3018274699585346, validation accuracy: 0.09958465189873418\n"
     ]
    },
    {
     "name": "stderr",
     "output_type": "stream",
     "text": [
      "                                                            "
     ]
    },
    {
     "name": "stdout",
     "output_type": "stream",
     "text": [
      "epoch: 1: train error: 2.297365668484622, validation error: 2.2814454006243357, validation accuracy: 0.16257911392405064\n"
     ]
    },
    {
     "name": "stderr",
     "output_type": "stream",
     "text": [
      "                                                            "
     ]
    },
    {
     "name": "stdout",
     "output_type": "stream",
     "text": [
      "epoch: 2: train error: 2.1435648715099713, validation error: 2.049883410900454, validation accuracy: 0.22952927215189872\n"
     ]
    },
    {
     "name": "stderr",
     "output_type": "stream",
     "text": [
      "                                                            "
     ]
    },
    {
     "name": "stdout",
     "output_type": "stream",
     "text": [
      "epoch: 3: train error: 2.0181645295199226, validation error: 1.9398468008524254, validation accuracy: 0.2991495253164557\n"
     ]
    },
    {
     "name": "stderr",
     "output_type": "stream",
     "text": [
      "                                                            "
     ]
    },
    {
     "name": "stdout",
     "output_type": "stream",
     "text": [
      "epoch: 4: train error: 1.8949652885841897, validation error: 1.8228569498545006, validation accuracy: 0.3449367088607595\n"
     ]
    },
    {
     "name": "stderr",
     "output_type": "stream",
     "text": [
      "                                                            "
     ]
    },
    {
     "name": "stdout",
     "output_type": "stream",
     "text": [
      "epoch: 5: train error: 1.8068870016376075, validation error: 1.7449866035316564, validation accuracy: 0.3738132911392405\n"
     ]
    },
    {
     "name": "stderr",
     "output_type": "stream",
     "text": [
      "                                                            "
     ]
    },
    {
     "name": "stdout",
     "output_type": "stream",
     "text": [
      "epoch: 6: train error: 1.7416577211121465, validation error: 1.726001007647454, validation accuracy: 0.36787974683544306\n"
     ]
    },
    {
     "name": "stderr",
     "output_type": "stream",
     "text": [
      "                                                            "
     ]
    },
    {
     "name": "stdout",
     "output_type": "stream",
     "text": [
      "epoch: 7: train error: 1.688521551354157, validation error: 1.670112617408173, validation accuracy: 0.39655854430379744\n"
     ]
    },
    {
     "name": "stderr",
     "output_type": "stream",
     "text": [
      "                                                            "
     ]
    },
    {
     "name": "stdout",
     "output_type": "stream",
     "text": [
      "epoch: 8: train error: 1.6385987091552265, validation error: 1.6278211813938768, validation accuracy: 0.40971123417721517\n"
     ]
    },
    {
     "name": "stderr",
     "output_type": "stream",
     "text": [
      "                                                            "
     ]
    },
    {
     "name": "stdout",
     "output_type": "stream",
     "text": [
      "epoch: 9: train error: 1.602802592775096, validation error: 1.5751812910731835, validation accuracy: 0.42929193037974683\n"
     ]
    },
    {
     "name": "stderr",
     "output_type": "stream",
     "text": [
      "                                                            "
     ]
    },
    {
     "name": "stdout",
     "output_type": "stream",
     "text": [
      "epoch: 10: train error: 1.567145318631321, validation error: 1.556795073460929, validation accuracy: 0.43552215189873417\n"
     ]
    },
    {
     "name": "stderr",
     "output_type": "stream",
     "text": [
      "                                                            "
     ]
    },
    {
     "name": "stdout",
     "output_type": "stream",
     "text": [
      "epoch: 11: train error: 1.538308040260354, validation error: 1.50388847574403, validation accuracy: 0.45144382911392406\n"
     ]
    },
    {
     "name": "stderr",
     "output_type": "stream",
     "text": [
      "                                                            "
     ]
    },
    {
     "name": "stdout",
     "output_type": "stream",
     "text": [
      "epoch: 12: train error: 1.5117926070147463, validation error: 1.5632143337515336, validation accuracy: 0.43888449367088606\n"
     ]
    },
    {
     "name": "stderr",
     "output_type": "stream",
     "text": [
      "                                                            "
     ]
    },
    {
     "name": "stdout",
     "output_type": "stream",
     "text": [
      "epoch: 13: train error: 1.4946604034175044, validation error: 1.4914214429976065, validation accuracy: 0.4521360759493671\n"
     ]
    },
    {
     "name": "stderr",
     "output_type": "stream",
     "text": [
      "                                                            "
     ]
    },
    {
     "name": "stdout",
     "output_type": "stream",
     "text": [
      "epoch: 14: train error: 1.47279487881819, validation error: 1.523282675803462, validation accuracy: 0.4549050632911392\n"
     ]
    },
    {
     "name": "stderr",
     "output_type": "stream",
     "text": [
      "                                                            "
     ]
    },
    {
     "name": "stdout",
     "output_type": "stream",
     "text": [
      "epoch: 15: train error: 1.4569847663040356, validation error: 1.442798735220221, validation accuracy: 0.4747824367088608\n"
     ]
    },
    {
     "name": "stderr",
     "output_type": "stream",
     "text": [
      "                                                            "
     ]
    },
    {
     "name": "stdout",
     "output_type": "stream",
     "text": [
      "epoch: 16: train error: 1.4387137258754057, validation error: 1.439832943904249, validation accuracy: 0.4755735759493671\n"
     ]
    },
    {
     "name": "stderr",
     "output_type": "stream",
     "text": [
      "                                                            "
     ]
    },
    {
     "name": "stdout",
     "output_type": "stream",
     "text": [
      "epoch: 17: train error: 1.4223627318506655, validation error: 1.4095797236961654, validation accuracy: 0.4880340189873418\n"
     ]
    },
    {
     "name": "stderr",
     "output_type": "stream",
     "text": [
      "                                                            "
     ]
    },
    {
     "name": "stdout",
     "output_type": "stream",
     "text": [
      "epoch: 18: train error: 1.4111210821229783, validation error: 1.4406003001370007, validation accuracy: 0.486748417721519\n"
     ]
    },
    {
     "name": "stderr",
     "output_type": "stream",
     "text": [
      "                                                            "
     ]
    },
    {
     "name": "stdout",
     "output_type": "stream",
     "text": [
      "epoch: 19: train error: 1.3966955135545462, validation error: 1.385497043404398, validation accuracy: 0.49386867088607594\n"
     ]
    },
    {
     "name": "stderr",
     "output_type": "stream",
     "text": [
      "                                                            "
     ]
    },
    {
     "name": "stdout",
     "output_type": "stream",
     "text": [
      "epoch: 20: train error: 1.3832969662478514, validation error: 1.4355422379095344, validation accuracy: 0.48823180379746833\n"
     ]
    },
    {
     "name": "stderr",
     "output_type": "stream",
     "text": [
      "                                                            "
     ]
    },
    {
     "name": "stdout",
     "output_type": "stream",
     "text": [
      "epoch: 21: train error: 1.371894916914918, validation error: 1.3629636055306544, validation accuracy: 0.5122626582278481\n"
     ]
    },
    {
     "name": "stderr",
     "output_type": "stream",
     "text": [
      "                                                            "
     ]
    },
    {
     "name": "stdout",
     "output_type": "stream",
     "text": [
      "epoch: 22: train error: 1.3614966933379697, validation error: 1.3965430878385712, validation accuracy: 0.5020767405063291\n"
     ]
    },
    {
     "name": "stderr",
     "output_type": "stream",
     "text": [
      "                                                            "
     ]
    },
    {
     "name": "stdout",
     "output_type": "stream",
     "text": [
      "epoch: 23: train error: 1.349217036800921, validation error: 1.3648032749755472, validation accuracy: 0.5105814873417721\n"
     ]
    },
    {
     "name": "stderr",
     "output_type": "stream",
     "text": [
      "                                                            "
     ]
    },
    {
     "name": "stdout",
     "output_type": "stream",
     "text": [
      "epoch: 24: train error: 1.340368035199392, validation error: 1.354702530027945, validation accuracy: 0.5175039556962026\n"
     ]
    },
    {
     "name": "stderr",
     "output_type": "stream",
     "text": [
      "                                                            "
     ]
    },
    {
     "name": "stdout",
     "output_type": "stream",
     "text": [
      "epoch: 25: train error: 1.328859111537104, validation error: 1.4420334991020491, validation accuracy: 0.47933148734177217\n"
     ]
    },
    {
     "name": "stderr",
     "output_type": "stream",
     "text": [
      "                                                            "
     ]
    },
    {
     "name": "stdout",
     "output_type": "stream",
     "text": [
      "epoch: 26: train error: 1.3177707256258602, validation error: 1.344061496891553, validation accuracy: 0.517998417721519\n"
     ]
    },
    {
     "name": "stderr",
     "output_type": "stream",
     "text": [
      "                                                            "
     ]
    },
    {
     "name": "stdout",
     "output_type": "stream",
     "text": [
      "epoch: 27: train error: 1.3097898533277195, validation error: 1.3474076820325247, validation accuracy: 0.5204707278481012\n"
     ]
    },
    {
     "name": "stderr",
     "output_type": "stream",
     "text": [
      "                                                            "
     ]
    },
    {
     "name": "stdout",
     "output_type": "stream",
     "text": [
      "epoch: 28: train error: 1.3020588519323208, validation error: 1.3070484143269212, validation accuracy: 0.5311511075949367\n"
     ]
    },
    {
     "name": "stderr",
     "output_type": "stream",
     "text": [
      "                                                            "
     ]
    },
    {
     "name": "stdout",
     "output_type": "stream",
     "text": [
      "epoch: 29: train error: 1.2931108008260312, validation error: 1.3490713019914264, validation accuracy: 0.5105814873417721\n"
     ]
    },
    {
     "name": "stderr",
     "output_type": "stream",
     "text": [
      "\r"
     ]
    }
   ],
   "source": [
    "def get_conv_model():\n",
    "    return nn.Sequential(\n",
    "        # 1x30x30\n",
    "        nn.Conv2d(in_channels=3,out_channels=4, kernel_size=3, stride=2,padding=1), \n",
    "        nn.ReLU(),\n",
    "        # 4x15x15\n",
    "        nn.Conv2d(in_channels=4,out_channels=8, kernel_size=3, stride=2,padding=1), \n",
    "        nn.ReLU(),\n",
    "        # 8x7x7\n",
    "        nn.Conv2d(in_channels=8,out_channels=16, kernel_size=3, stride=2,padding=1), \n",
    "        nn.ReLU(),\n",
    "        # 16x4x4\n",
    "        nn.Conv2d(in_channels=16,out_channels=32, kernel_size=3, stride=2,padding=1), \n",
    "        nn.ReLU(),\n",
    "        # 32x2x2\n",
    "\n",
    "        # gap layer: 32x2x2 -> 32x1x1\n",
    "        nn.AdaptiveAvgPool2d(1),\n",
    "    \n",
    "        nn.Flatten(),\n",
    "        nn.Linear(32,10)\n",
    "        )\n",
    "\n",
    "conv_model = get_conv_model()\n",
    "conv_model_l2 = get_conv_model()\n",
    "\n",
    "opt =optim.SGD(conv_model.parameters(), lr=0.03)\n",
    "opt_l2 =optim.SGD(conv_model_l2.parameters(), lr=0.03, weight_decay=0.001)\n",
    "\n",
    "num_epoch = 30\n",
    "train_losses, val_losses, val_accuracies = utils.learn(conv_model, train_loader, val_loader, opt, F.cross_entropy, num_epoch=num_epoch)\n",
    "train_losses_l2, val_losses_l2, val_accuracies_l2= utils.learn(conv_model_l2, train_loader, val_loader, opt_l2, F.cross_entropy, num_epoch=num_epoch)"
   ]
  },
  {
   "cell_type": "code",
   "execution_count": 51,
   "id": "7d6c2070-0dec-46c4-8230-a8165b29fc20",
   "metadata": {},
   "outputs": [
    {
     "data": {
      "text/plain": [
       "<matplotlib.legend.Legend at 0x7ffaa75c8190>"
      ]
     },
     "execution_count": 51,
     "metadata": {},
     "output_type": "execute_result"
    },
    {
     "data": {
      "image/png": "[encoded data removed]",
      "text/plain": [
       "<Figure size 640x480 with 1 Axes>"
      ]
     },
     "metadata": {},
     "output_type": "display_data"
    }
   ],
   "source": [
    "plt.plot(train_losses, label='train loss without weight decay')\n",
    "plt.plot(train_losses_l2, label='train loss with weight decay')\n",
    "plt.xlabel('epoch')\n",
    "plt.ylabel('loss')\n",
    "plt.legend()"
   ]
  },
  {
   "cell_type": "code",
   "execution_count": 52,
   "id": "d0f30e38-23fd-4ba0-a58f-0fbabc2b48ac",
   "metadata": {},
   "outputs": [
    {
     "data": {
      "text/plain": [
       "<matplotlib.legend.Legend at 0x7ffaa76d1b80>"
      ]
     },
     "execution_count": 52,
     "metadata": {},
     "output_type": "execute_result"
    },
    {
     "data": {
      "image/png": "[encoded data removed]",
      "text/plain": [
       "<Figure size 640x480 with 1 Axes>"
      ]
     },
     "metadata": {},
     "output_type": "display_data"
    }
   ],
   "source": [
    "plt.plot(val_losses, label='val loss without weight decay')\n",
    "plt.plot(val_losses_l2, label='val loss with weight decay')\n",
    "plt.xlabel('epoch')\n",
    "plt.ylabel('loss')\n",
    "plt.legend()"
   ]
  },
  {
   "cell_type": "markdown",
   "id": "4a24e953-4aa1-4dd6-9f54-a44b4fab5729",
   "metadata": {},
   "source": [
    "### Dropout\n",
    "\n",
    "Dropout is a regularization technique used to prevent overfitting in deep learning. Randomly some fraction (defined by probability $p$) of a layer's input is deactivated or dropped out during training. Hence, all the forward and backwards connections with a dropped node are temporarily removed, thus creating a new network architecure out of the parent network. Dropout effectively reduces overfitting and improves generalization error in deep neural network. <br>\n",
    "\n",
    "You could also think about dropout as creating a kind of *ensemble* of networks.<br> \n",
    "\n",
    "Schematic image:\n",
    "<img src=\"./rsc/dropout.gif\" width=\"600\" height=\"800\">\n",
    "\n",
    "\n",
    "Dropout is usually appliced in FC layers.\n",
    "\n",
    "class `torch.nn.Dropout(p=0.5, inplace=False)`[source] <br>\n",
    "\n",
    ">During training, randomly zeroes some of the elements of the input tensor with probability p.\n",
    "\n",
    ">The zeroed elements are chosen independently for each forward call and are sampled from a Bernoulli distribution.\n",
    "\n",
    ">Each channel will be zeroed out independently on every forward call.\n",
    "\n",
    ">This has proven to be an effective technique for regularization and preventing the co-adaptation of neurons as described in the paper Improving neural networks by preventing co-adaptation of feature detectors .\n",
    "\n",
    "**Parameters**:\n",
    "* **p** (float) – probability of an element to be zeroed. Default: 0.5\n",
    "\n",
    "* **inplace** (bool) – If set to True, will do this operation in-place. Default: False\n",
    "\n",
    "Example:\n",
    "```python\n",
    "m = nn.Dropout(p=0.2)\n",
    "input = torch.randn(20, 16)\n",
    "output = m(input)\n",
    "```\n",
    "\n",
    "\n",
    "*reference*: [*Dropout*](https://pytorch.org/docs/stable/generated/torch.nn.Dropout.html)"
   ]
  },
  {
   "cell_type": "markdown",
   "id": "56b68227-1656-4ca1-9c36-8cd877aa8d65",
   "metadata": {},
   "source": [
    "### forward operation with dropout\n",
    "\n",
    "&emsp;$Z^{[l]}=A^{[l]}*W^{[l]T} + B^{[l]}$ <br>\n",
    "\n",
    "&emsp;$A^{[l]}=\\sigma(Z^{[l]})$ <br>\n",
    "\n",
    "dropout with probability of $p$,\n",
    "\n",
    "&emsp;$D^{[l]}\\sim Bernoulli(1-p)$\n",
    "\n",
    "&emsp;$A^{[l]} = A^{[l]} \\odot D^{[l]}$\n",
    "\n",
    "&emsp;$A^{[l]} = \\frac{A^{[l]}}{1-p}$"
   ]
  },
  {
   "cell_type": "markdown",
   "id": "47b86732-54b0-4885-9599-b33389c1690f",
   "metadata": {},
   "source": [
    "Idea of dropout\n",
    "\n",
    "`torch.rand` Returns random numbers from a uniform distribution on the interval [0,1). Using random numbers as a probability mask. \n",
    "\n",
    "If a value is smaller than 1-p, it returns True. If not, it returns False.\n",
    "\n",
    "Mutiplication of the mask with a tensor matrix randomly zeros out a fraction of probability of $p$ neurons. \n",
    "\n",
    "```python\n",
    "X= torch.rand(2,2) \n",
    "print(X)\n",
    "# tensor([[0.5067, 0.8568],\n",
    "#        [0.1400, 0.2250]])\n",
    "        \n",
    "p =0.2  # 20%\n",
    "mask = X<1-p\n",
    "\n",
    "print(mask)\n",
    "# tensor([[ True, False],\n",
    "#        [ True,  True]])\n",
    "\n",
    "print(mask * X)\n",
    "# tensor([[0.5067, 0.0000],\n",
    "#         [0.1400, 0.2250]])\n",
    "```"
   ]
  },
  {
   "cell_type": "code",
   "execution_count": 66,
   "id": "a31bcb4d-d983-415c-9d8b-f4e61cc33f83",
   "metadata": {},
   "outputs": [],
   "source": [
    "def dropout(X, drop_p):\n",
    "    keep_p = 1- drop_p\n",
    "    mask = torch.rand(X.shape) < keep_p\n",
    "    return X * mask / keep_p"
   ]
  },
  {
   "cell_type": "code",
   "execution_count": 75,
   "id": "dadd1273-6d43-46dc-b9bf-eee7cdc0bbfb",
   "metadata": {},
   "outputs": [],
   "source": [
    "p = 0.3\n",
    "X = torch.randn((100,100))\n",
    "dropped_X = dropout(X,p)"
   ]
  },
  {
   "cell_type": "code",
   "execution_count": 77,
   "id": "be6709b1-f35d-4801-8411-bf66a13b4a61",
   "metadata": {},
   "outputs": [
    {
     "name": "stdout",
     "output_type": "stream",
     "text": [
      "tensor(3974.7949)\n",
      "tensor(3964.6006)\n"
     ]
    }
   ],
   "source": [
    "def relu(X):\n",
    "    return torch.clamp(X, min=0)\n",
    "\n",
    "relu_out = relu(X)\n",
    "keep_p = 1 - p\n",
    "mask = torch.rand(X.shape) < keep_p\n",
    "print((relu_out * mask).sum() / keep_p)\n",
    "print(relu_out.sum())"
   ]
  },
  {
   "cell_type": "code",
   "execution_count": 74,
   "id": "e9e8e9dd-0654-4bf2-8238-7cbdfb0fa33b",
   "metadata": {},
   "outputs": [
    {
     "data": {
      "text/plain": [
       "Sequential(\n",
       "  (0): Linear(in_features=64, out_features=20, bias=True)\n",
       "  (1): ReLU()\n",
       "  (2): Dropout(p=0.04, inplace=False)\n",
       "  (3): Linear(in_features=20, out_features=10, bias=True)\n",
       ")"
      ]
     },
     "execution_count": 74,
     "metadata": {},
     "output_type": "execute_result"
    }
   ],
   "source": [
    "model = nn.Sequential(\n",
    "    nn.Linear(64,20),\n",
    "    nn.ReLU(),\n",
    "    nn.Dropout(p=0.04),\n",
    "    nn.Linear(20, 10)\n",
    ")\n",
    "model"
   ]
  },
  {
   "cell_type": "code",
   "execution_count": null,
   "id": "facb96a3-a768-4810-ac2a-fb75984c315f",
   "metadata": {},
   "outputs": [],
   "source": []
  }
 ],
 "metadata": {
  "kernelspec": {
   "display_name": "Python 3 (ipykernel)",
   "language": "python",
   "name": "python3"
  },
  "language_info": {
   "codemirror_mode": {
    "name": "ipython",
    "version": 3
   },
   "file_extension": ".py",
   "mimetype": "text/x-python",
   "name": "python",
   "nbconvert_exporter": "python",
   "pygments_lexer": "ipython3",
   "version": "3.8.20"
  }
 },
 "nbformat": 4,
 "nbformat_minor": 5
}
